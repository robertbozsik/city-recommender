{
 "cells": [
  {
   "cell_type": "markdown",
   "metadata": {},
   "source": [
    "# Exploratory data analysis"
   ]
  },
  {
   "cell_type": "code",
   "execution_count": 1,
   "metadata": {},
   "outputs": [],
   "source": [
    "import pandas as pd\n",
    "import numpy as np\n",
    "import seaborn as sns\n",
    "import matplotlib.pyplot as plt\n",
    "%matplotlib inline\n",
    "\n",
    "from sklearn.cluster import KMeans"
   ]
  },
  {
   "cell_type": "code",
   "execution_count": 2,
   "metadata": {},
   "outputs": [],
   "source": [
    "weather = pd.read_json(\"city-recommender/data/Seasonal_weather_data.json\")"
   ]
  },
  {
   "cell_type": "code",
   "execution_count": 3,
   "metadata": {},
   "outputs": [
    {
     "data": {
      "text/html": [
       "<div>\n",
       "<style scoped>\n",
       "    .dataframe tbody tr th:only-of-type {\n",
       "        vertical-align: middle;\n",
       "    }\n",
       "\n",
       "    .dataframe tbody tr th {\n",
       "        vertical-align: top;\n",
       "    }\n",
       "\n",
       "    .dataframe thead th {\n",
       "        text-align: right;\n",
       "    }\n",
       "</style>\n",
       "<table border=\"1\" class=\"dataframe\">\n",
       "  <thead>\n",
       "    <tr style=\"text-align: right;\">\n",
       "      <th></th>\n",
       "      <th>city</th>\n",
       "      <th>autumn_prec_mm</th>\n",
       "      <th>autumn_high</th>\n",
       "      <th>autumn_low</th>\n",
       "      <th>autumn_prec_days</th>\n",
       "      <th>autumn_sun_hrs</th>\n",
       "      <th>spring_prec_mm</th>\n",
       "      <th>spring_high</th>\n",
       "      <th>spring_low</th>\n",
       "      <th>spring_prec_days</th>\n",
       "      <th>...</th>\n",
       "      <th>summer_prec_mm</th>\n",
       "      <th>summer_high</th>\n",
       "      <th>summer_low</th>\n",
       "      <th>summer_prec_days</th>\n",
       "      <th>summer_sun_hrs</th>\n",
       "      <th>winter_prec_mm</th>\n",
       "      <th>winter_high</th>\n",
       "      <th>winter_low</th>\n",
       "      <th>winter_prec_days</th>\n",
       "      <th>winter_sun_hrs</th>\n",
       "    </tr>\n",
       "  </thead>\n",
       "  <tbody>\n",
       "    <tr>\n",
       "      <th>0</th>\n",
       "      <td>Amsterdam</td>\n",
       "      <td>85</td>\n",
       "      <td>14</td>\n",
       "      <td>7</td>\n",
       "      <td>17.0</td>\n",
       "      <td>98.0</td>\n",
       "      <td>49</td>\n",
       "      <td>13</td>\n",
       "      <td>5</td>\n",
       "      <td>15.0</td>\n",
       "      <td>...</td>\n",
       "      <td>64</td>\n",
       "      <td>21</td>\n",
       "      <td>12</td>\n",
       "      <td>13.0</td>\n",
       "      <td>203.0</td>\n",
       "      <td>60</td>\n",
       "      <td>6</td>\n",
       "      <td>1</td>\n",
       "      <td>16.0</td>\n",
       "      <td>59.0</td>\n",
       "    </tr>\n",
       "    <tr>\n",
       "      <th>1</th>\n",
       "      <td>Athens</td>\n",
       "      <td>37</td>\n",
       "      <td>23</td>\n",
       "      <td>16</td>\n",
       "      <td>8.0</td>\n",
       "      <td>212.0</td>\n",
       "      <td>27</td>\n",
       "      <td>20</td>\n",
       "      <td>12</td>\n",
       "      <td>9.0</td>\n",
       "      <td>...</td>\n",
       "      <td>6</td>\n",
       "      <td>31</td>\n",
       "      <td>22</td>\n",
       "      <td>2.0</td>\n",
       "      <td>347.0</td>\n",
       "      <td>51</td>\n",
       "      <td>14</td>\n",
       "      <td>8</td>\n",
       "      <td>13.0</td>\n",
       "      <td>131.0</td>\n",
       "    </tr>\n",
       "    <tr>\n",
       "      <th>2</th>\n",
       "      <td>Belgrade</td>\n",
       "      <td>48</td>\n",
       "      <td>18</td>\n",
       "      <td>8</td>\n",
       "      <td>7.0</td>\n",
       "      <td>153.0</td>\n",
       "      <td>60</td>\n",
       "      <td>18</td>\n",
       "      <td>8</td>\n",
       "      <td>9.0</td>\n",
       "      <td>...</td>\n",
       "      <td>69</td>\n",
       "      <td>26</td>\n",
       "      <td>16</td>\n",
       "      <td>8.0</td>\n",
       "      <td>266.0</td>\n",
       "      <td>50</td>\n",
       "      <td>5</td>\n",
       "      <td>-1</td>\n",
       "      <td>8.0</td>\n",
       "      <td>74.0</td>\n",
       "    </tr>\n",
       "    <tr>\n",
       "      <th>3</th>\n",
       "      <td>Berlin</td>\n",
       "      <td>44</td>\n",
       "      <td>13</td>\n",
       "      <td>6</td>\n",
       "      <td>9.0</td>\n",
       "      <td>109.0</td>\n",
       "      <td>45</td>\n",
       "      <td>13</td>\n",
       "      <td>4</td>\n",
       "      <td>9.0</td>\n",
       "      <td>...</td>\n",
       "      <td>63</td>\n",
       "      <td>23</td>\n",
       "      <td>12</td>\n",
       "      <td>10.0</td>\n",
       "      <td>219.0</td>\n",
       "      <td>45</td>\n",
       "      <td>3</td>\n",
       "      <td>-2</td>\n",
       "      <td>10.0</td>\n",
       "      <td>55.0</td>\n",
       "    </tr>\n",
       "    <tr>\n",
       "      <th>4</th>\n",
       "      <td>Bern</td>\n",
       "      <td>79</td>\n",
       "      <td>13</td>\n",
       "      <td>5</td>\n",
       "      <td>9.0</td>\n",
       "      <td>119.0</td>\n",
       "      <td>87</td>\n",
       "      <td>13</td>\n",
       "      <td>3</td>\n",
       "      <td>12.0</td>\n",
       "      <td>...</td>\n",
       "      <td>113</td>\n",
       "      <td>23</td>\n",
       "      <td>11</td>\n",
       "      <td>11.0</td>\n",
       "      <td>213.0</td>\n",
       "      <td>64</td>\n",
       "      <td>3</td>\n",
       "      <td>-3</td>\n",
       "      <td>10.0</td>\n",
       "      <td>64.0</td>\n",
       "    </tr>\n",
       "  </tbody>\n",
       "</table>\n",
       "<p>5 rows × 21 columns</p>\n",
       "</div>"
      ],
      "text/plain": [
       "        city  autumn_prec_mm  autumn_high  autumn_low  autumn_prec_days  \\\n",
       "0  Amsterdam              85           14           7              17.0   \n",
       "1     Athens              37           23          16               8.0   \n",
       "2   Belgrade              48           18           8               7.0   \n",
       "3     Berlin              44           13           6               9.0   \n",
       "4       Bern              79           13           5               9.0   \n",
       "\n",
       "   autumn_sun_hrs  spring_prec_mm  spring_high  spring_low  spring_prec_days  \\\n",
       "0            98.0              49           13           5              15.0   \n",
       "1           212.0              27           20          12               9.0   \n",
       "2           153.0              60           18           8               9.0   \n",
       "3           109.0              45           13           4               9.0   \n",
       "4           119.0              87           13           3              12.0   \n",
       "\n",
       "   ...  summer_prec_mm  summer_high  summer_low  summer_prec_days  \\\n",
       "0  ...              64           21          12              13.0   \n",
       "1  ...               6           31          22               2.0   \n",
       "2  ...              69           26          16               8.0   \n",
       "3  ...              63           23          12              10.0   \n",
       "4  ...             113           23          11              11.0   \n",
       "\n",
       "   summer_sun_hrs  winter_prec_mm  winter_high  winter_low  winter_prec_days  \\\n",
       "0           203.0              60            6           1              16.0   \n",
       "1           347.0              51           14           8              13.0   \n",
       "2           266.0              50            5          -1               8.0   \n",
       "3           219.0              45            3          -2              10.0   \n",
       "4           213.0              64            3          -3              10.0   \n",
       "\n",
       "   winter_sun_hrs  \n",
       "0            59.0  \n",
       "1           131.0  \n",
       "2            74.0  \n",
       "3            55.0  \n",
       "4            64.0  \n",
       "\n",
       "[5 rows x 21 columns]"
      ]
     },
     "execution_count": 3,
     "metadata": {},
     "output_type": "execute_result"
    }
   ],
   "source": [
    "weather.head()"
   ]
  },
  {
   "cell_type": "code",
   "execution_count": 4,
   "metadata": {},
   "outputs": [
    {
     "data": {
      "text/plain": [
       "city                0\n",
       "autumn_prec_mm      0\n",
       "autumn_high         0\n",
       "autumn_low          0\n",
       "autumn_prec_days    1\n",
       "autumn_sun_hrs      1\n",
       "spring_prec_mm      0\n",
       "spring_high         0\n",
       "spring_low          0\n",
       "spring_prec_days    1\n",
       "spring_sun_hrs      1\n",
       "summer_prec_mm      0\n",
       "summer_high         0\n",
       "summer_low          0\n",
       "summer_prec_days    1\n",
       "summer_sun_hrs      1\n",
       "winter_prec_mm      0\n",
       "winter_high         0\n",
       "winter_low          0\n",
       "winter_prec_days    1\n",
       "winter_sun_hrs      1\n",
       "dtype: int64"
      ]
     },
     "execution_count": 4,
     "metadata": {},
     "output_type": "execute_result"
    }
   ],
   "source": [
    "weather.isna().sum()"
   ]
  },
  {
   "cell_type": "code",
   "execution_count": 5,
   "metadata": {},
   "outputs": [
    {
     "data": {
      "text/html": [
       "<div>\n",
       "<style scoped>\n",
       "    .dataframe tbody tr th:only-of-type {\n",
       "        vertical-align: middle;\n",
       "    }\n",
       "\n",
       "    .dataframe tbody tr th {\n",
       "        vertical-align: top;\n",
       "    }\n",
       "\n",
       "    .dataframe thead th {\n",
       "        text-align: right;\n",
       "    }\n",
       "</style>\n",
       "<table border=\"1\" class=\"dataframe\">\n",
       "  <thead>\n",
       "    <tr style=\"text-align: right;\">\n",
       "      <th></th>\n",
       "      <th>city</th>\n",
       "      <th>autumn_prec_mm</th>\n",
       "      <th>autumn_high</th>\n",
       "      <th>autumn_low</th>\n",
       "      <th>autumn_prec_days</th>\n",
       "      <th>autumn_sun_hrs</th>\n",
       "      <th>spring_prec_mm</th>\n",
       "      <th>spring_high</th>\n",
       "      <th>spring_low</th>\n",
       "      <th>spring_prec_days</th>\n",
       "      <th>...</th>\n",
       "      <th>summer_prec_mm</th>\n",
       "      <th>summer_high</th>\n",
       "      <th>summer_low</th>\n",
       "      <th>summer_prec_days</th>\n",
       "      <th>summer_sun_hrs</th>\n",
       "      <th>winter_prec_mm</th>\n",
       "      <th>winter_high</th>\n",
       "      <th>winter_low</th>\n",
       "      <th>winter_prec_days</th>\n",
       "      <th>winter_sun_hrs</th>\n",
       "    </tr>\n",
       "  </thead>\n",
       "  <tbody>\n",
       "    <tr>\n",
       "      <th>17</th>\n",
       "      <td>Monaco</td>\n",
       "      <td>0</td>\n",
       "      <td>0</td>\n",
       "      <td>0</td>\n",
       "      <td>NaN</td>\n",
       "      <td>NaN</td>\n",
       "      <td>0</td>\n",
       "      <td>0</td>\n",
       "      <td>0</td>\n",
       "      <td>NaN</td>\n",
       "      <td>...</td>\n",
       "      <td>0</td>\n",
       "      <td>0</td>\n",
       "      <td>0</td>\n",
       "      <td>NaN</td>\n",
       "      <td>NaN</td>\n",
       "      <td>0</td>\n",
       "      <td>0</td>\n",
       "      <td>0</td>\n",
       "      <td>NaN</td>\n",
       "      <td>NaN</td>\n",
       "    </tr>\n",
       "  </tbody>\n",
       "</table>\n",
       "<p>1 rows × 21 columns</p>\n",
       "</div>"
      ],
      "text/plain": [
       "      city  autumn_prec_mm  autumn_high  autumn_low  autumn_prec_days  \\\n",
       "17  Monaco               0            0           0               NaN   \n",
       "\n",
       "    autumn_sun_hrs  spring_prec_mm  spring_high  spring_low  spring_prec_days  \\\n",
       "17             NaN               0            0           0               NaN   \n",
       "\n",
       "    ...  summer_prec_mm  summer_high  summer_low  summer_prec_days  \\\n",
       "17  ...               0            0           0               NaN   \n",
       "\n",
       "    summer_sun_hrs  winter_prec_mm  winter_high  winter_low  winter_prec_days  \\\n",
       "17             NaN               0            0           0               NaN   \n",
       "\n",
       "    winter_sun_hrs  \n",
       "17             NaN  \n",
       "\n",
       "[1 rows x 21 columns]"
      ]
     },
     "execution_count": 5,
     "metadata": {},
     "output_type": "execute_result"
    }
   ],
   "source": [
    "# Dropping Monaco because it has no data\n",
    "weather.loc[weather[\"autumn_prec_days\"].isna()]"
   ]
  },
  {
   "cell_type": "code",
   "execution_count": 6,
   "metadata": {},
   "outputs": [
    {
     "data": {
      "text/html": [
       "<div>\n",
       "<style scoped>\n",
       "    .dataframe tbody tr th:only-of-type {\n",
       "        vertical-align: middle;\n",
       "    }\n",
       "\n",
       "    .dataframe tbody tr th {\n",
       "        vertical-align: top;\n",
       "    }\n",
       "\n",
       "    .dataframe thead th {\n",
       "        text-align: right;\n",
       "    }\n",
       "</style>\n",
       "<table border=\"1\" class=\"dataframe\">\n",
       "  <thead>\n",
       "    <tr style=\"text-align: right;\">\n",
       "      <th></th>\n",
       "      <th>city</th>\n",
       "      <th>autumn_prec_mm</th>\n",
       "      <th>autumn_high</th>\n",
       "      <th>autumn_low</th>\n",
       "      <th>autumn_prec_days</th>\n",
       "      <th>autumn_sun_hrs</th>\n",
       "      <th>spring_prec_mm</th>\n",
       "      <th>spring_high</th>\n",
       "      <th>spring_low</th>\n",
       "      <th>spring_prec_days</th>\n",
       "      <th>...</th>\n",
       "      <th>summer_prec_mm</th>\n",
       "      <th>summer_high</th>\n",
       "      <th>summer_low</th>\n",
       "      <th>summer_prec_days</th>\n",
       "      <th>summer_sun_hrs</th>\n",
       "      <th>winter_prec_mm</th>\n",
       "      <th>winter_high</th>\n",
       "      <th>winter_low</th>\n",
       "      <th>winter_prec_days</th>\n",
       "      <th>winter_sun_hrs</th>\n",
       "    </tr>\n",
       "  </thead>\n",
       "  <tbody>\n",
       "    <tr>\n",
       "      <th>21</th>\n",
       "      <td>Prague</td>\n",
       "      <td>75</td>\n",
       "      <td>19</td>\n",
       "      <td>8</td>\n",
       "      <td>10.0</td>\n",
       "      <td>215.0</td>\n",
       "      <td>24</td>\n",
       "      <td>4</td>\n",
       "      <td>-3</td>\n",
       "      <td>6.0</td>\n",
       "      <td>...</td>\n",
       "      <td>35</td>\n",
       "      <td>11</td>\n",
       "      <td>1</td>\n",
       "      <td>7.0</td>\n",
       "      <td>153.0</td>\n",
       "      <td>40</td>\n",
       "      <td>7</td>\n",
       "      <td>0</td>\n",
       "      <td>8.0</td>\n",
       "      <td>106.0</td>\n",
       "    </tr>\n",
       "  </tbody>\n",
       "</table>\n",
       "<p>1 rows × 21 columns</p>\n",
       "</div>"
      ],
      "text/plain": [
       "      city  autumn_prec_mm  autumn_high  autumn_low  autumn_prec_days  \\\n",
       "21  Prague              75           19           8              10.0   \n",
       "\n",
       "    autumn_sun_hrs  spring_prec_mm  spring_high  spring_low  spring_prec_days  \\\n",
       "21           215.0              24            4          -3               6.0   \n",
       "\n",
       "    ...  summer_prec_mm  summer_high  summer_low  summer_prec_days  \\\n",
       "21  ...              35           11           1               7.0   \n",
       "\n",
       "    summer_sun_hrs  winter_prec_mm  winter_high  winter_low  winter_prec_days  \\\n",
       "21           153.0              40            7           0               8.0   \n",
       "\n",
       "    winter_sun_hrs  \n",
       "21           106.0  \n",
       "\n",
       "[1 rows x 21 columns]"
      ]
     },
     "execution_count": 6,
     "metadata": {},
     "output_type": "execute_result"
    }
   ],
   "source": [
    "# Dropping Prague because the data is inaccurate\n",
    "weather.loc[weather[\"city\"] == \"Prague\"]"
   ]
  },
  {
   "cell_type": "code",
   "execution_count": 7,
   "metadata": {},
   "outputs": [
    {
     "data": {
      "text/plain": [
       "city                0\n",
       "autumn_prec_mm      0\n",
       "autumn_high         0\n",
       "autumn_low          0\n",
       "autumn_prec_days    0\n",
       "autumn_sun_hrs      0\n",
       "spring_prec_mm      0\n",
       "spring_high         0\n",
       "spring_low          0\n",
       "spring_prec_days    0\n",
       "spring_sun_hrs      0\n",
       "summer_prec_mm      0\n",
       "summer_high         0\n",
       "summer_low          0\n",
       "summer_prec_days    0\n",
       "summer_sun_hrs      0\n",
       "winter_prec_mm      0\n",
       "winter_high         0\n",
       "winter_low          0\n",
       "winter_prec_days    0\n",
       "winter_sun_hrs      0\n",
       "dtype: int64"
      ]
     },
     "execution_count": 7,
     "metadata": {},
     "output_type": "execute_result"
    }
   ],
   "source": [
    "weather.drop([0,17]).reset_index(drop=True).isna().sum()"
   ]
  },
  {
   "cell_type": "code",
   "execution_count": 8,
   "metadata": {},
   "outputs": [],
   "source": [
    "weather = weather.drop(weather.index[[17,21]]).reset_index(drop=True)"
   ]
  },
  {
   "cell_type": "code",
   "execution_count": 9,
   "metadata": {},
   "outputs": [
    {
     "data": {
      "image/png": "[encoded data removed]",
      "text/plain": [
       "<Figure size 1296x432 with 2 Axes>"
      ]
     },
     "metadata": {
      "needs_background": "light"
     },
     "output_type": "display_data"
    }
   ],
   "source": [
    "fig, ax = plt.subplots(nrows=1,\n",
    "                       ncols=2,\n",
    "                       figsize=(18,6))\n",
    "\n",
    "sns.distplot(weather[\"summer_high\"], ax=ax[0]);\n",
    "ax[0].set_title(\"High temp\");\n",
    "\n",
    "sns.distplot(weather[\"summer_sun_hrs\"], ax=ax[1]);\n",
    "ax[1].set_title(\"sunshine hours\");\n",
    "\n",
    "plt.title(\"summer high\");"
   ]
  },
  {
   "cell_type": "code",
   "execution_count": 10,
   "metadata": {},
   "outputs": [],
   "source": [
    "summer_high_desc = weather.sort_values(\"summer_high\", ascending=False)"
   ]
  },
  {
   "cell_type": "code",
   "execution_count": 11,
   "metadata": {},
   "outputs": [
    {
     "data": {
      "image/png": "[encoded data removed]",
      "text/plain": [
       "<Figure size 1296x432 with 1 Axes>"
      ]
     },
     "metadata": {
      "needs_background": "light"
     },
     "output_type": "display_data"
    }
   ],
   "source": [
    "plt.subplots(figsize=(18,6))\n",
    "plt.bar(summer_high_desc[\"city\"], summer_high_desc[\"summer_high\"])\n",
    "plt.xticks(rotation=\"vertical\");\n",
    "\n",
    "# sns.barplot(x=\"city\", y=\"summer_high\", hue=\"summer_high\", data=weather);"
   ]
  },
  {
   "cell_type": "code",
   "execution_count": 12,
   "metadata": {},
   "outputs": [
    {
     "data": {
      "image/png": "[encoded data removed]",
      "text/plain": [
       "<Figure size 1296x432 with 1 Axes>"
      ]
     },
     "metadata": {
      "needs_background": "light"
     },
     "output_type": "display_data"
    }
   ],
   "source": [
    "summer_sun_desc = weather.sort_values(\"summer_sun_hrs\", ascending=False)\n",
    "\n",
    "plt.subplots(figsize=(18,6))\n",
    "plt.bar(summer_sun_desc[\"city\"], summer_sun_desc[\"summer_sun_hrs\"])\n",
    "plt.xticks(rotation=\"vertical\");\n"
   ]
  },
  {
   "cell_type": "code",
   "execution_count": 13,
   "metadata": {},
   "outputs": [
    {
     "data": {
      "text/html": [
       "<div>\n",
       "<style scoped>\n",
       "    .dataframe tbody tr th:only-of-type {\n",
       "        vertical-align: middle;\n",
       "    }\n",
       "\n",
       "    .dataframe tbody tr th {\n",
       "        vertical-align: top;\n",
       "    }\n",
       "\n",
       "    .dataframe thead th {\n",
       "        text-align: right;\n",
       "    }\n",
       "</style>\n",
       "<table border=\"1\" class=\"dataframe\">\n",
       "  <thead>\n",
       "    <tr style=\"text-align: right;\">\n",
       "      <th></th>\n",
       "      <th>city</th>\n",
       "      <th>autumn_prec_mm</th>\n",
       "      <th>autumn_high</th>\n",
       "      <th>autumn_low</th>\n",
       "      <th>autumn_prec_days</th>\n",
       "      <th>autumn_sun_hrs</th>\n",
       "      <th>spring_prec_mm</th>\n",
       "      <th>spring_high</th>\n",
       "      <th>spring_low</th>\n",
       "      <th>spring_prec_days</th>\n",
       "      <th>...</th>\n",
       "      <th>summer_prec_mm</th>\n",
       "      <th>summer_high</th>\n",
       "      <th>summer_low</th>\n",
       "      <th>summer_prec_days</th>\n",
       "      <th>summer_sun_hrs</th>\n",
       "      <th>winter_prec_mm</th>\n",
       "      <th>winter_high</th>\n",
       "      <th>winter_low</th>\n",
       "      <th>winter_prec_days</th>\n",
       "      <th>winter_sun_hrs</th>\n",
       "    </tr>\n",
       "  </thead>\n",
       "  <tbody>\n",
       "    <tr>\n",
       "      <th>17</th>\n",
       "      <td>Nicosia</td>\n",
       "      <td>21</td>\n",
       "      <td>28</td>\n",
       "      <td>15</td>\n",
       "      <td>4.0</td>\n",
       "      <td>273.0</td>\n",
       "      <td>29</td>\n",
       "      <td>24</td>\n",
       "      <td>11</td>\n",
       "      <td>5.0</td>\n",
       "      <td>...</td>\n",
       "      <td>5</td>\n",
       "      <td>36</td>\n",
       "      <td>21</td>\n",
       "      <td>1.0</td>\n",
       "      <td>384.0</td>\n",
       "      <td>54</td>\n",
       "      <td>16</td>\n",
       "      <td>6</td>\n",
       "      <td>11.0</td>\n",
       "      <td>187.0</td>\n",
       "    </tr>\n",
       "    <tr>\n",
       "      <th>1</th>\n",
       "      <td>Athens</td>\n",
       "      <td>37</td>\n",
       "      <td>23</td>\n",
       "      <td>16</td>\n",
       "      <td>8.0</td>\n",
       "      <td>212.0</td>\n",
       "      <td>27</td>\n",
       "      <td>20</td>\n",
       "      <td>12</td>\n",
       "      <td>9.0</td>\n",
       "      <td>...</td>\n",
       "      <td>6</td>\n",
       "      <td>31</td>\n",
       "      <td>22</td>\n",
       "      <td>2.0</td>\n",
       "      <td>347.0</td>\n",
       "      <td>51</td>\n",
       "      <td>14</td>\n",
       "      <td>8</td>\n",
       "      <td>13.0</td>\n",
       "      <td>131.0</td>\n",
       "    </tr>\n",
       "    <tr>\n",
       "      <th>16</th>\n",
       "      <td>Madrid</td>\n",
       "      <td>37</td>\n",
       "      <td>21</td>\n",
       "      <td>8</td>\n",
       "      <td>5.0</td>\n",
       "      <td>202.0</td>\n",
       "      <td>36</td>\n",
       "      <td>19</td>\n",
       "      <td>6</td>\n",
       "      <td>6.0</td>\n",
       "      <td>...</td>\n",
       "      <td>16</td>\n",
       "      <td>31</td>\n",
       "      <td>15</td>\n",
       "      <td>3.0</td>\n",
       "      <td>324.0</td>\n",
       "      <td>38</td>\n",
       "      <td>12</td>\n",
       "      <td>1</td>\n",
       "      <td>6.0</td>\n",
       "      <td>140.0</td>\n",
       "    </tr>\n",
       "    <tr>\n",
       "      <th>29</th>\n",
       "      <td>Valletta</td>\n",
       "      <td>70</td>\n",
       "      <td>24</td>\n",
       "      <td>17</td>\n",
       "      <td>8.0</td>\n",
       "      <td>229.0</td>\n",
       "      <td>24</td>\n",
       "      <td>20</td>\n",
       "      <td>12</td>\n",
       "      <td>6.0</td>\n",
       "      <td>...</td>\n",
       "      <td>3</td>\n",
       "      <td>30</td>\n",
       "      <td>20</td>\n",
       "      <td>1.0</td>\n",
       "      <td>355.0</td>\n",
       "      <td>87</td>\n",
       "      <td>16</td>\n",
       "      <td>10</td>\n",
       "      <td>13.0</td>\n",
       "      <td>169.0</td>\n",
       "    </tr>\n",
       "    <tr>\n",
       "      <th>28</th>\n",
       "      <td>Tirana</td>\n",
       "      <td>127</td>\n",
       "      <td>22</td>\n",
       "      <td>10</td>\n",
       "      <td>10.0</td>\n",
       "      <td>193.0</td>\n",
       "      <td>95</td>\n",
       "      <td>20</td>\n",
       "      <td>8</td>\n",
       "      <td>10.0</td>\n",
       "      <td>...</td>\n",
       "      <td>42</td>\n",
       "      <td>30</td>\n",
       "      <td>17</td>\n",
       "      <td>5.0</td>\n",
       "      <td>329.0</td>\n",
       "      <td>131</td>\n",
       "      <td>13</td>\n",
       "      <td>3</td>\n",
       "      <td>11.0</td>\n",
       "      <td>115.0</td>\n",
       "    </tr>\n",
       "  </tbody>\n",
       "</table>\n",
       "<p>5 rows × 21 columns</p>\n",
       "</div>"
      ],
      "text/plain": [
       "        city  autumn_prec_mm  autumn_high  autumn_low  autumn_prec_days  \\\n",
       "17   Nicosia              21           28          15               4.0   \n",
       "1     Athens              37           23          16               8.0   \n",
       "16    Madrid              37           21           8               5.0   \n",
       "29  Valletta              70           24          17               8.0   \n",
       "28    Tirana             127           22          10              10.0   \n",
       "\n",
       "    autumn_sun_hrs  spring_prec_mm  spring_high  spring_low  spring_prec_days  \\\n",
       "17           273.0              29           24          11               5.0   \n",
       "1            212.0              27           20          12               9.0   \n",
       "16           202.0              36           19           6               6.0   \n",
       "29           229.0              24           20          12               6.0   \n",
       "28           193.0              95           20           8              10.0   \n",
       "\n",
       "    ...  summer_prec_mm  summer_high  summer_low  summer_prec_days  \\\n",
       "17  ...               5           36          21               1.0   \n",
       "1   ...               6           31          22               2.0   \n",
       "16  ...              16           31          15               3.0   \n",
       "29  ...               3           30          20               1.0   \n",
       "28  ...              42           30          17               5.0   \n",
       "\n",
       "    summer_sun_hrs  winter_prec_mm  winter_high  winter_low  winter_prec_days  \\\n",
       "17           384.0              54           16           6              11.0   \n",
       "1            347.0              51           14           8              13.0   \n",
       "16           324.0              38           12           1               6.0   \n",
       "29           355.0              87           16          10              13.0   \n",
       "28           329.0             131           13           3              11.0   \n",
       "\n",
       "    winter_sun_hrs  \n",
       "17           187.0  \n",
       "1            131.0  \n",
       "16           140.0  \n",
       "29           169.0  \n",
       "28           115.0  \n",
       "\n",
       "[5 rows x 21 columns]"
      ]
     },
     "execution_count": 13,
     "metadata": {},
     "output_type": "execute_result"
    }
   ],
   "source": [
    "summer_high_desc.head()"
   ]
  },
  {
   "cell_type": "markdown",
   "metadata": {},
   "source": [
    "## 2. Kmeans Clustering"
   ]
  },
  {
   "cell_type": "code",
   "execution_count": 14,
   "metadata": {},
   "outputs": [
    {
     "data": {
      "text/plain": [
       "KMeans(n_clusters=3)"
      ]
     },
     "execution_count": 14,
     "metadata": {},
     "output_type": "execute_result"
    }
   ],
   "source": [
    "X = weather[[\"summer_sun_hrs\", \"summer_high\"]]\n",
    "clusters = KMeans(n_clusters=3)\n",
    "clusters.fit(X)"
   ]
  },
  {
   "cell_type": "code",
   "execution_count": 15,
   "metadata": {},
   "outputs": [
    {
     "data": {
      "text/plain": [
       "array([1, 2, 0, 1, 1, 0, 1, 0, 0, 1, 1, 0, 2, 0, 1, 1, 2, 2, 0, 1, 1, 0,\n",
       "       2, 1, 0, 0, 0, 0, 2, 2, 1, 1, 1, 0], dtype=int32)"
      ]
     },
     "execution_count": 15,
     "metadata": {},
     "output_type": "execute_result"
    }
   ],
   "source": [
    "clusters.predict(X)"
   ]
  },
  {
   "cell_type": "code",
   "execution_count": 16,
   "metadata": {},
   "outputs": [
    {
     "data": {
      "text/html": [
       "<div>\n",
       "<style scoped>\n",
       "    .dataframe tbody tr th:only-of-type {\n",
       "        vertical-align: middle;\n",
       "    }\n",
       "\n",
       "    .dataframe tbody tr th {\n",
       "        vertical-align: top;\n",
       "    }\n",
       "\n",
       "    .dataframe thead th {\n",
       "        text-align: right;\n",
       "    }\n",
       "</style>\n",
       "<table border=\"1\" class=\"dataframe\">\n",
       "  <thead>\n",
       "    <tr style=\"text-align: right;\">\n",
       "      <th></th>\n",
       "      <th>summer_sun_hrs</th>\n",
       "      <th>summer_high</th>\n",
       "      <th>cluster</th>\n",
       "    </tr>\n",
       "  </thead>\n",
       "  <tbody>\n",
       "    <tr>\n",
       "      <th>0</th>\n",
       "      <td>203.0</td>\n",
       "      <td>21</td>\n",
       "      <td>1</td>\n",
       "    </tr>\n",
       "    <tr>\n",
       "      <th>1</th>\n",
       "      <td>347.0</td>\n",
       "      <td>31</td>\n",
       "      <td>2</td>\n",
       "    </tr>\n",
       "    <tr>\n",
       "      <th>2</th>\n",
       "      <td>266.0</td>\n",
       "      <td>26</td>\n",
       "      <td>0</td>\n",
       "    </tr>\n",
       "    <tr>\n",
       "      <th>3</th>\n",
       "      <td>219.0</td>\n",
       "      <td>23</td>\n",
       "      <td>1</td>\n",
       "    </tr>\n",
       "    <tr>\n",
       "      <th>4</th>\n",
       "      <td>213.0</td>\n",
       "      <td>23</td>\n",
       "      <td>1</td>\n",
       "    </tr>\n",
       "    <tr>\n",
       "      <th>5</th>\n",
       "      <td>292.0</td>\n",
       "      <td>25</td>\n",
       "      <td>0</td>\n",
       "    </tr>\n",
       "    <tr>\n",
       "      <th>6</th>\n",
       "      <td>189.0</td>\n",
       "      <td>22</td>\n",
       "      <td>1</td>\n",
       "    </tr>\n",
       "    <tr>\n",
       "      <th>7</th>\n",
       "      <td>279.0</td>\n",
       "      <td>28</td>\n",
       "      <td>0</td>\n",
       "    </tr>\n",
       "    <tr>\n",
       "      <th>8</th>\n",
       "      <td>259.0</td>\n",
       "      <td>25</td>\n",
       "      <td>0</td>\n",
       "    </tr>\n",
       "    <tr>\n",
       "      <th>9</th>\n",
       "      <td>204.0</td>\n",
       "      <td>20</td>\n",
       "      <td>1</td>\n",
       "    </tr>\n",
       "    <tr>\n",
       "      <th>10</th>\n",
       "      <td>168.0</td>\n",
       "      <td>18</td>\n",
       "      <td>1</td>\n",
       "    </tr>\n",
       "    <tr>\n",
       "      <th>11</th>\n",
       "      <td>275.0</td>\n",
       "      <td>19</td>\n",
       "      <td>0</td>\n",
       "    </tr>\n",
       "    <tr>\n",
       "      <th>12</th>\n",
       "      <td>331.0</td>\n",
       "      <td>27</td>\n",
       "      <td>2</td>\n",
       "    </tr>\n",
       "    <tr>\n",
       "      <th>13</th>\n",
       "      <td>237.0</td>\n",
       "      <td>25</td>\n",
       "      <td>0</td>\n",
       "    </tr>\n",
       "    <tr>\n",
       "      <th>14</th>\n",
       "      <td>201.0</td>\n",
       "      <td>21</td>\n",
       "      <td>1</td>\n",
       "    </tr>\n",
       "    <tr>\n",
       "      <th>15</th>\n",
       "      <td>195.0</td>\n",
       "      <td>18</td>\n",
       "      <td>1</td>\n",
       "    </tr>\n",
       "    <tr>\n",
       "      <th>16</th>\n",
       "      <td>324.0</td>\n",
       "      <td>31</td>\n",
       "      <td>2</td>\n",
       "    </tr>\n",
       "    <tr>\n",
       "      <th>17</th>\n",
       "      <td>384.0</td>\n",
       "      <td>36</td>\n",
       "      <td>2</td>\n",
       "    </tr>\n",
       "    <tr>\n",
       "      <th>18</th>\n",
       "      <td>237.0</td>\n",
       "      <td>21</td>\n",
       "      <td>0</td>\n",
       "    </tr>\n",
       "    <tr>\n",
       "      <th>19</th>\n",
       "      <td>223.0</td>\n",
       "      <td>24</td>\n",
       "      <td>1</td>\n",
       "    </tr>\n",
       "    <tr>\n",
       "      <th>20</th>\n",
       "      <td>162.0</td>\n",
       "      <td>13</td>\n",
       "      <td>1</td>\n",
       "    </tr>\n",
       "    <tr>\n",
       "      <th>21</th>\n",
       "      <td>260.0</td>\n",
       "      <td>20</td>\n",
       "      <td>0</td>\n",
       "    </tr>\n",
       "    <tr>\n",
       "      <th>22</th>\n",
       "      <td>308.0</td>\n",
       "      <td>29</td>\n",
       "      <td>2</td>\n",
       "    </tr>\n",
       "    <tr>\n",
       "      <th>23</th>\n",
       "      <td>230.0</td>\n",
       "      <td>26</td>\n",
       "      <td>1</td>\n",
       "    </tr>\n",
       "    <tr>\n",
       "      <th>24</th>\n",
       "      <td>274.0</td>\n",
       "      <td>29</td>\n",
       "      <td>0</td>\n",
       "    </tr>\n",
       "    <tr>\n",
       "      <th>25</th>\n",
       "      <td>267.0</td>\n",
       "      <td>26</td>\n",
       "      <td>0</td>\n",
       "    </tr>\n",
       "    <tr>\n",
       "      <th>26</th>\n",
       "      <td>258.0</td>\n",
       "      <td>21</td>\n",
       "      <td>0</td>\n",
       "    </tr>\n",
       "    <tr>\n",
       "      <th>27</th>\n",
       "      <td>270.0</td>\n",
       "      <td>20</td>\n",
       "      <td>0</td>\n",
       "    </tr>\n",
       "    <tr>\n",
       "      <th>28</th>\n",
       "      <td>329.0</td>\n",
       "      <td>30</td>\n",
       "      <td>2</td>\n",
       "    </tr>\n",
       "    <tr>\n",
       "      <th>29</th>\n",
       "      <td>355.0</td>\n",
       "      <td>30</td>\n",
       "      <td>2</td>\n",
       "    </tr>\n",
       "    <tr>\n",
       "      <th>30</th>\n",
       "      <td>232.0</td>\n",
       "      <td>24</td>\n",
       "      <td>1</td>\n",
       "    </tr>\n",
       "    <tr>\n",
       "      <th>31</th>\n",
       "      <td>222.0</td>\n",
       "      <td>22</td>\n",
       "      <td>1</td>\n",
       "    </tr>\n",
       "    <tr>\n",
       "      <th>32</th>\n",
       "      <td>228.0</td>\n",
       "      <td>23</td>\n",
       "      <td>1</td>\n",
       "    </tr>\n",
       "    <tr>\n",
       "      <th>33</th>\n",
       "      <td>244.0</td>\n",
       "      <td>25</td>\n",
       "      <td>0</td>\n",
       "    </tr>\n",
       "  </tbody>\n",
       "</table>\n",
       "</div>"
      ],
      "text/plain": [
       "    summer_sun_hrs  summer_high  cluster\n",
       "0            203.0           21        1\n",
       "1            347.0           31        2\n",
       "2            266.0           26        0\n",
       "3            219.0           23        1\n",
       "4            213.0           23        1\n",
       "5            292.0           25        0\n",
       "6            189.0           22        1\n",
       "7            279.0           28        0\n",
       "8            259.0           25        0\n",
       "9            204.0           20        1\n",
       "10           168.0           18        1\n",
       "11           275.0           19        0\n",
       "12           331.0           27        2\n",
       "13           237.0           25        0\n",
       "14           201.0           21        1\n",
       "15           195.0           18        1\n",
       "16           324.0           31        2\n",
       "17           384.0           36        2\n",
       "18           237.0           21        0\n",
       "19           223.0           24        1\n",
       "20           162.0           13        1\n",
       "21           260.0           20        0\n",
       "22           308.0           29        2\n",
       "23           230.0           26        1\n",
       "24           274.0           29        0\n",
       "25           267.0           26        0\n",
       "26           258.0           21        0\n",
       "27           270.0           20        0\n",
       "28           329.0           30        2\n",
       "29           355.0           30        2\n",
       "30           232.0           24        1\n",
       "31           222.0           22        1\n",
       "32           228.0           23        1\n",
       "33           244.0           25        0"
      ]
     },
     "execution_count": 16,
     "metadata": {},
     "output_type": "execute_result"
    }
   ],
   "source": [
    "X.assign(cluster=clusters.predict(X))"
   ]
  },
  {
   "cell_type": "code",
   "execution_count": 17,
   "metadata": {},
   "outputs": [
    {
     "data": {
      "image/png": "[encoded data removed]",
      "text/plain": [
       "<Figure size 432x288 with 1 Axes>"
      ]
     },
     "metadata": {
      "needs_background": "light"
     },
     "output_type": "display_data"
    }
   ],
   "source": [
    "sns.scatterplot(data=X,\n",
    "                x=\"summer_sun_hrs\",\n",
    "                y=\"summer_high\",\n",
    "                hue=clusters.predict(X));"
   ]
  },
  {
   "cell_type": "markdown",
   "metadata": {},
   "source": [
    "## 3. Elbow plot - optimal no. of clusters "
   ]
  },
  {
   "cell_type": "code",
   "execution_count": 18,
   "metadata": {},
   "outputs": [],
   "source": [
    "def plot_elbow(X):\n",
    "    inertias = {}\n",
    "    for k in range(1,15):\n",
    "        cl = KMeans(n_clusters=k).fit(X)\n",
    "        inertias[k] = cl.inertia_\n",
    "\n",
    "    plt.figure(figsize=(10,6))\n",
    "    sns.lineplot(x=list(inertias.keys()),\n",
    "                 y=list(inertias.values()));\n",
    "    plt.title(\"Optimal number of clusters\")"
   ]
  },
  {
   "cell_type": "code",
   "execution_count": 19,
   "metadata": {},
   "outputs": [
    {
     "data": {
      "image/png": "[encoded data removed]",
      "text/plain": [
       "<Figure size 720x432 with 1 Axes>"
      ]
     },
     "metadata": {
      "needs_background": "light"
     },
     "output_type": "display_data"
    }
   ],
   "source": [
    "plot_elbow(X)"
   ]
  },
  {
   "cell_type": "code",
   "execution_count": 20,
   "metadata": {},
   "outputs": [
    {
     "data": {
      "text/html": [
       "<div>\n",
       "<style scoped>\n",
       "    .dataframe tbody tr th:only-of-type {\n",
       "        vertical-align: middle;\n",
       "    }\n",
       "\n",
       "    .dataframe tbody tr th {\n",
       "        vertical-align: top;\n",
       "    }\n",
       "\n",
       "    .dataframe thead th {\n",
       "        text-align: right;\n",
       "    }\n",
       "</style>\n",
       "<table border=\"1\" class=\"dataframe\">\n",
       "  <thead>\n",
       "    <tr style=\"text-align: right;\">\n",
       "      <th></th>\n",
       "      <th>city</th>\n",
       "      <th>cluster</th>\n",
       "    </tr>\n",
       "  </thead>\n",
       "  <tbody>\n",
       "    <tr>\n",
       "      <th>0</th>\n",
       "      <td>Amsterdam</td>\n",
       "      <td>1</td>\n",
       "    </tr>\n",
       "    <tr>\n",
       "      <th>1</th>\n",
       "      <td>Athens</td>\n",
       "      <td>2</td>\n",
       "    </tr>\n",
       "    <tr>\n",
       "      <th>2</th>\n",
       "      <td>Belgrade</td>\n",
       "      <td>0</td>\n",
       "    </tr>\n",
       "    <tr>\n",
       "      <th>3</th>\n",
       "      <td>Berlin</td>\n",
       "      <td>1</td>\n",
       "    </tr>\n",
       "    <tr>\n",
       "      <th>4</th>\n",
       "      <td>Bern</td>\n",
       "      <td>1</td>\n",
       "    </tr>\n",
       "  </tbody>\n",
       "</table>\n",
       "</div>"
      ],
      "text/plain": [
       "        city  cluster\n",
       "0  Amsterdam        1\n",
       "1     Athens        2\n",
       "2   Belgrade        0\n",
       "3     Berlin        1\n",
       "4       Bern        1"
      ]
     },
     "execution_count": 20,
     "metadata": {},
     "output_type": "execute_result"
    }
   ],
   "source": [
    "weather2 = weather.assign(cluster=clusters.predict(X))\n",
    "weather2[[\"city\", \"cluster\"]].head()"
   ]
  },
  {
   "cell_type": "code",
   "execution_count": 21,
   "metadata": {},
   "outputs": [],
   "source": [
    "cluster0 = weather2.loc[weather2[\"cluster\"] == 0]\n",
    "clu_0 = list(cluster0[\"city\"])"
   ]
  },
  {
   "cell_type": "code",
   "execution_count": 22,
   "metadata": {},
   "outputs": [],
   "source": [
    "cluster1 = weather2.loc[weather2[\"cluster\"] == 1]\n",
    "clu_1 = list(cluster1[\"city\"])"
   ]
  },
  {
   "cell_type": "code",
   "execution_count": 23,
   "metadata": {},
   "outputs": [],
   "source": [
    "cluster2 = weather2.loc[weather2[\"cluster\"] == 2]\n",
    "clu_2 = list(cluster2[\"city\"])"
   ]
  },
  {
   "cell_type": "markdown",
   "metadata": {},
   "source": [
    "These are the clusters for summer in terms of sunshine hours and high temperatures. Cities are grouped by the most similar summers."
   ]
  },
  {
   "cell_type": "code",
   "execution_count": 24,
   "metadata": {},
   "outputs": [
    {
     "name": "stdout",
     "output_type": "stream",
     "text": [
      "['Belgrade', 'Bratislava', 'Bucharest', 'Budapest', 'Helsinki', 'Ljubljana', 'Oslo', 'Riga', 'Skopje', 'Sofia', 'Stockholm', 'Tallinn', 'Zagreb']\n",
      "--------------------------------------------------------------------------------------------\n",
      "['Amsterdam', 'Berlin', 'Bern', 'Brussels', 'Copenhagen', 'Dublin', 'London', 'Luxembourg', 'Paris', 'Reykjavik', 'Sarajevo', 'Vienna', 'Vilnius', 'Warsaw']\n",
      "--------------------------------------------------------------------------------------------\n",
      "['Athens', 'Lisbon', 'Madrid', 'Nicosia', 'Rome', 'Tirana', 'Valletta']\n"
     ]
    }
   ],
   "source": [
    "print(clu_0)\n",
    "print(\"--------------------------------------------------------------------------------------------\")\n",
    "print(clu_1)\n",
    "print(\"--------------------------------------------------------------------------------------------\")\n",
    "print(clu_2)"
   ]
  },
  {
   "cell_type": "markdown",
   "metadata": {},
   "source": [
    "## 4. Trying similar clustering for winter"
   ]
  },
  {
   "cell_type": "code",
   "execution_count": 25,
   "metadata": {},
   "outputs": [
    {
     "data": {
      "text/plain": [
       "Index(['city', 'autumn_prec_mm', 'autumn_high', 'autumn_low',\n",
       "       'autumn_prec_days', 'autumn_sun_hrs', 'spring_prec_mm', 'spring_high',\n",
       "       'spring_low', 'spring_prec_days', 'spring_sun_hrs', 'summer_prec_mm',\n",
       "       'summer_high', 'summer_low', 'summer_prec_days', 'summer_sun_hrs',\n",
       "       'winter_prec_mm', 'winter_high', 'winter_low', 'winter_prec_days',\n",
       "       'winter_sun_hrs'],\n",
       "      dtype='object')"
      ]
     },
     "execution_count": 25,
     "metadata": {},
     "output_type": "execute_result"
    }
   ],
   "source": [
    "weather.columns"
   ]
  },
  {
   "cell_type": "code",
   "execution_count": 26,
   "metadata": {},
   "outputs": [
    {
     "data": {
      "text/plain": [
       "KMeans(n_clusters=4)"
      ]
     },
     "execution_count": 26,
     "metadata": {},
     "output_type": "execute_result"
    }
   ],
   "source": [
    "X2 = weather[[\"winter_sun_hrs\", \"winter_high\"]]\n",
    "clusters = KMeans(n_clusters=4)\n",
    "clusters.fit(X2)"
   ]
  },
  {
   "cell_type": "code",
   "execution_count": 27,
   "metadata": {},
   "outputs": [
    {
     "data": {
      "image/png": "[encoded data removed]",
      "text/plain": [
       "<Figure size 720x432 with 1 Axes>"
      ]
     },
     "metadata": {
      "needs_background": "light"
     },
     "output_type": "display_data"
    }
   ],
   "source": [
    "plot_elbow(X2)"
   ]
  },
  {
   "cell_type": "code",
   "execution_count": 28,
   "metadata": {},
   "outputs": [
    {
     "data": {
      "text/plain": [
       "array([1, 0, 1, 1, 1, 1, 1, 1, 1, 3, 1, 3, 0, 1, 1, 1, 0, 2, 3, 1, 3, 3,\n",
       "       0, 1, 1, 1, 3, 3, 0, 2, 1, 3, 3, 1], dtype=int32)"
      ]
     },
     "execution_count": 28,
     "metadata": {},
     "output_type": "execute_result"
    }
   ],
   "source": [
    "clusters.predict(X2)"
   ]
  },
  {
   "cell_type": "code",
   "execution_count": 29,
   "metadata": {},
   "outputs": [
    {
     "data": {
      "text/html": [
       "<div>\n",
       "<style scoped>\n",
       "    .dataframe tbody tr th:only-of-type {\n",
       "        vertical-align: middle;\n",
       "    }\n",
       "\n",
       "    .dataframe tbody tr th {\n",
       "        vertical-align: top;\n",
       "    }\n",
       "\n",
       "    .dataframe thead th {\n",
       "        text-align: right;\n",
       "    }\n",
       "</style>\n",
       "<table border=\"1\" class=\"dataframe\">\n",
       "  <thead>\n",
       "    <tr style=\"text-align: right;\">\n",
       "      <th></th>\n",
       "      <th>city</th>\n",
       "      <th>cluster</th>\n",
       "    </tr>\n",
       "  </thead>\n",
       "  <tbody>\n",
       "    <tr>\n",
       "      <th>0</th>\n",
       "      <td>Amsterdam</td>\n",
       "      <td>1</td>\n",
       "    </tr>\n",
       "    <tr>\n",
       "      <th>1</th>\n",
       "      <td>Athens</td>\n",
       "      <td>0</td>\n",
       "    </tr>\n",
       "    <tr>\n",
       "      <th>2</th>\n",
       "      <td>Belgrade</td>\n",
       "      <td>1</td>\n",
       "    </tr>\n",
       "    <tr>\n",
       "      <th>3</th>\n",
       "      <td>Berlin</td>\n",
       "      <td>1</td>\n",
       "    </tr>\n",
       "    <tr>\n",
       "      <th>4</th>\n",
       "      <td>Bern</td>\n",
       "      <td>1</td>\n",
       "    </tr>\n",
       "    <tr>\n",
       "      <th>5</th>\n",
       "      <td>Bratislava</td>\n",
       "      <td>1</td>\n",
       "    </tr>\n",
       "    <tr>\n",
       "      <th>6</th>\n",
       "      <td>Brussels</td>\n",
       "      <td>1</td>\n",
       "    </tr>\n",
       "    <tr>\n",
       "      <th>7</th>\n",
       "      <td>Bucharest</td>\n",
       "      <td>1</td>\n",
       "    </tr>\n",
       "    <tr>\n",
       "      <th>8</th>\n",
       "      <td>Budapest</td>\n",
       "      <td>1</td>\n",
       "    </tr>\n",
       "    <tr>\n",
       "      <th>9</th>\n",
       "      <td>Copenhagen</td>\n",
       "      <td>3</td>\n",
       "    </tr>\n",
       "    <tr>\n",
       "      <th>10</th>\n",
       "      <td>Dublin</td>\n",
       "      <td>1</td>\n",
       "    </tr>\n",
       "    <tr>\n",
       "      <th>11</th>\n",
       "      <td>Helsinki</td>\n",
       "      <td>3</td>\n",
       "    </tr>\n",
       "    <tr>\n",
       "      <th>12</th>\n",
       "      <td>Lisbon</td>\n",
       "      <td>0</td>\n",
       "    </tr>\n",
       "    <tr>\n",
       "      <th>13</th>\n",
       "      <td>Ljubljana</td>\n",
       "      <td>1</td>\n",
       "    </tr>\n",
       "    <tr>\n",
       "      <th>14</th>\n",
       "      <td>London</td>\n",
       "      <td>1</td>\n",
       "    </tr>\n",
       "    <tr>\n",
       "      <th>15</th>\n",
       "      <td>Luxembourg</td>\n",
       "      <td>1</td>\n",
       "    </tr>\n",
       "    <tr>\n",
       "      <th>16</th>\n",
       "      <td>Madrid</td>\n",
       "      <td>0</td>\n",
       "    </tr>\n",
       "    <tr>\n",
       "      <th>17</th>\n",
       "      <td>Nicosia</td>\n",
       "      <td>2</td>\n",
       "    </tr>\n",
       "    <tr>\n",
       "      <th>18</th>\n",
       "      <td>Oslo</td>\n",
       "      <td>3</td>\n",
       "    </tr>\n",
       "    <tr>\n",
       "      <th>19</th>\n",
       "      <td>Paris</td>\n",
       "      <td>1</td>\n",
       "    </tr>\n",
       "    <tr>\n",
       "      <th>20</th>\n",
       "      <td>Reykjavik</td>\n",
       "      <td>3</td>\n",
       "    </tr>\n",
       "    <tr>\n",
       "      <th>21</th>\n",
       "      <td>Riga</td>\n",
       "      <td>3</td>\n",
       "    </tr>\n",
       "    <tr>\n",
       "      <th>22</th>\n",
       "      <td>Rome</td>\n",
       "      <td>0</td>\n",
       "    </tr>\n",
       "    <tr>\n",
       "      <th>23</th>\n",
       "      <td>Sarajevo</td>\n",
       "      <td>1</td>\n",
       "    </tr>\n",
       "    <tr>\n",
       "      <th>24</th>\n",
       "      <td>Skopje</td>\n",
       "      <td>1</td>\n",
       "    </tr>\n",
       "    <tr>\n",
       "      <th>25</th>\n",
       "      <td>Sofia</td>\n",
       "      <td>1</td>\n",
       "    </tr>\n",
       "    <tr>\n",
       "      <th>26</th>\n",
       "      <td>Stockholm</td>\n",
       "      <td>3</td>\n",
       "    </tr>\n",
       "    <tr>\n",
       "      <th>27</th>\n",
       "      <td>Tallinn</td>\n",
       "      <td>3</td>\n",
       "    </tr>\n",
       "    <tr>\n",
       "      <th>28</th>\n",
       "      <td>Tirana</td>\n",
       "      <td>0</td>\n",
       "    </tr>\n",
       "    <tr>\n",
       "      <th>29</th>\n",
       "      <td>Valletta</td>\n",
       "      <td>2</td>\n",
       "    </tr>\n",
       "    <tr>\n",
       "      <th>30</th>\n",
       "      <td>Vienna</td>\n",
       "      <td>1</td>\n",
       "    </tr>\n",
       "    <tr>\n",
       "      <th>31</th>\n",
       "      <td>Vilnius</td>\n",
       "      <td>3</td>\n",
       "    </tr>\n",
       "    <tr>\n",
       "      <th>32</th>\n",
       "      <td>Warsaw</td>\n",
       "      <td>3</td>\n",
       "    </tr>\n",
       "    <tr>\n",
       "      <th>33</th>\n",
       "      <td>Zagreb</td>\n",
       "      <td>1</td>\n",
       "    </tr>\n",
       "  </tbody>\n",
       "</table>\n",
       "</div>"
      ],
      "text/plain": [
       "          city  cluster\n",
       "0    Amsterdam        1\n",
       "1       Athens        0\n",
       "2     Belgrade        1\n",
       "3       Berlin        1\n",
       "4         Bern        1\n",
       "5   Bratislava        1\n",
       "6     Brussels        1\n",
       "7    Bucharest        1\n",
       "8     Budapest        1\n",
       "9   Copenhagen        3\n",
       "10      Dublin        1\n",
       "11    Helsinki        3\n",
       "12      Lisbon        0\n",
       "13   Ljubljana        1\n",
       "14      London        1\n",
       "15  Luxembourg        1\n",
       "16      Madrid        0\n",
       "17     Nicosia        2\n",
       "18        Oslo        3\n",
       "19       Paris        1\n",
       "20   Reykjavik        3\n",
       "21        Riga        3\n",
       "22        Rome        0\n",
       "23    Sarajevo        1\n",
       "24      Skopje        1\n",
       "25       Sofia        1\n",
       "26   Stockholm        3\n",
       "27     Tallinn        3\n",
       "28      Tirana        0\n",
       "29    Valletta        2\n",
       "30      Vienna        1\n",
       "31     Vilnius        3\n",
       "32      Warsaw        3\n",
       "33      Zagreb        1"
      ]
     },
     "execution_count": 29,
     "metadata": {},
     "output_type": "execute_result"
    }
   ],
   "source": [
    "weather3 = weather.assign(cluster=clusters.predict(X2))\n",
    "weather3[[\"city\", \"cluster\"]]"
   ]
  },
  {
   "cell_type": "code",
   "execution_count": 30,
   "metadata": {},
   "outputs": [
    {
     "data": {
      "image/png": "[encoded data removed]",
      "text/plain": [
       "<Figure size 432x288 with 1 Axes>"
      ]
     },
     "metadata": {
      "needs_background": "light"
     },
     "output_type": "display_data"
    }
   ],
   "source": [
    "sns.scatterplot(data=X2,\n",
    "                x=\"winter_sun_hrs\",\n",
    "                y=\"winter_high\",\n",
    "                hue=clusters.predict(X2));"
   ]
  },
  {
   "cell_type": "code",
   "execution_count": 31,
   "metadata": {},
   "outputs": [],
   "source": [
    "cluster0 = weather3.loc[weather3[\"cluster\"] == 0]\n",
    "clu_0 = list(cluster0[\"city\"])"
   ]
  },
  {
   "cell_type": "code",
   "execution_count": 32,
   "metadata": {},
   "outputs": [],
   "source": [
    "cluster1 = weather3.loc[weather3[\"cluster\"] == 1]\n",
    "clu_1 = list(cluster1[\"city\"])"
   ]
  },
  {
   "cell_type": "code",
   "execution_count": 33,
   "metadata": {},
   "outputs": [],
   "source": [
    "cluster2 = weather3.loc[weather3[\"cluster\"] == 2]\n",
    "clu_2 = list(cluster2[\"city\"])"
   ]
  },
  {
   "cell_type": "code",
   "execution_count": 34,
   "metadata": {},
   "outputs": [],
   "source": [
    "cluster3 = weather3.loc[weather3[\"cluster\"] == 3]\n",
    "clu_3 = list(cluster3[\"city\"])"
   ]
  },
  {
   "cell_type": "code",
   "execution_count": 35,
   "metadata": {},
   "outputs": [
    {
     "name": "stdout",
     "output_type": "stream",
     "text": [
      "['Athens', 'Lisbon', 'Madrid', 'Rome', 'Tirana']\n",
      "--------------------------------------------------------------------------------------------\n",
      "['Amsterdam', 'Belgrade', 'Berlin', 'Bern', 'Bratislava', 'Brussels', 'Bucharest', 'Budapest', 'Dublin', 'Ljubljana', 'London', 'Luxembourg', 'Paris', 'Sarajevo', 'Skopje', 'Sofia', 'Vienna', 'Zagreb']\n",
      "--------------------------------------------------------------------------------------------\n",
      "['Nicosia', 'Valletta']\n",
      "--------------------------------------------------------------------------------------------\n",
      "['Copenhagen', 'Helsinki', 'Oslo', 'Reykjavik', 'Riga', 'Stockholm', 'Tallinn', 'Vilnius', 'Warsaw']\n"
     ]
    }
   ],
   "source": [
    "print(clu_0)\n",
    "print(\"--------------------------------------------------------------------------------------------\")\n",
    "print(clu_1)\n",
    "print(\"--------------------------------------------------------------------------------------------\")\n",
    "print(clu_2)\n",
    "print(\"--------------------------------------------------------------------------------------------\")\n",
    "print(clu_3)"
   ]
  },
  {
   "cell_type": "markdown",
   "metadata": {},
   "source": [
    "## 5. Checking for correlations"
   ]
  },
  {
   "cell_type": "code",
   "execution_count": 36,
   "metadata": {},
   "outputs": [
    {
     "data": {
      "image/png": "[encoded data removed]",
      "text/plain": [
       "<Figure size 1152x720 with 2 Axes>"
      ]
     },
     "metadata": {
      "needs_background": "light"
     },
     "output_type": "display_data"
    }
   ],
   "source": [
    "fig, ax = plt.subplots(figsize=(16,10))\n",
    "\n",
    "sns.heatmap(weather.corr(),\n",
    "            annot=True,\n",
    "            linewidth=.1,\n",
    "            vmax=1,);\n",
    "\n",
    "ax.set_title(\"Correlation Matrix\");"
   ]
  },
  {
   "cell_type": "code",
   "execution_count": 37,
   "metadata": {},
   "outputs": [
    {
     "data": {
      "text/plain": [
       "Index(['city', 'autumn_prec_mm', 'autumn_high', 'autumn_low',\n",
       "       'autumn_prec_days', 'autumn_sun_hrs', 'spring_prec_mm', 'spring_high',\n",
       "       'spring_low', 'spring_prec_days', 'spring_sun_hrs', 'summer_prec_mm',\n",
       "       'summer_high', 'summer_low', 'summer_prec_days', 'summer_sun_hrs',\n",
       "       'winter_prec_mm', 'winter_high', 'winter_low', 'winter_prec_days',\n",
       "       'winter_sun_hrs'],\n",
       "      dtype='object')"
      ]
     },
     "execution_count": 37,
     "metadata": {},
     "output_type": "execute_result"
    }
   ],
   "source": [
    "weather.columns"
   ]
  },
  {
   "cell_type": "code",
   "execution_count": 38,
   "metadata": {},
   "outputs": [],
   "source": [
    "weather_subset = weather[[\"city\", 'autumn_high', 'autumn_prec_days', 'autumn_sun_hrs',\n",
    "        'spring_high','spring_prec_days', 'spring_sun_hrs',\n",
    "        'summer_high', 'summer_prec_days', 'summer_sun_hrs',\n",
    "        'winter_high', 'winter_prec_days', 'winter_sun_hrs']]"
   ]
  },
  {
   "cell_type": "code",
   "execution_count": 39,
   "metadata": {},
   "outputs": [
    {
     "data": {
      "image/png": "[encoded data removed]",
      "text/plain": [
       "<Figure size 1152x720 with 2 Axes>"
      ]
     },
     "metadata": {
      "needs_background": "light"
     },
     "output_type": "display_data"
    }
   ],
   "source": [
    "fig, ax = plt.subplots(figsize=(16,10))\n",
    "\n",
    "sns.heatmap(weather_subset.corr(),\n",
    "            annot=True,\n",
    "            linewidth=.1,\n",
    "            vmax=1,);\n",
    "\n",
    "ax.set_title(\"Correlation Matrix\");"
   ]
  },
  {
   "cell_type": "markdown",
   "metadata": {},
   "source": [
    "### 5.1 we have a wierd negative correlation, winter_sun_hrs and summer_prec_days, let's investigate what's happening"
   ]
  },
  {
   "cell_type": "code",
   "execution_count": 40,
   "metadata": {},
   "outputs": [],
   "source": [
    "X4 = weather[[\"winter_sun_hrs\", \"summer_prec_days\"]]"
   ]
  },
  {
   "cell_type": "code",
   "execution_count": 41,
   "metadata": {},
   "outputs": [
    {
     "data": {
      "image/png": "[encoded data removed]",
      "text/plain": [
       "<Figure size 720x432 with 1 Axes>"
      ]
     },
     "metadata": {
      "needs_background": "light"
     },
     "output_type": "display_data"
    }
   ],
   "source": [
    "plot_elbow(X4)"
   ]
  },
  {
   "cell_type": "code",
   "execution_count": 42,
   "metadata": {},
   "outputs": [],
   "source": [
    "def get_elbow(df, col1, col2):\n",
    "    X = df[[col1, col2]]\n",
    "    plot_elbow(X)"
   ]
  },
  {
   "cell_type": "code",
   "execution_count": 43,
   "metadata": {},
   "outputs": [
    {
     "data": {
      "image/png": "[encoded data removed]",
      "text/plain": [
       "<Figure size 720x432 with 1 Axes>"
      ]
     },
     "metadata": {
      "needs_background": "light"
     },
     "output_type": "display_data"
    }
   ],
   "source": [
    "get_elbow(weather, \"winter_sun_hrs\", \"summer_prec_days\")"
   ]
  },
  {
   "cell_type": "code",
   "execution_count": 44,
   "metadata": {},
   "outputs": [],
   "source": [
    "def check_clusters(df, col1, col2, cluster_no):\n",
    "    X = df[[col1, col2]]\n",
    "    clusters = KMeans(n_clusters=cluster_no)\n",
    "    clusters.fit(X)\n",
    "    \n",
    "    clusters.predict(X)\n",
    "    \n",
    "    df2 = df.assign(cluster=clusters.predict(X))\n",
    "    df2[[\"city\", \"cluster\"]]\n",
    "    \n",
    "    sns.scatterplot(data=X,\n",
    "                x=col1,\n",
    "                y=col2,\n",
    "                hue=clusters.predict(X));\n",
    "    return df2\n",
    "    \n",
    "    "
   ]
  },
  {
   "cell_type": "code",
   "execution_count": 45,
   "metadata": {},
   "outputs": [
    {
     "data": {
      "image/png": "[encoded data removed]",
      "text/plain": [
       "<Figure size 432x288 with 1 Axes>"
      ]
     },
     "metadata": {
      "needs_background": "light"
     },
     "output_type": "display_data"
    }
   ],
   "source": [
    "weather5 = check_clusters(weather, \"winter_sun_hrs\", \"summer_prec_days\", 4)"
   ]
  },
  {
   "cell_type": "code",
   "execution_count": 46,
   "metadata": {},
   "outputs": [],
   "source": [
    "def get_city_list(df):\n",
    "    # 1. get number of clusters\n",
    "    # for loop to create lists (for i in range(0, n)), assigning unique variable names\n",
    "    # 2. and then after lists are created\n",
    "    # a list comprehension for each new list appending the cities in each clusters\n",
    "    \n",
    "    \n",
    "    cluster0 = []\n",
    "    cluster1 = []\n",
    "    cluster2 = []\n",
    "    cluster3 = []\n",
    "    \n",
    "    cluster0 = (df.loc[df[\"cluster\"] == 0])\n",
    "    clu_0 = list(cluster0[\"city\"])\n",
    "    \n",
    "    cluster1 = (df.loc[df[\"cluster\"] == 1])\n",
    "    clu_1 = list(cluster1[\"city\"])\n",
    "    \n",
    "    cluster2 = (df.loc[df[\"cluster\"] == 2])\n",
    "    clu_2 = list(cluster2[\"city\"])\n",
    "    \n",
    "    cluster3 = (df.loc[df[\"cluster\"] == 3])\n",
    "    clu_3 = list(cluster3[\"city\"])\n",
    "    \n",
    "    print(clu_0)\n",
    "    print(\"--------------------------------------------------------------------------------------------\")\n",
    "    print(clu_1)\n",
    "    print(\"--------------------------------------------------------------------------------------------\")\n",
    "    print(clu_2)\n",
    "    print(\"--------------------------------------------------------------------------------------------\")\n",
    "    print(clu_3)"
   ]
  },
  {
   "cell_type": "code",
   "execution_count": 47,
   "metadata": {},
   "outputs": [
    {
     "name": "stdout",
     "output_type": "stream",
     "text": [
      "['Amsterdam', 'Belgrade', 'Berlin', 'Bern', 'Bratislava', 'Brussels', 'Bucharest', 'Budapest', 'Dublin', 'Ljubljana', 'London', 'Luxembourg', 'Paris', 'Sarajevo', 'Skopje', 'Sofia', 'Vienna', 'Zagreb']\n",
      "--------------------------------------------------------------------------------------------\n",
      "['Athens', 'Lisbon', 'Madrid', 'Rome', 'Tirana']\n",
      "--------------------------------------------------------------------------------------------\n",
      "['Nicosia', 'Valletta']\n",
      "--------------------------------------------------------------------------------------------\n",
      "['Copenhagen', 'Helsinki', 'Oslo', 'Reykjavik', 'Riga', 'Stockholm', 'Tallinn', 'Vilnius', 'Warsaw']\n"
     ]
    }
   ],
   "source": [
    "get_city_list(weather5)"
   ]
  },
  {
   "cell_type": "raw",
   "metadata": {},
   "source": [
    "['Copenhagen', 'Helsinki', 'Oslo', 'Reykjavik', 'Riga', 'Stockholm', 'Tallinn', 'Vilnius', 'Warsaw']\n",
    "--------------------------------------------------------------------------------------------\n",
    "['Athens', 'Lisbon', 'Madrid', 'Rome', 'Tirana']\n",
    "--------------------------------------------------------------------------------------------\n",
    "['Amsterdam', 'Belgrade', 'Berlin', 'Bern', 'Bratislava', 'Brussels', 'Bucharest', 'Budapest', 'Dublin', 'Ljubljana', 'London', 'Luxembourg', 'Paris', 'Sarajevo', 'Skopje', 'Sofia', 'Vienna', 'Zagreb']\n",
    "--------------------------------------------------------------------------------------------\n",
    "['Nicosia', 'Valletta']"
   ]
  },
  {
   "cell_type": "markdown",
   "metadata": {},
   "source": [
    "# 1. Possible MVP\n",
    "\n",
    "### Write a function that takes a city name and poops out the cities that are similar.\n",
    "### 1.1 Start with weather\n",
    "### 1.2 find out the clustering\n",
    " - we create the feature options (ie. similar summers = sunshine_hours + high_temperatures\")\n",
    "\n",
    "### 1.3 create feature list (designed by us)\n",
    " - function: give me the city and 2 weather custom_metric, and we will give you a list of similar cities based on your input\n",
    " \n",
    "\n",
    "# 2. Then following options\n",
    "- get socio-economic features\n",
    "- get venue features\n",
    "\n",
    "#### use-case\n",
    "- let's say you want to live in a safe, sunshiney city, and don't care about the money\n",
    "- features = safety index (soc_ec) and sunshine_hrs (weather)\n",
    "\n",
    "#### Key\n",
    "- feature = 1 column from the data\n",
    "- custom_metric = defined by us, is a combination of (2 or more) variables"
   ]
  },
  {
   "cell_type": "code",
   "execution_count": 48,
   "metadata": {},
   "outputs": [
    {
     "data": {
      "text/plain": [
       "Index(['city', 'autumn_prec_mm', 'autumn_high', 'autumn_low',\n",
       "       'autumn_prec_days', 'autumn_sun_hrs', 'spring_prec_mm', 'spring_high',\n",
       "       'spring_low', 'spring_prec_days', 'spring_sun_hrs', 'summer_prec_mm',\n",
       "       'summer_high', 'summer_low', 'summer_prec_days', 'summer_sun_hrs',\n",
       "       'winter_prec_mm', 'winter_high', 'winter_low', 'winter_prec_days',\n",
       "       'winter_sun_hrs'],\n",
       "      dtype='object')"
      ]
     },
     "execution_count": 48,
     "metadata": {},
     "output_type": "execute_result"
    }
   ],
   "source": [
    "weather.columns"
   ]
  },
  {
   "cell_type": "code",
   "execution_count": 49,
   "metadata": {},
   "outputs": [],
   "source": [
    "def weather_rec(city, pref1, pref2):\n",
    "    \n",
    "    df = check_clusters(weather, pref1, pref2, 4)\n",
    "    cluster = df.loc[df[\"city\"] == city][\"cluster\"].item()\n",
    "    \n",
    "    recommendations = (df.loc[df[\"cluster\"] == cluster])\n",
    "    rec_list = list(recommendations[\"city\"])\n",
    "    \n",
    "    return rec_list"
   ]
  },
  {
   "cell_type": "code",
   "execution_count": 50,
   "metadata": {},
   "outputs": [
    {
     "data": {
      "text/plain": [
       "['Berlin',\n",
       " 'Bern',\n",
       " 'Ljubljana',\n",
       " 'Oslo',\n",
       " 'Paris',\n",
       " 'Sarajevo',\n",
       " 'Vienna',\n",
       " 'Vilnius',\n",
       " 'Warsaw',\n",
       " 'Zagreb']"
      ]
     },
     "execution_count": 50,
     "metadata": {},
     "output_type": "execute_result"
    },
    {
     "data": {
      "image/png": "[encoded data removed]",
      "text/plain": [
       "<Figure size 432x288 with 1 Axes>"
      ]
     },
     "metadata": {
      "needs_background": "light"
     },
     "output_type": "display_data"
    }
   ],
   "source": [
    "# cluster should be 3\n",
    "weather_rec(\"Berlin\", \"summer_high\", \"summer_sun_hrs\")"
   ]
  },
  {
   "cell_type": "code",
   "execution_count": 51,
   "metadata": {},
   "outputs": [
    {
     "data": {
      "text/plain": [
       "['city',\n",
       " 'autumn_prec_mm',\n",
       " 'autumn_high',\n",
       " 'autumn_low',\n",
       " 'autumn_prec_days',\n",
       " 'autumn_sun_hrs',\n",
       " 'spring_prec_mm',\n",
       " 'spring_high',\n",
       " 'spring_low',\n",
       " 'spring_prec_days',\n",
       " 'spring_sun_hrs',\n",
       " 'summer_prec_mm',\n",
       " 'summer_high',\n",
       " 'summer_low',\n",
       " 'summer_prec_days',\n",
       " 'summer_sun_hrs',\n",
       " 'winter_prec_mm',\n",
       " 'winter_high',\n",
       " 'winter_low',\n",
       " 'winter_prec_days',\n",
       " 'winter_sun_hrs']"
      ]
     },
     "execution_count": 51,
     "metadata": {},
     "output_type": "execute_result"
    }
   ],
   "source": [
    "list(weather.columns)"
   ]
  },
  {
   "cell_type": "code",
   "execution_count": 52,
   "metadata": {},
   "outputs": [],
   "source": [
    "new_weather = weather[['city', 'autumn_high', 'autumn_prec_days', 'autumn_sun_hrs', \n",
    "        'spring_high', 'spring_prec_days', 'spring_sun_hrs',\n",
    "        'summer_high', 'summer_prec_days', 'summer_sun_hrs', \n",
    "        'winter_high', 'winter_prec_days', 'winter_sun_hrs']]"
   ]
  },
  {
   "cell_type": "code",
   "execution_count": 53,
   "metadata": {},
   "outputs": [],
   "source": [
    "test_list = weather[['city', 'autumn_high']]\n",
    "\n"
   ]
  },
  {
   "cell_type": "code",
   "execution_count": 54,
   "metadata": {},
   "outputs": [],
   "source": [
    "def check_allclusters(df, col_list, cluster_no):\n",
    "    X = df[col_list]\n",
    "    X = X.drop(\"city\", 1)\n",
    "    clusters = KMeans(n_clusters=cluster_no)\n",
    "    clusters.fit(X)\n",
    "    \n",
    "    clusters.predict(X)\n",
    "    \n",
    "    df2 = df.assign(cluster=clusters.predict(X))\n",
    "    df2[[\"city\", \"cluster\"]]\n",
    "    \n",
    "    city_list = get_city_list(df2)\n",
    "    \n",
    "    return city_list"
   ]
  },
  {
   "cell_type": "code",
   "execution_count": 55,
   "metadata": {},
   "outputs": [
    {
     "name": "stdout",
     "output_type": "stream",
     "text": [
      "['Amsterdam', 'Berlin', 'Bern', 'Brussels', 'Copenhagen', 'Dublin', 'London', 'Luxembourg', 'Reykjavik', 'Sarajevo']\n",
      "--------------------------------------------------------------------------------------------\n",
      "['Athens', 'Lisbon', 'Madrid', 'Nicosia', 'Rome', 'Tirana', 'Valletta']\n",
      "--------------------------------------------------------------------------------------------\n",
      "['Belgrade', 'Bratislava', 'Bucharest', 'Budapest', 'Skopje', 'Sofia']\n",
      "--------------------------------------------------------------------------------------------\n",
      "['Helsinki', 'Ljubljana', 'Oslo', 'Paris', 'Riga', 'Stockholm', 'Tallinn', 'Vienna', 'Vilnius', 'Warsaw', 'Zagreb']\n"
     ]
    }
   ],
   "source": [
    "# function now outputs city list\n",
    "check_allclusters(new_weather, list(new_weather.columns), 4)"
   ]
  },
  {
   "cell_type": "code",
   "execution_count": 57,
   "metadata": {},
   "outputs": [],
   "source": [
    "# all weather data\n",
    "# get_city_list(all_clusters)"
   ]
  },
  {
   "cell_type": "raw",
   "metadata": {},
   "source": [
    "# similar summers\n",
    "\n",
    "['Amsterdam', 'Brussels', 'Copenhagen', 'Dublin', 'London', 'Luxembourg', 'Reykjavik']\n",
    "--------------------------------------------------------------------------------------------\n",
    "['Athens', 'Lisbon', 'Madrid', 'Nicosia', 'Rome', 'Tirana', 'Valletta']\n",
    "--------------------------------------------------------------------------------------------\n",
    "['Berlin', 'Bern', 'Ljubljana', 'Oslo', 'Paris', 'Sarajevo', 'Vienna', 'Vilnius', 'Warsaw', 'Zagreb']\n",
    "--------------------------------------------------------------------------------------------\n",
    "['Belgrade', 'Bratislava', 'Bucharest', 'Budapest', 'Helsinki', 'Riga', 'Skopje', 'Sofia', 'Stockholm', 'Tallinn']"
   ]
  },
  {
   "cell_type": "raw",
   "metadata": {},
   "source": [
    "# similar winters\n",
    "\n",
    "['Nicosia', 'Valletta']\n",
    "--------------------------------------------------------------------------------------------\n",
    "['Copenhagen', 'Helsinki', 'Oslo', 'Reykjavik', 'Riga', 'Stockholm', 'Tallinn', 'Vilnius', 'Warsaw']\n",
    "--------------------------------------------------------------------------------------------\n",
    "['Athens', 'Lisbon', 'Madrid', 'Rome', 'Tirana']\n",
    "--------------------------------------------------------------------------------------------\n",
    "['Amsterdam', 'Belgrade', 'Berlin', 'Bern', 'Bratislava', 'Brussels', 'Bucharest', 'Budapest', 'Dublin', \n",
    " 'Ljubljana', 'London', 'Luxembourg', 'Paris', 'Sarajevo', 'Skopje', 'Sofia', 'Vienna', 'Zagreb']"
   ]
  },
  {
   "cell_type": "markdown",
   "metadata": {},
   "source": [
    "#### There are variations in clusters if we subset by different categories, e.g. 'Athens', 'Lisbon', 'Madrid', 'Nicosia', 'Rome', 'Tirana', 'Valletta' have similar winters, but ['Nicosia', 'Valletta'] have warmer, sunnier summers"
   ]
  },
  {
   "cell_type": "code",
   "execution_count": 58,
   "metadata": {},
   "outputs": [
    {
     "data": {
      "image/png": "[encoded data removed]",
      "text/plain": [
       "<Figure size 432x288 with 1 Axes>"
      ]
     },
     "metadata": {
      "needs_background": "light"
     },
     "output_type": "display_data"
    }
   ],
   "source": [
    "summer_4 = check_clusters(weather, \"summer_sun_hrs\", \"summer_high\", 4)\n",
    "# get_city_list(summer_4)"
   ]
  },
  {
   "cell_type": "code",
   "execution_count": 59,
   "metadata": {},
   "outputs": [
    {
     "name": "stdout",
     "output_type": "stream",
     "text": [
      "['Belgrade', 'Berlin', 'Bern', 'Bratislava', 'Budapest', 'Lisbon', 'Ljubljana', 'Paris', 'Sarajevo', 'Sofia', 'Vienna', 'Warsaw', 'Zagreb']\n",
      "--------------------------------------------------------------------------------------------\n",
      "['Athens', 'Bucharest', 'Madrid', 'Nicosia', 'Rome', 'Skopje', 'Tirana', 'Valletta']\n",
      "--------------------------------------------------------------------------------------------\n",
      "['Reykjavik']\n",
      "--------------------------------------------------------------------------------------------\n",
      "['Amsterdam', 'Brussels', 'Copenhagen', 'Dublin', 'Helsinki', 'London', 'Luxembourg', 'Oslo', 'Riga', 'Stockholm', 'Tallinn', 'Vilnius']\n"
     ]
    }
   ],
   "source": [
    "check_allclusters(new_weather, list(new_weather[[\"city\",\"summer_high\"]]), 4)"
   ]
  },
  {
   "cell_type": "code",
   "execution_count": 60,
   "metadata": {},
   "outputs": [
    {
     "name": "stdout",
     "output_type": "stream",
     "text": [
      "['Belgrade', 'Bratislava', 'Bucharest', 'Budapest', 'Helsinki', 'Riga', 'Skopje', 'Sofia', 'Stockholm', 'Tallinn']\n",
      "--------------------------------------------------------------------------------------------\n",
      "['Berlin', 'Bern', 'Ljubljana', 'Oslo', 'Paris', 'Sarajevo', 'Vienna', 'Vilnius', 'Warsaw', 'Zagreb']\n",
      "--------------------------------------------------------------------------------------------\n",
      "['Athens', 'Lisbon', 'Madrid', 'Nicosia', 'Rome', 'Tirana', 'Valletta']\n",
      "--------------------------------------------------------------------------------------------\n",
      "['Amsterdam', 'Brussels', 'Copenhagen', 'Dublin', 'London', 'Luxembourg', 'Reykjavik']\n"
     ]
    }
   ],
   "source": [
    "check_allclusters(new_weather, list(new_weather[[\"city\",\"summer_sun_hrs\"]]), 4)"
   ]
  },
  {
   "cell_type": "code",
   "execution_count": 61,
   "metadata": {},
   "outputs": [
    {
     "name": "stdout",
     "output_type": "stream",
     "text": [
      "['Belgrade', 'Berlin', 'Bern', 'Brussels', 'Copenhagen', 'Dublin', 'Helsinki', 'Ljubljana', 'Oslo', 'Reykjavik', 'Riga', 'Sarajevo', 'Sofia', 'Stockholm', 'Tallinn', 'Vilnius', 'Warsaw', 'Zagreb']\n",
      "--------------------------------------------------------------------------------------------\n",
      "['Athens', 'Lisbon', 'Madrid', 'Nicosia', 'Valletta']\n",
      "--------------------------------------------------------------------------------------------\n",
      "['Amsterdam', 'London', 'Luxembourg', 'Paris', 'Vienna']\n",
      "--------------------------------------------------------------------------------------------\n",
      "['Bratislava', 'Bucharest', 'Budapest', 'Rome', 'Skopje', 'Tirana']\n"
     ]
    }
   ],
   "source": [
    "check_allclusters(new_weather, list(new_weather[[\"city\",\"summer_prec_days\"]]), 4)"
   ]
  },
  {
   "cell_type": "code",
   "execution_count": 62,
   "metadata": {},
   "outputs": [],
   "source": [
    "def check_one_clusters(df, col, cluster_no):\n",
    "    X = df[[\"city\", col]]\n",
    "    X = X.drop(\"city\", 1)\n",
    "    clusters = KMeans(n_clusters=cluster_no)\n",
    "    clusters.fit(X)\n",
    "    \n",
    "    clusters.predict(X)\n",
    "    \n",
    "    df2 = df.assign(cluster=clusters.predict(X))\n",
    "    df2 = df2[[\"city\", \"cluster\", col]]\n",
    "    \n",
    "    # city_list = get_city_list_one(df2)\n",
    "    \n",
    "    return df2"
   ]
  },
  {
   "cell_type": "code",
   "execution_count": 63,
   "metadata": {},
   "outputs": [],
   "source": [
    "def get_city_list_one(df):\n",
    "    \n",
    "    cluster0 = (df.loc[df[\"cluster\"] == 0])\n",
    "    clu_0 = list(cluster0[\"city\", ])\n",
    "    \n",
    "    cluster1 = (df.loc[df[\"cluster\"] == 1])\n",
    "    clu_1 = list(cluster1[\"city\"])\n",
    "    \n",
    "    cluster2 = (df.loc[df[\"cluster\"] == 2])\n",
    "    clu_2 = list(cluster2[\"city\"])\n",
    "    \n",
    "    cluster3 = (df.loc[df[\"cluster\"] == 3])\n",
    "    clu_3 = list(cluster3[\"city\"])\n",
    "    \n",
    "    print(clu_0)\n",
    "    print(\"--------------------------------------------------------------------------------------------\")\n",
    "    print(clu_1)\n",
    "    print(\"--------------------------------------------------------------------------------------------\")\n",
    "    print(clu_2)\n",
    "    print(\"--------------------------------------------------------------------------------------------\")\n",
    "    print(clu_3)"
   ]
  },
  {
   "cell_type": "code",
   "execution_count": 64,
   "metadata": {},
   "outputs": [
    {
     "data": {
      "text/html": [
       "<div>\n",
       "<style scoped>\n",
       "    .dataframe tbody tr th:only-of-type {\n",
       "        vertical-align: middle;\n",
       "    }\n",
       "\n",
       "    .dataframe tbody tr th {\n",
       "        vertical-align: top;\n",
       "    }\n",
       "\n",
       "    .dataframe thead th {\n",
       "        text-align: right;\n",
       "    }\n",
       "</style>\n",
       "<table border=\"1\" class=\"dataframe\">\n",
       "  <thead>\n",
       "    <tr style=\"text-align: right;\">\n",
       "      <th></th>\n",
       "      <th>city</th>\n",
       "      <th>cluster</th>\n",
       "      <th>summer_high</th>\n",
       "    </tr>\n",
       "  </thead>\n",
       "  <tbody>\n",
       "    <tr>\n",
       "      <th>0</th>\n",
       "      <td>Amsterdam</td>\n",
       "      <td>2</td>\n",
       "      <td>21</td>\n",
       "    </tr>\n",
       "    <tr>\n",
       "      <th>1</th>\n",
       "      <td>Athens</td>\n",
       "      <td>1</td>\n",
       "      <td>31</td>\n",
       "    </tr>\n",
       "    <tr>\n",
       "      <th>2</th>\n",
       "      <td>Belgrade</td>\n",
       "      <td>0</td>\n",
       "      <td>26</td>\n",
       "    </tr>\n",
       "    <tr>\n",
       "      <th>3</th>\n",
       "      <td>Berlin</td>\n",
       "      <td>0</td>\n",
       "      <td>23</td>\n",
       "    </tr>\n",
       "    <tr>\n",
       "      <th>4</th>\n",
       "      <td>Bern</td>\n",
       "      <td>0</td>\n",
       "      <td>23</td>\n",
       "    </tr>\n",
       "    <tr>\n",
       "      <th>5</th>\n",
       "      <td>Bratislava</td>\n",
       "      <td>0</td>\n",
       "      <td>25</td>\n",
       "    </tr>\n",
       "    <tr>\n",
       "      <th>6</th>\n",
       "      <td>Brussels</td>\n",
       "      <td>2</td>\n",
       "      <td>22</td>\n",
       "    </tr>\n",
       "    <tr>\n",
       "      <th>7</th>\n",
       "      <td>Bucharest</td>\n",
       "      <td>1</td>\n",
       "      <td>28</td>\n",
       "    </tr>\n",
       "    <tr>\n",
       "      <th>8</th>\n",
       "      <td>Budapest</td>\n",
       "      <td>0</td>\n",
       "      <td>25</td>\n",
       "    </tr>\n",
       "    <tr>\n",
       "      <th>9</th>\n",
       "      <td>Copenhagen</td>\n",
       "      <td>2</td>\n",
       "      <td>20</td>\n",
       "    </tr>\n",
       "    <tr>\n",
       "      <th>10</th>\n",
       "      <td>Dublin</td>\n",
       "      <td>2</td>\n",
       "      <td>18</td>\n",
       "    </tr>\n",
       "    <tr>\n",
       "      <th>11</th>\n",
       "      <td>Helsinki</td>\n",
       "      <td>2</td>\n",
       "      <td>19</td>\n",
       "    </tr>\n",
       "    <tr>\n",
       "      <th>12</th>\n",
       "      <td>Lisbon</td>\n",
       "      <td>0</td>\n",
       "      <td>27</td>\n",
       "    </tr>\n",
       "    <tr>\n",
       "      <th>13</th>\n",
       "      <td>Ljubljana</td>\n",
       "      <td>0</td>\n",
       "      <td>25</td>\n",
       "    </tr>\n",
       "    <tr>\n",
       "      <th>14</th>\n",
       "      <td>London</td>\n",
       "      <td>2</td>\n",
       "      <td>21</td>\n",
       "    </tr>\n",
       "    <tr>\n",
       "      <th>15</th>\n",
       "      <td>Luxembourg</td>\n",
       "      <td>2</td>\n",
       "      <td>18</td>\n",
       "    </tr>\n",
       "    <tr>\n",
       "      <th>16</th>\n",
       "      <td>Madrid</td>\n",
       "      <td>1</td>\n",
       "      <td>31</td>\n",
       "    </tr>\n",
       "    <tr>\n",
       "      <th>17</th>\n",
       "      <td>Nicosia</td>\n",
       "      <td>1</td>\n",
       "      <td>36</td>\n",
       "    </tr>\n",
       "    <tr>\n",
       "      <th>18</th>\n",
       "      <td>Oslo</td>\n",
       "      <td>2</td>\n",
       "      <td>21</td>\n",
       "    </tr>\n",
       "    <tr>\n",
       "      <th>19</th>\n",
       "      <td>Paris</td>\n",
       "      <td>0</td>\n",
       "      <td>24</td>\n",
       "    </tr>\n",
       "    <tr>\n",
       "      <th>20</th>\n",
       "      <td>Reykjavik</td>\n",
       "      <td>3</td>\n",
       "      <td>13</td>\n",
       "    </tr>\n",
       "    <tr>\n",
       "      <th>21</th>\n",
       "      <td>Riga</td>\n",
       "      <td>2</td>\n",
       "      <td>20</td>\n",
       "    </tr>\n",
       "    <tr>\n",
       "      <th>22</th>\n",
       "      <td>Rome</td>\n",
       "      <td>1</td>\n",
       "      <td>29</td>\n",
       "    </tr>\n",
       "    <tr>\n",
       "      <th>23</th>\n",
       "      <td>Sarajevo</td>\n",
       "      <td>0</td>\n",
       "      <td>26</td>\n",
       "    </tr>\n",
       "    <tr>\n",
       "      <th>24</th>\n",
       "      <td>Skopje</td>\n",
       "      <td>1</td>\n",
       "      <td>29</td>\n",
       "    </tr>\n",
       "    <tr>\n",
       "      <th>25</th>\n",
       "      <td>Sofia</td>\n",
       "      <td>0</td>\n",
       "      <td>26</td>\n",
       "    </tr>\n",
       "    <tr>\n",
       "      <th>26</th>\n",
       "      <td>Stockholm</td>\n",
       "      <td>2</td>\n",
       "      <td>21</td>\n",
       "    </tr>\n",
       "    <tr>\n",
       "      <th>27</th>\n",
       "      <td>Tallinn</td>\n",
       "      <td>2</td>\n",
       "      <td>20</td>\n",
       "    </tr>\n",
       "    <tr>\n",
       "      <th>28</th>\n",
       "      <td>Tirana</td>\n",
       "      <td>1</td>\n",
       "      <td>30</td>\n",
       "    </tr>\n",
       "    <tr>\n",
       "      <th>29</th>\n",
       "      <td>Valletta</td>\n",
       "      <td>1</td>\n",
       "      <td>30</td>\n",
       "    </tr>\n",
       "    <tr>\n",
       "      <th>30</th>\n",
       "      <td>Vienna</td>\n",
       "      <td>0</td>\n",
       "      <td>24</td>\n",
       "    </tr>\n",
       "    <tr>\n",
       "      <th>31</th>\n",
       "      <td>Vilnius</td>\n",
       "      <td>2</td>\n",
       "      <td>22</td>\n",
       "    </tr>\n",
       "    <tr>\n",
       "      <th>32</th>\n",
       "      <td>Warsaw</td>\n",
       "      <td>0</td>\n",
       "      <td>23</td>\n",
       "    </tr>\n",
       "    <tr>\n",
       "      <th>33</th>\n",
       "      <td>Zagreb</td>\n",
       "      <td>0</td>\n",
       "      <td>25</td>\n",
       "    </tr>\n",
       "  </tbody>\n",
       "</table>\n",
       "</div>"
      ],
      "text/plain": [
       "          city  cluster  summer_high\n",
       "0    Amsterdam        2           21\n",
       "1       Athens        1           31\n",
       "2     Belgrade        0           26\n",
       "3       Berlin        0           23\n",
       "4         Bern        0           23\n",
       "5   Bratislava        0           25\n",
       "6     Brussels        2           22\n",
       "7    Bucharest        1           28\n",
       "8     Budapest        0           25\n",
       "9   Copenhagen        2           20\n",
       "10      Dublin        2           18\n",
       "11    Helsinki        2           19\n",
       "12      Lisbon        0           27\n",
       "13   Ljubljana        0           25\n",
       "14      London        2           21\n",
       "15  Luxembourg        2           18\n",
       "16      Madrid        1           31\n",
       "17     Nicosia        1           36\n",
       "18        Oslo        2           21\n",
       "19       Paris        0           24\n",
       "20   Reykjavik        3           13\n",
       "21        Riga        2           20\n",
       "22        Rome        1           29\n",
       "23    Sarajevo        0           26\n",
       "24      Skopje        1           29\n",
       "25       Sofia        0           26\n",
       "26   Stockholm        2           21\n",
       "27     Tallinn        2           20\n",
       "28      Tirana        1           30\n",
       "29    Valletta        1           30\n",
       "30      Vienna        0           24\n",
       "31     Vilnius        2           22\n",
       "32      Warsaw        0           23\n",
       "33      Zagreb        0           25"
      ]
     },
     "execution_count": 64,
     "metadata": {},
     "output_type": "execute_result"
    }
   ],
   "source": [
    "check_one_clusters(new_weather, \"summer_high\", 4)"
   ]
  },
  {
   "cell_type": "code",
   "execution_count": 65,
   "metadata": {},
   "outputs": [],
   "source": [
    "def check_one_clusters(df, col, cluster_no):\n",
    "    X = df[[\"city\", col]]\n",
    "    X = X.drop(\"city\", 1)\n",
    "    clusters = KMeans(n_clusters=cluster_no)\n",
    "    clusters.fit(X)\n",
    "    \n",
    "    clusters.predict(X)\n",
    "    \n",
    "    df2 = df.assign(cluster=clusters.predict(X))\n",
    "    df2 = df2[[\"city\", \"cluster\", col]]\n",
    "    \n",
    "    # city_list = get_city_list_one(df2)\n",
    "    \n",
    "    return df2"
   ]
  },
  {
   "cell_type": "code",
   "execution_count": 66,
   "metadata": {},
   "outputs": [],
   "source": [
    "def get_city_list_one(df):\n",
    "    \n",
    "    cluster0 = (df.loc[df[\"cluster\"] == 0])\n",
    "    clu_0 = list(cluster0[\"city\", ])\n",
    "    \n",
    "    cluster1 = (df.loc[df[\"cluster\"] == 1])\n",
    "    clu_1 = list(cluster1[\"city\"])\n",
    "    \n",
    "    cluster2 = (df.loc[df[\"cluster\"] == 2])\n",
    "    clu_2 = list(cluster2[\"city\"])\n",
    "    \n",
    "    cluster3 = (df.loc[df[\"cluster\"] == 3])\n",
    "    clu_3 = list(cluster3[\"city\"])\n",
    "    \n",
    "    print(clu_0)\n",
    "    print(\"--------------------------------------------------------------------------------------------\")\n",
    "    print(clu_1)\n",
    "    print(\"--------------------------------------------------------------------------------------------\")\n",
    "    print(clu_2)\n",
    "    print(\"--------------------------------------------------------------------------------------------\")\n",
    "    print(clu_3)"
   ]
  },
  {
   "cell_type": "code",
   "execution_count": 130,
   "metadata": {},
   "outputs": [],
   "source": [
    "import pprint"
   ]
  },
  {
   "cell_type": "code",
   "execution_count": 174,
   "metadata": {},
   "outputs": [],
   "source": [
    "def cluster_one_list(df, col, cluster_no=4):\n",
    "    X = df[[\"city\", col]]\n",
    "    X = X.drop(\"city\", 1)\n",
    "    clusters = KMeans(n_clusters=cluster_no) # train the model\n",
    "    clusters.fit(X)\n",
    "    clusters.predict(X)\n",
    "    \n",
    "    df2 = df.assign(cluster=clusters.predict(X))\n",
    "    df2 = df2[[\"city\", \"cluster\", col]]\n",
    "    \n",
    "    # create the list of custers\n",
    "    cluster0 = (df2.loc[df2[\"cluster\"] == 0])\n",
    "    list1 = list(cluster0[\"city\"])\n",
    "    list2 = list(cluster0[col])\n",
    "    zipped0 = dict(zip(list1, list2))\n",
    "    mean0 = round(cluster0[col].mean())\n",
    "    \n",
    "    cluster1 = (df2.loc[df2[\"cluster\"] == 1])\n",
    "    list3 = list(cluster1[\"city\"])\n",
    "    list4 = list(cluster1[col])\n",
    "    zipped1 = dict(zip(list3, list4))\n",
    "    mean1 = round(cluster1[col].mean())\n",
    "    \n",
    "    cluster2 = (df2.loc[df2[\"cluster\"] == 2])\n",
    "    list5 = list(cluster2[\"city\"])\n",
    "    list6 = list(cluster2[col])\n",
    "    zipped2 = dict(zip(list5, list6))\n",
    "    mean2 = round(cluster2[col].mean())\n",
    "    \n",
    "    cluster3 = (df2.loc[df2[\"cluster\"] == 3])\n",
    "    list7 = list(cluster3[\"city\"])\n",
    "    list8 = list(cluster3[col])\n",
    "    zipped3 = dict(zip(list7, list8))\n",
    "    mean3 = round(cluster3[col].mean())\n",
    "    \n",
    "    #print this out\n",
    "    #pprint.pprint(zipped0)\n",
    "    print(zipped0)\n",
    "    print(f\"\\nThe average {col} of this cluster is {mean0}\")\n",
    "    print(\"--------------------------------------------------------------------------------------------\")\n",
    "    print(zipped1)\n",
    "    print(f\"\\nThe average {col} of this cluster is {mean1}\")\n",
    "    print(\"--------------------------------------------------------------------------------------------\")\n",
    "    print(zipped2)\n",
    "    print(f\"\\nThe average {col} of this cluster is {mean2}\")\n",
    "    print(\"--------------------------------------------------------------------------------------------\")\n",
    "    print(zipped3)\n",
    "    print(f\"\\nThe average {col} of this cluster is {mean3}\")"
   ]
  },
  {
   "cell_type": "code",
   "execution_count": 175,
   "metadata": {},
   "outputs": [
    {
     "name": "stdout",
     "output_type": "stream",
     "text": [
      "{'Amsterdam': 21, 'Berlin': 23, 'Bern': 23, 'Brussels': 22, 'Copenhagen': 20, 'London': 21, 'Oslo': 21, 'Riga': 20, 'Stockholm': 21, 'Tallinn': 20, 'Vilnius': 22, 'Warsaw': 23}\n",
      "\n",
      "The average summer_high of this cluster is 21.0\n",
      "--------------------------------------------------------------------------------------------\n",
      "{'Belgrade': 26, 'Bratislava': 25, 'Bucharest': 28, 'Budapest': 25, 'Lisbon': 27, 'Ljubljana': 25, 'Paris': 24, 'Sarajevo': 26, 'Sofia': 26, 'Vienna': 24, 'Zagreb': 25}\n",
      "\n",
      "The average summer_high of this cluster is 26.0\n",
      "--------------------------------------------------------------------------------------------\n",
      "{'Athens': 31, 'Madrid': 31, 'Nicosia': 36, 'Rome': 29, 'Skopje': 29, 'Tirana': 30, 'Valletta': 30}\n",
      "\n",
      "The average summer_high of this cluster is 31.0\n",
      "--------------------------------------------------------------------------------------------\n",
      "{'Dublin': 18, 'Helsinki': 19, 'Luxembourg': 18, 'Reykjavik': 13}\n",
      "\n",
      "The average summer_high of this cluster is 17.0\n"
     ]
    }
   ],
   "source": [
    "cluster_one_list(new_weather, 'summer_high', 4)"
   ]
  },
  {
   "cell_type": "raw",
   "metadata": {},
   "source": [
    "new_weather = weather[['city', 'autumn_high', 'autumn_prec_days', 'autumn_sun_hrs', \n",
    "        'spring_high', 'spring_prec_days', 'spring_sun_hrs',\n",
    "        'summer_high', 'summer_prec_days', 'summer_sun_hrs', \n",
    "        'winter_high', 'winter_prec_days', 'winter_sun_hrs']]"
   ]
  },
  {
   "cell_type": "code",
   "execution_count": 120,
   "metadata": {},
   "outputs": [
    {
     "name": "stdout",
     "output_type": "stream",
     "text": [
      "[('Amsterdam', 6), ('Belgrade', 5), ('Brussels', 6), ('Dublin', 8), ('London', 7), ('Paris', 7), ('Sarajevo', 5), ('Skopje', 6)]\n",
      "\n",
      "The average winter_high of this cluster is 6.0\n",
      "--------------------------------------------------------------------------------------------\n",
      "[('Athens', 14), ('Lisbon', 15), ('Madrid', 12), ('Nicosia', 16), ('Rome', 13), ('Tirana', 13), ('Valletta', 16)]\n",
      "\n",
      "The average winter_high of this cluster is 14.0\n",
      "--------------------------------------------------------------------------------------------\n",
      "[('Helsinki', -1), ('Oslo', -1), ('Riga', -1), ('Stockholm', 0), ('Tallinn', -1), ('Vilnius', -1), ('Warsaw', 1)]\n",
      "\n",
      "The average winter_high of this cluster is -1.0\n",
      "--------------------------------------------------------------------------------------------\n",
      "[('Berlin', 3), ('Bern', 3), ('Bratislava', 3), ('Bucharest', 3), ('Budapest', 3), ('Copenhagen', 3), ('Ljubljana', 4), ('Luxembourg', 2), ('Reykjavik', 2), ('Sofia', 3), ('Vienna', 2), ('Zagreb', 4)]\n",
      "\n",
      "The average winter_high of this cluster is 3.0\n"
     ]
    }
   ],
   "source": [
    "cluster_one_list(new_weather, 'winter_high', 4)"
   ]
  },
  {
   "cell_type": "code",
   "execution_count": 121,
   "metadata": {},
   "outputs": [],
   "source": [
    "spring = weather[['city', 'spring_high', 'spring_prec_days', 'spring_sun_hrs']]\n",
    "summer = weather[['city', 'summer_high', 'summer_prec_days', 'summer_sun_hrs']]\n",
    "autumn = weather[['city', 'autumn_high', 'autumn_prec_days', 'autumn_sun_hrs']]\n",
    "winter = weather[['city', 'winter_high', 'winter_prec_days', 'winter_sun_hrs']]"
   ]
  },
  {
   "cell_type": "code",
   "execution_count": 123,
   "metadata": {},
   "outputs": [
    {
     "name": "stdout",
     "output_type": "stream",
     "text": [
      "['Belgrade', 'Bucharest', 'Budapest', 'Helsinki', 'Paris', 'Riga', 'Skopje', 'Stockholm', 'Tallinn', 'Tirana']\n",
      "--------------------------------------------------------------------------------------------\n",
      "['Athens', 'Bratislava', 'Lisbon', 'Madrid', 'Rome']\n",
      "--------------------------------------------------------------------------------------------\n",
      "['Nicosia', 'Valletta']\n",
      "--------------------------------------------------------------------------------------------\n",
      "['Amsterdam', 'Berlin', 'Bern', 'Brussels', 'Copenhagen', 'Dublin', 'Ljubljana', 'London', 'Luxembourg', 'Oslo', 'Reykjavik', 'Sarajevo', 'Sofia', 'Vienna', 'Vilnius', 'Warsaw', 'Zagreb']\n"
     ]
    }
   ],
   "source": [
    "check_allclusters(spring, list(spring.columns), 4)"
   ]
  },
  {
   "cell_type": "code",
   "execution_count": 124,
   "metadata": {},
   "outputs": [
    {
     "name": "stdout",
     "output_type": "stream",
     "text": [
      "['Berlin', 'Bern', 'Ljubljana', 'Oslo', 'Paris', 'Sarajevo', 'Vienna', 'Vilnius', 'Warsaw', 'Zagreb']\n",
      "--------------------------------------------------------------------------------------------\n",
      "['Athens', 'Lisbon', 'Madrid', 'Nicosia', 'Rome', 'Tirana', 'Valletta']\n",
      "--------------------------------------------------------------------------------------------\n",
      "['Amsterdam', 'Brussels', 'Copenhagen', 'Dublin', 'London', 'Luxembourg', 'Reykjavik']\n",
      "--------------------------------------------------------------------------------------------\n",
      "['Belgrade', 'Bratislava', 'Bucharest', 'Budapest', 'Helsinki', 'Riga', 'Skopje', 'Sofia', 'Stockholm', 'Tallinn']\n"
     ]
    }
   ],
   "source": [
    "check_allclusters(summer, list(summer.columns), 4)"
   ]
  },
  {
   "cell_type": "code",
   "execution_count": 125,
   "metadata": {},
   "outputs": [
    {
     "name": "stdout",
     "output_type": "stream",
     "text": [
      "['Athens', 'Lisbon', 'Madrid', 'Rome', 'Tirana', 'Valletta']\n",
      "--------------------------------------------------------------------------------------------\n",
      "['Amsterdam', 'Berlin', 'Bern', 'Brussels', 'Copenhagen', 'Dublin', 'Helsinki', 'Ljubljana', 'London', 'Luxembourg', 'Oslo', 'Paris', 'Reykjavik', 'Riga', 'Sarajevo', 'Stockholm', 'Tallinn', 'Vienna', 'Vilnius', 'Warsaw']\n",
      "--------------------------------------------------------------------------------------------\n",
      "['Belgrade', 'Bratislava', 'Bucharest', 'Budapest', 'Skopje', 'Sofia', 'Zagreb']\n",
      "--------------------------------------------------------------------------------------------\n",
      "['Nicosia']\n"
     ]
    }
   ],
   "source": [
    "check_allclusters(autumn, list(autumn.columns), 4)"
   ]
  },
  {
   "cell_type": "code",
   "execution_count": 126,
   "metadata": {},
   "outputs": [
    {
     "name": "stdout",
     "output_type": "stream",
     "text": [
      "['Athens', 'Lisbon', 'Madrid', 'Rome', 'Tirana']\n",
      "--------------------------------------------------------------------------------------------\n",
      "['Amsterdam', 'Belgrade', 'Berlin', 'Bern', 'Bratislava', 'Brussels', 'Bucharest', 'Budapest', 'Dublin', 'Ljubljana', 'London', 'Luxembourg', 'Paris', 'Sarajevo', 'Skopje', 'Sofia', 'Vienna', 'Zagreb']\n",
      "--------------------------------------------------------------------------------------------\n",
      "['Nicosia', 'Valletta']\n",
      "--------------------------------------------------------------------------------------------\n",
      "['Copenhagen', 'Helsinki', 'Oslo', 'Reykjavik', 'Riga', 'Stockholm', 'Tallinn', 'Vilnius', 'Warsaw']\n"
     ]
    }
   ],
   "source": [
    "check_allclusters(winter, list(winter.columns), 4)"
   ]
  },
  {
   "cell_type": "code",
   "execution_count": 109,
   "metadata": {},
   "outputs": [],
   "source": [
    "#def cluster_one_list(df, col, cluster_no=4):\n",
    "#    X = df[[\"city\", col]]\n",
    "#    X = X.drop(\"city\", 1)\n",
    "#    clusters = KMeans(n_clusters=cluster_no) # train the model\n",
    "#    clusters.fit(X)\n",
    "#    clusters.predict(X)\n",
    "#    \n",
    "#    df2 = df.assign(cluster=clusters.predict(X))\n",
    "#    df2 = df2[[\"city\", \"cluster\", col]]\n",
    "#    \n",
    "#    return get_mean(df2, col, cluster_no)"
   ]
  },
  {
   "cell_type": "code",
   "execution_count": 110,
   "metadata": {},
   "outputs": [],
   "source": [
    "#def get_mean(df, col, cluster_no):\n",
    "#    \n",
    "#    cluster = (df.loc[df[\"cluster\"] == cluster_no])\n",
    "#    list1 = list(cluster[\"city\"])\n",
    "#    list2 = list(cluster[col])\n",
    "#    zipped = list(zip(list1, list2))\n",
    "#    mean = round(cluster[col].mean())\n",
    "#    \n",
    "#    print(zipped)\n",
    "#    print(f\"\\nThe average {col} of this cluster is {mean}\")\n",
    "#    print(\"--------------------------------------------------------------------------------------------\")"
   ]
  },
  {
   "cell_type": "code",
   "execution_count": 119,
   "metadata": {},
   "outputs": [],
   "source": [
    "#cluster_one_list(new_weather, 'summer_high', 0)"
   ]
  },
  {
   "cell_type": "markdown",
   "metadata": {},
   "source": [
    "## Socieconomic data"
   ]
  },
  {
   "cell_type": "code",
   "execution_count": 157,
   "metadata": {},
   "outputs": [],
   "source": [
    "soceco = pd.read_json('city-recommender/data/Socio_economic_data.json')"
   ]
  },
  {
   "cell_type": "code",
   "execution_count": 158,
   "metadata": {},
   "outputs": [
    {
     "data": {
      "text/html": [
       "<div>\n",
       "<style scoped>\n",
       "    .dataframe tbody tr th:only-of-type {\n",
       "        vertical-align: middle;\n",
       "    }\n",
       "\n",
       "    .dataframe tbody tr th {\n",
       "        vertical-align: top;\n",
       "    }\n",
       "\n",
       "    .dataframe thead th {\n",
       "        text-align: right;\n",
       "    }\n",
       "</style>\n",
       "<table border=\"1\" class=\"dataframe\">\n",
       "  <thead>\n",
       "    <tr style=\"text-align: right;\">\n",
       "      <th></th>\n",
       "      <th>city</th>\n",
       "      <th>climate</th>\n",
       "      <th>cost_of_living</th>\n",
       "      <th>health_care</th>\n",
       "      <th>pollution</th>\n",
       "      <th>property_income_ratio</th>\n",
       "      <th>purchasing_power</th>\n",
       "      <th>safety</th>\n",
       "      <th>traffic_time</th>\n",
       "      <th>quality_of_life</th>\n",
       "      <th>climate_level</th>\n",
       "      <th>cost_of_living_level</th>\n",
       "      <th>health_care_level</th>\n",
       "      <th>pollution_level</th>\n",
       "      <th>property_income_ratio_level</th>\n",
       "      <th>purchasing_power_level</th>\n",
       "      <th>safety_level</th>\n",
       "      <th>traffic_time_level</th>\n",
       "      <th>quality_of_life_level</th>\n",
       "    </tr>\n",
       "  </thead>\n",
       "  <tbody>\n",
       "    <tr>\n",
       "      <th>0</th>\n",
       "      <td>Amsterdam</td>\n",
       "      <td>87.45</td>\n",
       "      <td>84.18</td>\n",
       "      <td>69.45</td>\n",
       "      <td>30.79</td>\n",
       "      <td>10.98</td>\n",
       "      <td>81.63</td>\n",
       "      <td>67.32</td>\n",
       "      <td>29.88</td>\n",
       "      <td>168.38</td>\n",
       "      <td>Very High</td>\n",
       "      <td>Moderate</td>\n",
       "      <td>High</td>\n",
       "      <td>Low</td>\n",
       "      <td>Moderate</td>\n",
       "      <td>Moderate</td>\n",
       "      <td>High</td>\n",
       "      <td>Low</td>\n",
       "      <td>Very High</td>\n",
       "    </tr>\n",
       "    <tr>\n",
       "      <th>1</th>\n",
       "      <td>Andorra-La-Vella</td>\n",
       "      <td>NaN</td>\n",
       "      <td>66.69</td>\n",
       "      <td>69.44</td>\n",
       "      <td>64.08</td>\n",
       "      <td>7.44</td>\n",
       "      <td>82.46</td>\n",
       "      <td>87.16</td>\n",
       "      <td>5.00</td>\n",
       "      <td>NaN</td>\n",
       "      <td>None</td>\n",
       "      <td>Moderate</td>\n",
       "      <td>High</td>\n",
       "      <td>High</td>\n",
       "      <td>Low</td>\n",
       "      <td>Moderate</td>\n",
       "      <td>Very High</td>\n",
       "      <td>Very Low</td>\n",
       "      <td>None</td>\n",
       "    </tr>\n",
       "    <tr>\n",
       "      <th>2</th>\n",
       "      <td>Athens</td>\n",
       "      <td>95.18</td>\n",
       "      <td>59.28</td>\n",
       "      <td>56.17</td>\n",
       "      <td>57.30</td>\n",
       "      <td>12.75</td>\n",
       "      <td>40.69</td>\n",
       "      <td>50.49</td>\n",
       "      <td>37.98</td>\n",
       "      <td>119.84</td>\n",
       "      <td>Very High</td>\n",
       "      <td>Low</td>\n",
       "      <td>Moderate</td>\n",
       "      <td>Moderate</td>\n",
       "      <td>High</td>\n",
       "      <td>Very Low</td>\n",
       "      <td>Moderate</td>\n",
       "      <td>Moderate</td>\n",
       "      <td>High</td>\n",
       "    </tr>\n",
       "    <tr>\n",
       "      <th>3</th>\n",
       "      <td>Belgrade</td>\n",
       "      <td>84.14</td>\n",
       "      <td>40.49</td>\n",
       "      <td>53.69</td>\n",
       "      <td>63.57</td>\n",
       "      <td>22.22</td>\n",
       "      <td>34.87</td>\n",
       "      <td>62.02</td>\n",
       "      <td>35.89</td>\n",
       "      <td>107.89</td>\n",
       "      <td>Very High</td>\n",
       "      <td>Very Low</td>\n",
       "      <td>Moderate</td>\n",
       "      <td>High</td>\n",
       "      <td>Very High</td>\n",
       "      <td>Very Low</td>\n",
       "      <td>High</td>\n",
       "      <td>Moderate</td>\n",
       "      <td>Moderate</td>\n",
       "    </tr>\n",
       "    <tr>\n",
       "      <th>4</th>\n",
       "      <td>Berlin</td>\n",
       "      <td>83.35</td>\n",
       "      <td>67.41</td>\n",
       "      <td>69.68</td>\n",
       "      <td>39.45</td>\n",
       "      <td>9.63</td>\n",
       "      <td>98.54</td>\n",
       "      <td>58.92</td>\n",
       "      <td>34.06</td>\n",
       "      <td>164.83</td>\n",
       "      <td>Very High</td>\n",
       "      <td>Moderate</td>\n",
       "      <td>High</td>\n",
       "      <td>Low</td>\n",
       "      <td>Moderate</td>\n",
       "      <td>High</td>\n",
       "      <td>Moderate</td>\n",
       "      <td>Low</td>\n",
       "      <td>Very High</td>\n",
       "    </tr>\n",
       "  </tbody>\n",
       "</table>\n",
       "</div>"
      ],
      "text/plain": [
       "               city  climate  cost_of_living  health_care  pollution  \\\n",
       "0         Amsterdam    87.45           84.18        69.45      30.79   \n",
       "1  Andorra-La-Vella      NaN           66.69        69.44      64.08   \n",
       "2            Athens    95.18           59.28        56.17      57.30   \n",
       "3          Belgrade    84.14           40.49        53.69      63.57   \n",
       "4            Berlin    83.35           67.41        69.68      39.45   \n",
       "\n",
       "   property_income_ratio  purchasing_power  safety  traffic_time  \\\n",
       "0                  10.98             81.63   67.32         29.88   \n",
       "1                   7.44             82.46   87.16          5.00   \n",
       "2                  12.75             40.69   50.49         37.98   \n",
       "3                  22.22             34.87   62.02         35.89   \n",
       "4                   9.63             98.54   58.92         34.06   \n",
       "\n",
       "   quality_of_life climate_level cost_of_living_level health_care_level  \\\n",
       "0           168.38     Very High             Moderate              High   \n",
       "1              NaN          None             Moderate              High   \n",
       "2           119.84     Very High                  Low          Moderate   \n",
       "3           107.89     Very High             Very Low          Moderate   \n",
       "4           164.83     Very High             Moderate              High   \n",
       "\n",
       "  pollution_level property_income_ratio_level purchasing_power_level  \\\n",
       "0             Low                    Moderate               Moderate   \n",
       "1            High                         Low               Moderate   \n",
       "2        Moderate                        High               Very Low   \n",
       "3            High                   Very High               Very Low   \n",
       "4             Low                    Moderate                   High   \n",
       "\n",
       "  safety_level traffic_time_level quality_of_life_level  \n",
       "0         High                Low             Very High  \n",
       "1    Very High           Very Low                  None  \n",
       "2     Moderate           Moderate                  High  \n",
       "3         High           Moderate              Moderate  \n",
       "4     Moderate                Low             Very High  "
      ]
     },
     "execution_count": 158,
     "metadata": {},
     "output_type": "execute_result"
    }
   ],
   "source": [
    "soceco.head()"
   ]
  },
  {
   "cell_type": "code",
   "execution_count": 159,
   "metadata": {},
   "outputs": [
    {
     "data": {
      "text/plain": [
       "Index(['city', 'climate', 'cost_of_living', 'health_care', 'pollution',\n",
       "       'property_income_ratio', 'purchasing_power', 'safety', 'traffic_time',\n",
       "       'quality_of_life', 'climate_level', 'cost_of_living_level',\n",
       "       'health_care_level', 'pollution_level', 'property_income_ratio_level',\n",
       "       'purchasing_power_level', 'safety_level', 'traffic_time_level',\n",
       "       'quality_of_life_level'],\n",
       "      dtype='object')"
      ]
     },
     "execution_count": 159,
     "metadata": {},
     "output_type": "execute_result"
    }
   ],
   "source": [
    "soceco.columns"
   ]
  },
  {
   "cell_type": "code",
   "execution_count": 160,
   "metadata": {},
   "outputs": [],
   "source": [
    "soceco = soceco[['city', 'climate', 'cost_of_living', 'health_care', \n",
    "                 'pollution', 'property_income_ratio', 'purchasing_power', \n",
    "                 'safety', 'traffic_time', 'quality_of_life']]"
   ]
  },
  {
   "cell_type": "code",
   "execution_count": 161,
   "metadata": {},
   "outputs": [
    {
     "data": {
      "text/plain": [
       "city                     0\n",
       "climate                  1\n",
       "cost_of_living           2\n",
       "health_care              0\n",
       "pollution                0\n",
       "property_income_ratio    0\n",
       "purchasing_power         2\n",
       "safety                   0\n",
       "traffic_time             0\n",
       "quality_of_life          3\n",
       "dtype: int64"
      ]
     },
     "execution_count": 161,
     "metadata": {},
     "output_type": "execute_result"
    }
   ],
   "source": [
    "soceco.isna().sum()"
   ]
  },
  {
   "cell_type": "code",
   "execution_count": 162,
   "metadata": {},
   "outputs": [
    {
     "data": {
      "text/html": [
       "<div>\n",
       "<style scoped>\n",
       "    .dataframe tbody tr th:only-of-type {\n",
       "        vertical-align: middle;\n",
       "    }\n",
       "\n",
       "    .dataframe tbody tr th {\n",
       "        vertical-align: top;\n",
       "    }\n",
       "\n",
       "    .dataframe thead th {\n",
       "        text-align: right;\n",
       "    }\n",
       "</style>\n",
       "<table border=\"1\" class=\"dataframe\">\n",
       "  <thead>\n",
       "    <tr style=\"text-align: right;\">\n",
       "      <th></th>\n",
       "      <th>city</th>\n",
       "      <th>climate</th>\n",
       "      <th>cost_of_living</th>\n",
       "      <th>health_care</th>\n",
       "      <th>pollution</th>\n",
       "      <th>property_income_ratio</th>\n",
       "      <th>purchasing_power</th>\n",
       "      <th>safety</th>\n",
       "      <th>traffic_time</th>\n",
       "      <th>quality_of_life</th>\n",
       "    </tr>\n",
       "  </thead>\n",
       "  <tbody>\n",
       "    <tr>\n",
       "      <th>1</th>\n",
       "      <td>Andorra-La-Vella</td>\n",
       "      <td>NaN</td>\n",
       "      <td>66.69</td>\n",
       "      <td>69.44</td>\n",
       "      <td>64.08</td>\n",
       "      <td>7.44</td>\n",
       "      <td>82.46</td>\n",
       "      <td>87.16</td>\n",
       "      <td>5.0</td>\n",
       "      <td>NaN</td>\n",
       "    </tr>\n",
       "  </tbody>\n",
       "</table>\n",
       "</div>"
      ],
      "text/plain": [
       "               city  climate  cost_of_living  health_care  pollution  \\\n",
       "1  Andorra-La-Vella      NaN           66.69        69.44      64.08   \n",
       "\n",
       "   property_income_ratio  purchasing_power  safety  traffic_time  \\\n",
       "1                   7.44             82.46   87.16           5.0   \n",
       "\n",
       "   quality_of_life  \n",
       "1              NaN  "
      ]
     },
     "execution_count": 162,
     "metadata": {},
     "output_type": "execute_result"
    }
   ],
   "source": [
    "soceco[soceco['climate'].isna()]"
   ]
  },
  {
   "cell_type": "code",
   "execution_count": 163,
   "metadata": {},
   "outputs": [
    {
     "data": {
      "text/html": [
       "<div>\n",
       "<style scoped>\n",
       "    .dataframe tbody tr th:only-of-type {\n",
       "        vertical-align: middle;\n",
       "    }\n",
       "\n",
       "    .dataframe tbody tr th {\n",
       "        vertical-align: top;\n",
       "    }\n",
       "\n",
       "    .dataframe thead th {\n",
       "        text-align: right;\n",
       "    }\n",
       "</style>\n",
       "<table border=\"1\" class=\"dataframe\">\n",
       "  <thead>\n",
       "    <tr style=\"text-align: right;\">\n",
       "      <th></th>\n",
       "      <th>city</th>\n",
       "      <th>climate</th>\n",
       "      <th>cost_of_living</th>\n",
       "      <th>health_care</th>\n",
       "      <th>pollution</th>\n",
       "      <th>property_income_ratio</th>\n",
       "      <th>purchasing_power</th>\n",
       "      <th>safety</th>\n",
       "      <th>traffic_time</th>\n",
       "      <th>quality_of_life</th>\n",
       "    </tr>\n",
       "  </thead>\n",
       "  <tbody>\n",
       "    <tr>\n",
       "      <th>20</th>\n",
       "      <td>Monaco</td>\n",
       "      <td>94.90</td>\n",
       "      <td>NaN</td>\n",
       "      <td>71.53</td>\n",
       "      <td>80.23</td>\n",
       "      <td>48.88</td>\n",
       "      <td>NaN</td>\n",
       "      <td>79.26</td>\n",
       "      <td>18.33</td>\n",
       "      <td>NaN</td>\n",
       "    </tr>\n",
       "    <tr>\n",
       "      <th>23</th>\n",
       "      <td>Nuuk</td>\n",
       "      <td>24.01</td>\n",
       "      <td>NaN</td>\n",
       "      <td>75.00</td>\n",
       "      <td>70.94</td>\n",
       "      <td>8.29</td>\n",
       "      <td>NaN</td>\n",
       "      <td>72.02</td>\n",
       "      <td>18.75</td>\n",
       "      <td>NaN</td>\n",
       "    </tr>\n",
       "  </tbody>\n",
       "</table>\n",
       "</div>"
      ],
      "text/plain": [
       "      city  climate  cost_of_living  health_care  pollution  \\\n",
       "20  Monaco    94.90             NaN        71.53      80.23   \n",
       "23    Nuuk    24.01             NaN        75.00      70.94   \n",
       "\n",
       "    property_income_ratio  purchasing_power  safety  traffic_time  \\\n",
       "20                  48.88               NaN   79.26         18.33   \n",
       "23                   8.29               NaN   72.02         18.75   \n",
       "\n",
       "    quality_of_life  \n",
       "20              NaN  \n",
       "23              NaN  "
      ]
     },
     "execution_count": 163,
     "metadata": {},
     "output_type": "execute_result"
    }
   ],
   "source": [
    "soceco[soceco['cost_of_living'].isna()]"
   ]
  },
  {
   "cell_type": "code",
   "execution_count": 164,
   "metadata": {},
   "outputs": [
    {
     "data": {
      "text/html": [
       "<div>\n",
       "<style scoped>\n",
       "    .dataframe tbody tr th:only-of-type {\n",
       "        vertical-align: middle;\n",
       "    }\n",
       "\n",
       "    .dataframe tbody tr th {\n",
       "        vertical-align: top;\n",
       "    }\n",
       "\n",
       "    .dataframe thead th {\n",
       "        text-align: right;\n",
       "    }\n",
       "</style>\n",
       "<table border=\"1\" class=\"dataframe\">\n",
       "  <thead>\n",
       "    <tr style=\"text-align: right;\">\n",
       "      <th></th>\n",
       "      <th>city</th>\n",
       "      <th>climate</th>\n",
       "      <th>cost_of_living</th>\n",
       "      <th>health_care</th>\n",
       "      <th>pollution</th>\n",
       "      <th>property_income_ratio</th>\n",
       "      <th>purchasing_power</th>\n",
       "      <th>safety</th>\n",
       "      <th>traffic_time</th>\n",
       "      <th>quality_of_life</th>\n",
       "    </tr>\n",
       "  </thead>\n",
       "  <tbody>\n",
       "    <tr>\n",
       "      <th>20</th>\n",
       "      <td>Monaco</td>\n",
       "      <td>94.90</td>\n",
       "      <td>NaN</td>\n",
       "      <td>71.53</td>\n",
       "      <td>80.23</td>\n",
       "      <td>48.88</td>\n",
       "      <td>NaN</td>\n",
       "      <td>79.26</td>\n",
       "      <td>18.33</td>\n",
       "      <td>NaN</td>\n",
       "    </tr>\n",
       "    <tr>\n",
       "      <th>23</th>\n",
       "      <td>Nuuk</td>\n",
       "      <td>24.01</td>\n",
       "      <td>NaN</td>\n",
       "      <td>75.00</td>\n",
       "      <td>70.94</td>\n",
       "      <td>8.29</td>\n",
       "      <td>NaN</td>\n",
       "      <td>72.02</td>\n",
       "      <td>18.75</td>\n",
       "      <td>NaN</td>\n",
       "    </tr>\n",
       "  </tbody>\n",
       "</table>\n",
       "</div>"
      ],
      "text/plain": [
       "      city  climate  cost_of_living  health_care  pollution  \\\n",
       "20  Monaco    94.90             NaN        71.53      80.23   \n",
       "23    Nuuk    24.01             NaN        75.00      70.94   \n",
       "\n",
       "    property_income_ratio  purchasing_power  safety  traffic_time  \\\n",
       "20                  48.88               NaN   79.26         18.33   \n",
       "23                   8.29               NaN   72.02         18.75   \n",
       "\n",
       "    quality_of_life  \n",
       "20              NaN  \n",
       "23              NaN  "
      ]
     },
     "execution_count": 164,
     "metadata": {},
     "output_type": "execute_result"
    }
   ],
   "source": [
    "soceco[soceco['purchasing_power'].isna()]"
   ]
  },
  {
   "cell_type": "code",
   "execution_count": 165,
   "metadata": {},
   "outputs": [
    {
     "data": {
      "text/html": [
       "<div>\n",
       "<style scoped>\n",
       "    .dataframe tbody tr th:only-of-type {\n",
       "        vertical-align: middle;\n",
       "    }\n",
       "\n",
       "    .dataframe tbody tr th {\n",
       "        vertical-align: top;\n",
       "    }\n",
       "\n",
       "    .dataframe thead th {\n",
       "        text-align: right;\n",
       "    }\n",
       "</style>\n",
       "<table border=\"1\" class=\"dataframe\">\n",
       "  <thead>\n",
       "    <tr style=\"text-align: right;\">\n",
       "      <th></th>\n",
       "      <th>city</th>\n",
       "      <th>climate</th>\n",
       "      <th>cost_of_living</th>\n",
       "      <th>health_care</th>\n",
       "      <th>pollution</th>\n",
       "      <th>property_income_ratio</th>\n",
       "      <th>purchasing_power</th>\n",
       "      <th>safety</th>\n",
       "      <th>traffic_time</th>\n",
       "      <th>quality_of_life</th>\n",
       "    </tr>\n",
       "  </thead>\n",
       "  <tbody>\n",
       "    <tr>\n",
       "      <th>1</th>\n",
       "      <td>Andorra-La-Vella</td>\n",
       "      <td>NaN</td>\n",
       "      <td>66.69</td>\n",
       "      <td>69.44</td>\n",
       "      <td>64.08</td>\n",
       "      <td>7.44</td>\n",
       "      <td>82.46</td>\n",
       "      <td>87.16</td>\n",
       "      <td>5.00</td>\n",
       "      <td>NaN</td>\n",
       "    </tr>\n",
       "    <tr>\n",
       "      <th>20</th>\n",
       "      <td>Monaco</td>\n",
       "      <td>94.90</td>\n",
       "      <td>NaN</td>\n",
       "      <td>71.53</td>\n",
       "      <td>80.23</td>\n",
       "      <td>48.88</td>\n",
       "      <td>NaN</td>\n",
       "      <td>79.26</td>\n",
       "      <td>18.33</td>\n",
       "      <td>NaN</td>\n",
       "    </tr>\n",
       "    <tr>\n",
       "      <th>23</th>\n",
       "      <td>Nuuk</td>\n",
       "      <td>24.01</td>\n",
       "      <td>NaN</td>\n",
       "      <td>75.00</td>\n",
       "      <td>70.94</td>\n",
       "      <td>8.29</td>\n",
       "      <td>NaN</td>\n",
       "      <td>72.02</td>\n",
       "      <td>18.75</td>\n",
       "      <td>NaN</td>\n",
       "    </tr>\n",
       "  </tbody>\n",
       "</table>\n",
       "</div>"
      ],
      "text/plain": [
       "                city  climate  cost_of_living  health_care  pollution  \\\n",
       "1   Andorra-La-Vella      NaN           66.69        69.44      64.08   \n",
       "20            Monaco    94.90             NaN        71.53      80.23   \n",
       "23              Nuuk    24.01             NaN        75.00      70.94   \n",
       "\n",
       "    property_income_ratio  purchasing_power  safety  traffic_time  \\\n",
       "1                    7.44             82.46   87.16          5.00   \n",
       "20                  48.88               NaN   79.26         18.33   \n",
       "23                   8.29               NaN   72.02         18.75   \n",
       "\n",
       "    quality_of_life  \n",
       "1               NaN  \n",
       "20              NaN  \n",
       "23              NaN  "
      ]
     },
     "execution_count": 165,
     "metadata": {},
     "output_type": "execute_result"
    }
   ],
   "source": [
    "soceco[soceco['quality_of_life'].isna()]"
   ]
  },
  {
   "cell_type": "markdown",
   "metadata": {},
   "source": [
    "**Drop Andorra-La-Vella, Monaco and Nuuk because of missing data**"
   ]
  },
  {
   "cell_type": "code",
   "execution_count": 166,
   "metadata": {},
   "outputs": [
    {
     "data": {
      "text/plain": [
       "city                     0\n",
       "climate                  0\n",
       "cost_of_living           0\n",
       "health_care              0\n",
       "pollution                0\n",
       "property_income_ratio    0\n",
       "purchasing_power         0\n",
       "safety                   0\n",
       "traffic_time             0\n",
       "quality_of_life          0\n",
       "dtype: int64"
      ]
     },
     "execution_count": 166,
     "metadata": {},
     "output_type": "execute_result"
    }
   ],
   "source": [
    "soceco.drop([1, 20, 23]).reset_index(drop=True).isna().sum()"
   ]
  },
  {
   "cell_type": "code",
   "execution_count": 167,
   "metadata": {},
   "outputs": [],
   "source": [
    "soceco = soceco.drop([1, 20, 23]).reset_index(drop=True)"
   ]
  },
  {
   "cell_type": "code",
   "execution_count": 168,
   "metadata": {},
   "outputs": [
    {
     "data": {
      "text/html": [
       "<div>\n",
       "<style scoped>\n",
       "    .dataframe tbody tr th:only-of-type {\n",
       "        vertical-align: middle;\n",
       "    }\n",
       "\n",
       "    .dataframe tbody tr th {\n",
       "        vertical-align: top;\n",
       "    }\n",
       "\n",
       "    .dataframe thead th {\n",
       "        text-align: right;\n",
       "    }\n",
       "</style>\n",
       "<table border=\"1\" class=\"dataframe\">\n",
       "  <thead>\n",
       "    <tr style=\"text-align: right;\">\n",
       "      <th></th>\n",
       "      <th>city</th>\n",
       "      <th>climate</th>\n",
       "      <th>cost_of_living</th>\n",
       "      <th>health_care</th>\n",
       "      <th>pollution</th>\n",
       "      <th>property_income_ratio</th>\n",
       "      <th>purchasing_power</th>\n",
       "      <th>safety</th>\n",
       "      <th>traffic_time</th>\n",
       "      <th>quality_of_life</th>\n",
       "    </tr>\n",
       "  </thead>\n",
       "  <tbody>\n",
       "    <tr>\n",
       "      <th>0</th>\n",
       "      <td>Amsterdam</td>\n",
       "      <td>87.45</td>\n",
       "      <td>84.18</td>\n",
       "      <td>69.45</td>\n",
       "      <td>30.79</td>\n",
       "      <td>10.98</td>\n",
       "      <td>81.63</td>\n",
       "      <td>67.32</td>\n",
       "      <td>29.88</td>\n",
       "      <td>168.38</td>\n",
       "    </tr>\n",
       "    <tr>\n",
       "      <th>1</th>\n",
       "      <td>Athens</td>\n",
       "      <td>95.18</td>\n",
       "      <td>59.28</td>\n",
       "      <td>56.17</td>\n",
       "      <td>57.30</td>\n",
       "      <td>12.75</td>\n",
       "      <td>40.69</td>\n",
       "      <td>50.49</td>\n",
       "      <td>37.98</td>\n",
       "      <td>119.84</td>\n",
       "    </tr>\n",
       "    <tr>\n",
       "      <th>2</th>\n",
       "      <td>Belgrade</td>\n",
       "      <td>84.14</td>\n",
       "      <td>40.49</td>\n",
       "      <td>53.69</td>\n",
       "      <td>63.57</td>\n",
       "      <td>22.22</td>\n",
       "      <td>34.87</td>\n",
       "      <td>62.02</td>\n",
       "      <td>35.89</td>\n",
       "      <td>107.89</td>\n",
       "    </tr>\n",
       "    <tr>\n",
       "      <th>3</th>\n",
       "      <td>Berlin</td>\n",
       "      <td>83.35</td>\n",
       "      <td>67.41</td>\n",
       "      <td>69.68</td>\n",
       "      <td>39.45</td>\n",
       "      <td>9.63</td>\n",
       "      <td>98.54</td>\n",
       "      <td>58.92</td>\n",
       "      <td>34.06</td>\n",
       "      <td>164.83</td>\n",
       "    </tr>\n",
       "    <tr>\n",
       "      <th>4</th>\n",
       "      <td>Bratislava</td>\n",
       "      <td>80.72</td>\n",
       "      <td>50.81</td>\n",
       "      <td>57.17</td>\n",
       "      <td>41.12</td>\n",
       "      <td>13.37</td>\n",
       "      <td>61.82</td>\n",
       "      <td>68.68</td>\n",
       "      <td>30.89</td>\n",
       "      <td>147.54</td>\n",
       "    </tr>\n",
       "  </tbody>\n",
       "</table>\n",
       "</div>"
      ],
      "text/plain": [
       "         city  climate  cost_of_living  health_care  pollution  \\\n",
       "0   Amsterdam    87.45           84.18        69.45      30.79   \n",
       "1      Athens    95.18           59.28        56.17      57.30   \n",
       "2    Belgrade    84.14           40.49        53.69      63.57   \n",
       "3      Berlin    83.35           67.41        69.68      39.45   \n",
       "4  Bratislava    80.72           50.81        57.17      41.12   \n",
       "\n",
       "   property_income_ratio  purchasing_power  safety  traffic_time  \\\n",
       "0                  10.98             81.63   67.32         29.88   \n",
       "1                  12.75             40.69   50.49         37.98   \n",
       "2                  22.22             34.87   62.02         35.89   \n",
       "3                   9.63             98.54   58.92         34.06   \n",
       "4                  13.37             61.82   68.68         30.89   \n",
       "\n",
       "   quality_of_life  \n",
       "0           168.38  \n",
       "1           119.84  \n",
       "2           107.89  \n",
       "3           164.83  \n",
       "4           147.54  "
      ]
     },
     "execution_count": 168,
     "metadata": {},
     "output_type": "execute_result"
    }
   ],
   "source": [
    "soceco.head()"
   ]
  },
  {
   "cell_type": "markdown",
   "metadata": {},
   "source": [
    "### Try out the function on Socioeconomic data"
   ]
  },
  {
   "cell_type": "code",
   "execution_count": 182,
   "metadata": {},
   "outputs": [
    {
     "name": "stdout",
     "output_type": "stream",
     "text": [
      "{'Amsterdam': 84.18, 'Copenhagen': 92.92, 'Dublin': 82.5, 'London': 80.32, 'Luxembourg': 86.2, 'Oslo': 98.64, 'Paris': 89.83, 'Reykjavik': 91.58, 'Stockholm': 81.35}\n",
      "\n",
      "The average cost_of_living of this cluster is 88.0\n",
      "--------------------------------------------------------------------------------------------\n",
      "{'Belgrade': 40.49, 'Bucharest': 41.44, 'Budapest': 44.0, 'Chisinau': 34.72, 'Kiev': 32.9, 'Minsk': 35.39, 'Moscow': 42.31, 'Podgorica': 41.9, 'Sarajevo': 37.81, 'Skopje': 36.73, 'Sofia': 42.79, 'Tirana': 39.7, 'Vilnius': 47.01, 'Warsaw': 44.33}\n",
      "\n",
      "The average cost_of_living of this cluster is 40.0\n",
      "--------------------------------------------------------------------------------------------\n",
      "{'Berlin': 67.41, 'Brussels': 74.85, 'Helsinki': 76.76, 'Nicosia': 66.69, 'Rome': 73.95, 'Valletta': 76.54, 'Vienna': 68.72}\n",
      "\n",
      "The average cost_of_living of this cluster is 72.0\n",
      "--------------------------------------------------------------------------------------------\n",
      "{'Athens': 59.28, 'Bratislava': 50.81, 'Lisbon': 52.08, 'Ljubljana': 58.09, 'Madrid': 62.3, 'Prague': 49.46, 'Riga': 51.64, 'Tallinn': 56.05, 'Zagreb': 52.88}\n",
      "\n",
      "The average cost_of_living of this cluster is 55.0\n"
     ]
    }
   ],
   "source": [
    "cluster_one_list(soceco, 'cost_of_living', 4)"
   ]
  },
  {
   "cell_type": "code",
   "execution_count": null,
   "metadata": {},
   "outputs": [],
   "source": []
  }
 ],
 "metadata": {
  "kernelspec": {
   "display_name": "Python 3",
   "language": "python",
   "name": "python3"
  },
  "language_info": {
   "codemirror_mode": {
    "name": "ipython",
    "version": 3
   },
   "file_extension": ".py",
   "mimetype": "text/x-python",
   "name": "python",
   "nbconvert_exporter": "python",
   "pygments_lexer": "ipython3",
   "version": "3.8.3"
  }
 },
 "nbformat": 4,
 "nbformat_minor": 4
}
