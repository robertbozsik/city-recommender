{
 "cells": [
  {
   "cell_type": "markdown",
   "metadata": {},
   "source": [
    "# Venue data of cities from Foursquare API"
   ]
  },
  {
   "cell_type": "code",
   "execution_count": 1,
   "metadata": {},
   "outputs": [],
   "source": [
    "import pandas as pd\n",
    "import numpy as np\n",
    "import requests\n",
    "import json\n",
    "import os\n",
    "pd.options.display.max_columns = 500"
   ]
  },
  {
   "cell_type": "code",
   "execution_count": 2,
   "metadata": {},
   "outputs": [],
   "source": [
    "# os.getenv('PATH')"
   ]
  },
  {
   "cell_type": "code",
   "execution_count": 3,
   "metadata": {},
   "outputs": [],
   "source": [
    "# os.getenv('PWD')"
   ]
  },
  {
   "cell_type": "markdown",
   "metadata": {},
   "source": [
    "## Foursquare API test with Berlin"
   ]
  },
  {
   "cell_type": "code",
   "execution_count": 4,
   "metadata": {},
   "outputs": [],
   "source": [
    "# run source CREDENTIALS command before jupyter notebook"
   ]
  },
  {
   "cell_type": "code",
   "execution_count": 5,
   "metadata": {},
   "outputs": [],
   "source": [
    "client_id = os.getenv('FOURSQUARE_CLIENT_ID')\n",
    "client_secret = os.getenv('FOURSQUARE_CLIENT_SECRET')\n",
    "version = '20180323'"
   ]
  },
  {
   "cell_type": "code",
   "execution_count": 6,
   "metadata": {},
   "outputs": [],
   "source": [
    "test_limit = 100"
   ]
  },
  {
   "cell_type": "code",
   "execution_count": 7,
   "metadata": {},
   "outputs": [],
   "source": [
    "# Foursquare API call example - WORKS\n",
    "\n",
    "url = 'https://api.foursquare.com/v2/venues/explore'\n",
    "\n",
    "params = (dict(\n",
    "    client_id=client_id,\n",
    "    client_secret=client_secret,\n",
    "    v='20180323',\n",
    "    #ll='40.7243,-74.0018',\n",
    "    near='Berlin',\n",
    "    #query='coffee',\n",
    "    limit=test_limit\n",
    "))\n",
    "\n",
    "resp = requests.get(url=url, params=params)\n",
    "data = json.loads(resp.text)"
   ]
  },
  {
   "cell_type": "code",
   "execution_count": 8,
   "metadata": {},
   "outputs": [],
   "source": [
    "#resp.json()"
   ]
  },
  {
   "cell_type": "code",
   "execution_count": 9,
   "metadata": {},
   "outputs": [],
   "source": [
    "venues = resp.json()"
   ]
  },
  {
   "cell_type": "code",
   "execution_count": 10,
   "metadata": {},
   "outputs": [
    {
     "data": {
      "text/plain": [
       "217"
      ]
     },
     "execution_count": 10,
     "metadata": {},
     "output_type": "execute_result"
    }
   ],
   "source": [
    "n_results = venues['response']['totalResults']\n",
    "n_results"
   ]
  },
  {
   "cell_type": "code",
   "execution_count": 11,
   "metadata": {},
   "outputs": [
    {
     "data": {
      "text/plain": [
       "'Park am Gleisdreieck - Ostpark'"
      ]
     },
     "execution_count": 11,
     "metadata": {},
     "output_type": "execute_result"
    }
   ],
   "source": [
    "v_name = venues['response']['groups'][0]['items'][11]['venue']['name']\n",
    "v_name"
   ]
  },
  {
   "cell_type": "code",
   "execution_count": 12,
   "metadata": {},
   "outputs": [
    {
     "data": {
      "text/plain": [
       "'Park'"
      ]
     },
     "execution_count": 12,
     "metadata": {},
     "output_type": "execute_result"
    }
   ],
   "source": [
    "v_cat_name = venues['response']['groups'][0]['items'][11]['venue']['categories'][0]['name']\n",
    "v_cat_name"
   ]
  },
  {
   "cell_type": "code",
   "execution_count": 13,
   "metadata": {},
   "outputs": [
    {
     "data": {
      "text/plain": [
       "100"
      ]
     },
     "execution_count": 13,
     "metadata": {},
     "output_type": "execute_result"
    }
   ],
   "source": [
    "len(range(test_limit))"
   ]
  },
  {
   "cell_type": "code",
   "execution_count": 14,
   "metadata": {},
   "outputs": [],
   "source": [
    "v_list = []\n",
    "\n",
    "for i in range(test_limit):\n",
    "    v_name = venues['response']['groups'][0]['items'][i]['venue']['name']\n",
    "    v_cat_name = venues['response']['groups'][0]['items'][i]['venue']['categories'][0]['name']\n",
    "    v_list.append((v_name, v_cat_name))"
   ]
  },
  {
   "cell_type": "code",
   "execution_count": 15,
   "metadata": {},
   "outputs": [
    {
     "data": {
      "text/plain": [
       "[('Tiergarten', 'Park'),\n",
       " ('Landwehrkanal', 'Canal'),\n",
       " ('Urban Nation', 'Art Gallery'),\n",
       " ('Tempelhofer Feld', 'Park'),\n",
       " ('Café Komine', 'Café'),\n",
       " ('Treptower Park', 'Park'),\n",
       " ('Classic Remise Berlin', 'Museum'),\n",
       " ('Das Stue', 'Hotel'),\n",
       " ('Viktoria-Luise-Platz', 'Plaza')]"
      ]
     },
     "execution_count": 15,
     "metadata": {},
     "output_type": "execute_result"
    }
   ],
   "source": [
    "v_list[0:9]"
   ]
  },
  {
   "cell_type": "code",
   "execution_count": 16,
   "metadata": {},
   "outputs": [],
   "source": [
    "v_name_list = []\n",
    "for j in range(test_limit):\n",
    "    v_name = venues['response']['groups'][0]['items'][j]['venue']['name']\n",
    "    v_name_list.append(v_name)"
   ]
  },
  {
   "cell_type": "code",
   "execution_count": 17,
   "metadata": {},
   "outputs": [
    {
     "data": {
      "text/plain": [
       "['Tiergarten',\n",
       " 'Landwehrkanal',\n",
       " 'Urban Nation',\n",
       " 'Tempelhofer Feld',\n",
       " 'Café Komine',\n",
       " 'Treptower Park',\n",
       " 'Classic Remise Berlin',\n",
       " 'Das Stue',\n",
       " 'Viktoria-Luise-Platz']"
      ]
     },
     "execution_count": 17,
     "metadata": {},
     "output_type": "execute_result"
    }
   ],
   "source": [
    "v_name_list[0:9]"
   ]
  },
  {
   "cell_type": "code",
   "execution_count": 18,
   "metadata": {},
   "outputs": [],
   "source": [
    "v_cat_name_list = []\n",
    "for k in range(test_limit):\n",
    "    v_cat_name = venues['response']['groups'][0]['items'][k]['venue']['categories'][0]['name']\n",
    "    v_cat_name_list.append(v_cat_name)"
   ]
  },
  {
   "cell_type": "code",
   "execution_count": 19,
   "metadata": {},
   "outputs": [
    {
     "data": {
      "text/plain": [
       "['Park',\n",
       " 'Canal',\n",
       " 'Art Gallery',\n",
       " 'Park',\n",
       " 'Café',\n",
       " 'Park',\n",
       " 'Museum',\n",
       " 'Hotel',\n",
       " 'Plaza']"
      ]
     },
     "execution_count": 19,
     "metadata": {},
     "output_type": "execute_result"
    }
   ],
   "source": [
    "v_cat_name_list[0:9]"
   ]
  },
  {
   "cell_type": "code",
   "execution_count": 20,
   "metadata": {},
   "outputs": [],
   "source": [
    "count = [[x, v_cat_name_list.count(x)] for x in set(v_cat_name_list)]"
   ]
  },
  {
   "cell_type": "code",
   "execution_count": 21,
   "metadata": {},
   "outputs": [
    {
     "data": {
      "text/plain": [
       "[['Art Gallery', 2],\n",
       " ['Art Museum', 1],\n",
       " ['Arts & Crafts Store', 1],\n",
       " ['Austrian Restaurant', 1],\n",
       " ['Bakery', 5],\n",
       " ['Bar', 3],\n",
       " ['Beer Bar', 2],\n",
       " ['Beer Garden', 1],\n",
       " ['Beer Store', 1]]"
      ]
     },
     "execution_count": 21,
     "metadata": {},
     "output_type": "execute_result"
    }
   ],
   "source": [
    "sorted(count)[0:9]"
   ]
  },
  {
   "cell_type": "markdown",
   "metadata": {},
   "source": [
    "## Create a test DataFrame for Berlin"
   ]
  },
  {
   "cell_type": "code",
   "execution_count": 22,
   "metadata": {},
   "outputs": [],
   "source": [
    "dict_test = {'city': 'berlin', \n",
    "             'venue_name': v_name_list, \n",
    "             'venue_category': v_cat_name_list}"
   ]
  },
  {
   "cell_type": "code",
   "execution_count": 23,
   "metadata": {},
   "outputs": [],
   "source": [
    "#dict_test"
   ]
  },
  {
   "cell_type": "code",
   "execution_count": 24,
   "metadata": {},
   "outputs": [
    {
     "data": {
      "text/html": [
       "<div>\n",
       "<style scoped>\n",
       "    .dataframe tbody tr th:only-of-type {\n",
       "        vertical-align: middle;\n",
       "    }\n",
       "\n",
       "    .dataframe tbody tr th {\n",
       "        vertical-align: top;\n",
       "    }\n",
       "\n",
       "    .dataframe thead th {\n",
       "        text-align: right;\n",
       "    }\n",
       "</style>\n",
       "<table border=\"1\" class=\"dataframe\">\n",
       "  <thead>\n",
       "    <tr style=\"text-align: right;\">\n",
       "      <th></th>\n",
       "      <th>city</th>\n",
       "      <th>venue_name</th>\n",
       "      <th>venue_category</th>\n",
       "    </tr>\n",
       "  </thead>\n",
       "  <tbody>\n",
       "    <tr>\n",
       "      <th>0</th>\n",
       "      <td>berlin</td>\n",
       "      <td>Tiergarten</td>\n",
       "      <td>Park</td>\n",
       "    </tr>\n",
       "    <tr>\n",
       "      <th>1</th>\n",
       "      <td>berlin</td>\n",
       "      <td>Landwehrkanal</td>\n",
       "      <td>Canal</td>\n",
       "    </tr>\n",
       "    <tr>\n",
       "      <th>2</th>\n",
       "      <td>berlin</td>\n",
       "      <td>Urban Nation</td>\n",
       "      <td>Art Gallery</td>\n",
       "    </tr>\n",
       "    <tr>\n",
       "      <th>3</th>\n",
       "      <td>berlin</td>\n",
       "      <td>Tempelhofer Feld</td>\n",
       "      <td>Park</td>\n",
       "    </tr>\n",
       "    <tr>\n",
       "      <th>4</th>\n",
       "      <td>berlin</td>\n",
       "      <td>Café Komine</td>\n",
       "      <td>Café</td>\n",
       "    </tr>\n",
       "  </tbody>\n",
       "</table>\n",
       "</div>"
      ],
      "text/plain": [
       "     city        venue_name venue_category\n",
       "0  berlin        Tiergarten           Park\n",
       "1  berlin     Landwehrkanal          Canal\n",
       "2  berlin      Urban Nation    Art Gallery\n",
       "3  berlin  Tempelhofer Feld           Park\n",
       "4  berlin       Café Komine           Café"
      ]
     },
     "execution_count": 24,
     "metadata": {},
     "output_type": "execute_result"
    }
   ],
   "source": [
    "pd.DataFrame(dict_test).head()"
   ]
  },
  {
   "cell_type": "markdown",
   "metadata": {},
   "source": [
    "## Create a test function for Berlin"
   ]
  },
  {
   "cell_type": "code",
   "execution_count": 25,
   "metadata": {},
   "outputs": [],
   "source": [
    "def venues_of_a_city(city, lim=100):\n",
    "    \n",
    "    '''This function collects the venues of a city from the Foursquare API\n",
    "    and returns the results as a Pandas DataFrame'''\n",
    "    \n",
    "    # Foursquare API\n",
    "    client_id = os.getenv('FOURSQUARE_CLIENT_ID')\n",
    "    client_secret = os.getenv('FOURSQUARE_CLIENT_SECRET')\n",
    "    version = '20180323'\n",
    "    \n",
    "    url = 'https://api.foursquare.com/v2/venues/explore'\n",
    "\n",
    "    params = (dict(\n",
    "        client_id=client_id,\n",
    "        client_secret=client_secret,\n",
    "        v=version,\n",
    "        near=city,\n",
    "        limit=lim\n",
    "    ))\n",
    "    \n",
    "    resp = requests.get(url=url, params=params)\n",
    "    \n",
    "    venues = resp.json()\n",
    "    \n",
    "    # get the venue names\n",
    "    v_name_list = []\n",
    "    for j in range(lim):\n",
    "        v_name = venues['response']['groups'][0]['items'][j]['venue']['name']\n",
    "        v_name_list.append(v_name)\n",
    "    \n",
    "    # get the venue categories\n",
    "    v_cat_name_list = []\n",
    "    for k in range(lim):\n",
    "        v_cat_name = venues['response']['groups'][0]['items'][k]['venue']['categories'][0]['name']\n",
    "        v_cat_name_list.append(v_cat_name)\n",
    "    \n",
    "    # create a dictionary\n",
    "    dict_berlin = {'city': city, \n",
    "                   'venue_name': v_name_list, \n",
    "                   'venue_category': v_cat_name_list}\n",
    "    \n",
    "    # create a DateFrame\n",
    "    df_berlin = pd.DataFrame(dict_berlin)\n",
    "    \n",
    "    return df_berlin\n"
   ]
  },
  {
   "cell_type": "code",
   "execution_count": 26,
   "metadata": {},
   "outputs": [
    {
     "data": {
      "text/html": [
       "<div>\n",
       "<style scoped>\n",
       "    .dataframe tbody tr th:only-of-type {\n",
       "        vertical-align: middle;\n",
       "    }\n",
       "\n",
       "    .dataframe tbody tr th {\n",
       "        vertical-align: top;\n",
       "    }\n",
       "\n",
       "    .dataframe thead th {\n",
       "        text-align: right;\n",
       "    }\n",
       "</style>\n",
       "<table border=\"1\" class=\"dataframe\">\n",
       "  <thead>\n",
       "    <tr style=\"text-align: right;\">\n",
       "      <th></th>\n",
       "      <th>city</th>\n",
       "      <th>venue_name</th>\n",
       "      <th>venue_category</th>\n",
       "    </tr>\n",
       "  </thead>\n",
       "  <tbody>\n",
       "    <tr>\n",
       "      <th>0</th>\n",
       "      <td>Berlin</td>\n",
       "      <td>Tiergarten</td>\n",
       "      <td>Park</td>\n",
       "    </tr>\n",
       "    <tr>\n",
       "      <th>1</th>\n",
       "      <td>Berlin</td>\n",
       "      <td>Landwehrkanal</td>\n",
       "      <td>Canal</td>\n",
       "    </tr>\n",
       "    <tr>\n",
       "      <th>2</th>\n",
       "      <td>Berlin</td>\n",
       "      <td>Urban Nation</td>\n",
       "      <td>Art Gallery</td>\n",
       "    </tr>\n",
       "    <tr>\n",
       "      <th>3</th>\n",
       "      <td>Berlin</td>\n",
       "      <td>Tempelhofer Feld</td>\n",
       "      <td>Park</td>\n",
       "    </tr>\n",
       "    <tr>\n",
       "      <th>4</th>\n",
       "      <td>Berlin</td>\n",
       "      <td>Café Komine</td>\n",
       "      <td>Café</td>\n",
       "    </tr>\n",
       "  </tbody>\n",
       "</table>\n",
       "</div>"
      ],
      "text/plain": [
       "     city        venue_name venue_category\n",
       "0  Berlin        Tiergarten           Park\n",
       "1  Berlin     Landwehrkanal          Canal\n",
       "2  Berlin      Urban Nation    Art Gallery\n",
       "3  Berlin  Tempelhofer Feld           Park\n",
       "4  Berlin       Café Komine           Café"
      ]
     },
     "execution_count": 26,
     "metadata": {},
     "output_type": "execute_result"
    }
   ],
   "source": [
    "df_berlin = venues_of_a_city('Berlin')\n",
    "df_berlin.head()"
   ]
  },
  {
   "cell_type": "markdown",
   "metadata": {},
   "source": [
    "## Transform the test df"
   ]
  },
  {
   "cell_type": "code",
   "execution_count": 27,
   "metadata": {},
   "outputs": [
    {
     "data": {
      "text/html": [
       "<div>\n",
       "<style scoped>\n",
       "    .dataframe tbody tr th:only-of-type {\n",
       "        vertical-align: middle;\n",
       "    }\n",
       "\n",
       "    .dataframe tbody tr th {\n",
       "        vertical-align: top;\n",
       "    }\n",
       "\n",
       "    .dataframe thead th {\n",
       "        text-align: right;\n",
       "    }\n",
       "</style>\n",
       "<table border=\"1\" class=\"dataframe\">\n",
       "  <thead>\n",
       "    <tr style=\"text-align: right;\">\n",
       "      <th></th>\n",
       "      <th>city</th>\n",
       "      <th>venue_category_Art Gallery</th>\n",
       "      <th>venue_category_Art Museum</th>\n",
       "      <th>venue_category_Arts &amp; Crafts Store</th>\n",
       "      <th>venue_category_Austrian Restaurant</th>\n",
       "      <th>venue_category_Bakery</th>\n",
       "      <th>venue_category_Bar</th>\n",
       "      <th>venue_category_Beer Bar</th>\n",
       "      <th>venue_category_Beer Garden</th>\n",
       "      <th>venue_category_Beer Store</th>\n",
       "      <th>venue_category_Bike Rental / Bike Share</th>\n",
       "      <th>venue_category_Bistro</th>\n",
       "      <th>venue_category_Bookstore</th>\n",
       "      <th>venue_category_Breakfast Spot</th>\n",
       "      <th>venue_category_Café</th>\n",
       "      <th>venue_category_Canal</th>\n",
       "      <th>venue_category_Caucasian Restaurant</th>\n",
       "      <th>venue_category_Climbing Gym</th>\n",
       "      <th>venue_category_Cocktail Bar</th>\n",
       "      <th>venue_category_Coffee Shop</th>\n",
       "      <th>venue_category_Concert Hall</th>\n",
       "      <th>venue_category_Event Space</th>\n",
       "      <th>venue_category_Falafel Restaurant</th>\n",
       "      <th>venue_category_Farmers Market</th>\n",
       "      <th>venue_category_Food Court</th>\n",
       "      <th>venue_category_Forest</th>\n",
       "      <th>venue_category_French Restaurant</th>\n",
       "      <th>venue_category_Gourmet Shop</th>\n",
       "      <th>venue_category_Hostel</th>\n",
       "      <th>venue_category_Hotel</th>\n",
       "      <th>venue_category_Ice Cream Shop</th>\n",
       "      <th>venue_category_Indie Movie Theater</th>\n",
       "      <th>venue_category_Indie Theater</th>\n",
       "      <th>venue_category_Juice Bar</th>\n",
       "      <th>venue_category_Karaoke Bar</th>\n",
       "      <th>venue_category_Korean Restaurant</th>\n",
       "      <th>venue_category_Mediterranean Restaurant</th>\n",
       "      <th>venue_category_Monument / Landmark</th>\n",
       "      <th>venue_category_Mountain</th>\n",
       "      <th>venue_category_Museum</th>\n",
       "      <th>venue_category_Music Venue</th>\n",
       "      <th>venue_category_Park</th>\n",
       "      <th>venue_category_Pizza Place</th>\n",
       "      <th>venue_category_Plaza</th>\n",
       "      <th>venue_category_Scenic Lookout</th>\n",
       "      <th>venue_category_Spa</th>\n",
       "      <th>venue_category_Spanish Restaurant</th>\n",
       "      <th>venue_category_Vegetarian / Vegan Restaurant</th>\n",
       "      <th>venue_category_Whisky Bar</th>\n",
       "      <th>venue_category_Wine Bar</th>\n",
       "    </tr>\n",
       "  </thead>\n",
       "  <tbody>\n",
       "    <tr>\n",
       "      <th>0</th>\n",
       "      <td>Berlin</td>\n",
       "      <td>0</td>\n",
       "      <td>0</td>\n",
       "      <td>0</td>\n",
       "      <td>0</td>\n",
       "      <td>0</td>\n",
       "      <td>0</td>\n",
       "      <td>0</td>\n",
       "      <td>0</td>\n",
       "      <td>0</td>\n",
       "      <td>0</td>\n",
       "      <td>0</td>\n",
       "      <td>0</td>\n",
       "      <td>0</td>\n",
       "      <td>0</td>\n",
       "      <td>0</td>\n",
       "      <td>0</td>\n",
       "      <td>0</td>\n",
       "      <td>0</td>\n",
       "      <td>0</td>\n",
       "      <td>0</td>\n",
       "      <td>0</td>\n",
       "      <td>0</td>\n",
       "      <td>0</td>\n",
       "      <td>0</td>\n",
       "      <td>0</td>\n",
       "      <td>0</td>\n",
       "      <td>0</td>\n",
       "      <td>0</td>\n",
       "      <td>0</td>\n",
       "      <td>0</td>\n",
       "      <td>0</td>\n",
       "      <td>0</td>\n",
       "      <td>0</td>\n",
       "      <td>0</td>\n",
       "      <td>0</td>\n",
       "      <td>0</td>\n",
       "      <td>0</td>\n",
       "      <td>0</td>\n",
       "      <td>0</td>\n",
       "      <td>0</td>\n",
       "      <td>1</td>\n",
       "      <td>0</td>\n",
       "      <td>0</td>\n",
       "      <td>0</td>\n",
       "      <td>0</td>\n",
       "      <td>0</td>\n",
       "      <td>0</td>\n",
       "      <td>0</td>\n",
       "      <td>0</td>\n",
       "    </tr>\n",
       "    <tr>\n",
       "      <th>1</th>\n",
       "      <td>Berlin</td>\n",
       "      <td>0</td>\n",
       "      <td>0</td>\n",
       "      <td>0</td>\n",
       "      <td>0</td>\n",
       "      <td>0</td>\n",
       "      <td>0</td>\n",
       "      <td>0</td>\n",
       "      <td>0</td>\n",
       "      <td>0</td>\n",
       "      <td>0</td>\n",
       "      <td>0</td>\n",
       "      <td>0</td>\n",
       "      <td>0</td>\n",
       "      <td>0</td>\n",
       "      <td>1</td>\n",
       "      <td>0</td>\n",
       "      <td>0</td>\n",
       "      <td>0</td>\n",
       "      <td>0</td>\n",
       "      <td>0</td>\n",
       "      <td>0</td>\n",
       "      <td>0</td>\n",
       "      <td>0</td>\n",
       "      <td>0</td>\n",
       "      <td>0</td>\n",
       "      <td>0</td>\n",
       "      <td>0</td>\n",
       "      <td>0</td>\n",
       "      <td>0</td>\n",
       "      <td>0</td>\n",
       "      <td>0</td>\n",
       "      <td>0</td>\n",
       "      <td>0</td>\n",
       "      <td>0</td>\n",
       "      <td>0</td>\n",
       "      <td>0</td>\n",
       "      <td>0</td>\n",
       "      <td>0</td>\n",
       "      <td>0</td>\n",
       "      <td>0</td>\n",
       "      <td>0</td>\n",
       "      <td>0</td>\n",
       "      <td>0</td>\n",
       "      <td>0</td>\n",
       "      <td>0</td>\n",
       "      <td>0</td>\n",
       "      <td>0</td>\n",
       "      <td>0</td>\n",
       "      <td>0</td>\n",
       "    </tr>\n",
       "    <tr>\n",
       "      <th>2</th>\n",
       "      <td>Berlin</td>\n",
       "      <td>1</td>\n",
       "      <td>0</td>\n",
       "      <td>0</td>\n",
       "      <td>0</td>\n",
       "      <td>0</td>\n",
       "      <td>0</td>\n",
       "      <td>0</td>\n",
       "      <td>0</td>\n",
       "      <td>0</td>\n",
       "      <td>0</td>\n",
       "      <td>0</td>\n",
       "      <td>0</td>\n",
       "      <td>0</td>\n",
       "      <td>0</td>\n",
       "      <td>0</td>\n",
       "      <td>0</td>\n",
       "      <td>0</td>\n",
       "      <td>0</td>\n",
       "      <td>0</td>\n",
       "      <td>0</td>\n",
       "      <td>0</td>\n",
       "      <td>0</td>\n",
       "      <td>0</td>\n",
       "      <td>0</td>\n",
       "      <td>0</td>\n",
       "      <td>0</td>\n",
       "      <td>0</td>\n",
       "      <td>0</td>\n",
       "      <td>0</td>\n",
       "      <td>0</td>\n",
       "      <td>0</td>\n",
       "      <td>0</td>\n",
       "      <td>0</td>\n",
       "      <td>0</td>\n",
       "      <td>0</td>\n",
       "      <td>0</td>\n",
       "      <td>0</td>\n",
       "      <td>0</td>\n",
       "      <td>0</td>\n",
       "      <td>0</td>\n",
       "      <td>0</td>\n",
       "      <td>0</td>\n",
       "      <td>0</td>\n",
       "      <td>0</td>\n",
       "      <td>0</td>\n",
       "      <td>0</td>\n",
       "      <td>0</td>\n",
       "      <td>0</td>\n",
       "      <td>0</td>\n",
       "    </tr>\n",
       "    <tr>\n",
       "      <th>3</th>\n",
       "      <td>Berlin</td>\n",
       "      <td>0</td>\n",
       "      <td>0</td>\n",
       "      <td>0</td>\n",
       "      <td>0</td>\n",
       "      <td>0</td>\n",
       "      <td>0</td>\n",
       "      <td>0</td>\n",
       "      <td>0</td>\n",
       "      <td>0</td>\n",
       "      <td>0</td>\n",
       "      <td>0</td>\n",
       "      <td>0</td>\n",
       "      <td>0</td>\n",
       "      <td>0</td>\n",
       "      <td>0</td>\n",
       "      <td>0</td>\n",
       "      <td>0</td>\n",
       "      <td>0</td>\n",
       "      <td>0</td>\n",
       "      <td>0</td>\n",
       "      <td>0</td>\n",
       "      <td>0</td>\n",
       "      <td>0</td>\n",
       "      <td>0</td>\n",
       "      <td>0</td>\n",
       "      <td>0</td>\n",
       "      <td>0</td>\n",
       "      <td>0</td>\n",
       "      <td>0</td>\n",
       "      <td>0</td>\n",
       "      <td>0</td>\n",
       "      <td>0</td>\n",
       "      <td>0</td>\n",
       "      <td>0</td>\n",
       "      <td>0</td>\n",
       "      <td>0</td>\n",
       "      <td>0</td>\n",
       "      <td>0</td>\n",
       "      <td>0</td>\n",
       "      <td>0</td>\n",
       "      <td>1</td>\n",
       "      <td>0</td>\n",
       "      <td>0</td>\n",
       "      <td>0</td>\n",
       "      <td>0</td>\n",
       "      <td>0</td>\n",
       "      <td>0</td>\n",
       "      <td>0</td>\n",
       "      <td>0</td>\n",
       "    </tr>\n",
       "    <tr>\n",
       "      <th>4</th>\n",
       "      <td>Berlin</td>\n",
       "      <td>0</td>\n",
       "      <td>0</td>\n",
       "      <td>0</td>\n",
       "      <td>0</td>\n",
       "      <td>0</td>\n",
       "      <td>0</td>\n",
       "      <td>0</td>\n",
       "      <td>0</td>\n",
       "      <td>0</td>\n",
       "      <td>0</td>\n",
       "      <td>0</td>\n",
       "      <td>0</td>\n",
       "      <td>0</td>\n",
       "      <td>1</td>\n",
       "      <td>0</td>\n",
       "      <td>0</td>\n",
       "      <td>0</td>\n",
       "      <td>0</td>\n",
       "      <td>0</td>\n",
       "      <td>0</td>\n",
       "      <td>0</td>\n",
       "      <td>0</td>\n",
       "      <td>0</td>\n",
       "      <td>0</td>\n",
       "      <td>0</td>\n",
       "      <td>0</td>\n",
       "      <td>0</td>\n",
       "      <td>0</td>\n",
       "      <td>0</td>\n",
       "      <td>0</td>\n",
       "      <td>0</td>\n",
       "      <td>0</td>\n",
       "      <td>0</td>\n",
       "      <td>0</td>\n",
       "      <td>0</td>\n",
       "      <td>0</td>\n",
       "      <td>0</td>\n",
       "      <td>0</td>\n",
       "      <td>0</td>\n",
       "      <td>0</td>\n",
       "      <td>0</td>\n",
       "      <td>0</td>\n",
       "      <td>0</td>\n",
       "      <td>0</td>\n",
       "      <td>0</td>\n",
       "      <td>0</td>\n",
       "      <td>0</td>\n",
       "      <td>0</td>\n",
       "      <td>0</td>\n",
       "    </tr>\n",
       "  </tbody>\n",
       "</table>\n",
       "</div>"
      ],
      "text/plain": [
       "     city  venue_category_Art Gallery  venue_category_Art Museum  \\\n",
       "0  Berlin                           0                          0   \n",
       "1  Berlin                           0                          0   \n",
       "2  Berlin                           1                          0   \n",
       "3  Berlin                           0                          0   \n",
       "4  Berlin                           0                          0   \n",
       "\n",
       "   venue_category_Arts & Crafts Store  venue_category_Austrian Restaurant  \\\n",
       "0                                   0                                   0   \n",
       "1                                   0                                   0   \n",
       "2                                   0                                   0   \n",
       "3                                   0                                   0   \n",
       "4                                   0                                   0   \n",
       "\n",
       "   venue_category_Bakery  venue_category_Bar  venue_category_Beer Bar  \\\n",
       "0                      0                   0                        0   \n",
       "1                      0                   0                        0   \n",
       "2                      0                   0                        0   \n",
       "3                      0                   0                        0   \n",
       "4                      0                   0                        0   \n",
       "\n",
       "   venue_category_Beer Garden  venue_category_Beer Store  \\\n",
       "0                           0                          0   \n",
       "1                           0                          0   \n",
       "2                           0                          0   \n",
       "3                           0                          0   \n",
       "4                           0                          0   \n",
       "\n",
       "   venue_category_Bike Rental / Bike Share  venue_category_Bistro  \\\n",
       "0                                        0                      0   \n",
       "1                                        0                      0   \n",
       "2                                        0                      0   \n",
       "3                                        0                      0   \n",
       "4                                        0                      0   \n",
       "\n",
       "   venue_category_Bookstore  venue_category_Breakfast Spot  \\\n",
       "0                         0                              0   \n",
       "1                         0                              0   \n",
       "2                         0                              0   \n",
       "3                         0                              0   \n",
       "4                         0                              0   \n",
       "\n",
       "   venue_category_Café  venue_category_Canal  \\\n",
       "0                    0                     0   \n",
       "1                    0                     1   \n",
       "2                    0                     0   \n",
       "3                    0                     0   \n",
       "4                    1                     0   \n",
       "\n",
       "   venue_category_Caucasian Restaurant  venue_category_Climbing Gym  \\\n",
       "0                                    0                            0   \n",
       "1                                    0                            0   \n",
       "2                                    0                            0   \n",
       "3                                    0                            0   \n",
       "4                                    0                            0   \n",
       "\n",
       "   venue_category_Cocktail Bar  venue_category_Coffee Shop  \\\n",
       "0                            0                           0   \n",
       "1                            0                           0   \n",
       "2                            0                           0   \n",
       "3                            0                           0   \n",
       "4                            0                           0   \n",
       "\n",
       "   venue_category_Concert Hall  venue_category_Event Space  \\\n",
       "0                            0                           0   \n",
       "1                            0                           0   \n",
       "2                            0                           0   \n",
       "3                            0                           0   \n",
       "4                            0                           0   \n",
       "\n",
       "   venue_category_Falafel Restaurant  venue_category_Farmers Market  \\\n",
       "0                                  0                              0   \n",
       "1                                  0                              0   \n",
       "2                                  0                              0   \n",
       "3                                  0                              0   \n",
       "4                                  0                              0   \n",
       "\n",
       "   venue_category_Food Court  venue_category_Forest  \\\n",
       "0                          0                      0   \n",
       "1                          0                      0   \n",
       "2                          0                      0   \n",
       "3                          0                      0   \n",
       "4                          0                      0   \n",
       "\n",
       "   venue_category_French Restaurant  venue_category_Gourmet Shop  \\\n",
       "0                                 0                            0   \n",
       "1                                 0                            0   \n",
       "2                                 0                            0   \n",
       "3                                 0                            0   \n",
       "4                                 0                            0   \n",
       "\n",
       "   venue_category_Hostel  venue_category_Hotel  venue_category_Ice Cream Shop  \\\n",
       "0                      0                     0                              0   \n",
       "1                      0                     0                              0   \n",
       "2                      0                     0                              0   \n",
       "3                      0                     0                              0   \n",
       "4                      0                     0                              0   \n",
       "\n",
       "   venue_category_Indie Movie Theater  venue_category_Indie Theater  \\\n",
       "0                                   0                             0   \n",
       "1                                   0                             0   \n",
       "2                                   0                             0   \n",
       "3                                   0                             0   \n",
       "4                                   0                             0   \n",
       "\n",
       "   venue_category_Juice Bar  venue_category_Karaoke Bar  \\\n",
       "0                         0                           0   \n",
       "1                         0                           0   \n",
       "2                         0                           0   \n",
       "3                         0                           0   \n",
       "4                         0                           0   \n",
       "\n",
       "   venue_category_Korean Restaurant  venue_category_Mediterranean Restaurant  \\\n",
       "0                                 0                                        0   \n",
       "1                                 0                                        0   \n",
       "2                                 0                                        0   \n",
       "3                                 0                                        0   \n",
       "4                                 0                                        0   \n",
       "\n",
       "   venue_category_Monument / Landmark  venue_category_Mountain  \\\n",
       "0                                   0                        0   \n",
       "1                                   0                        0   \n",
       "2                                   0                        0   \n",
       "3                                   0                        0   \n",
       "4                                   0                        0   \n",
       "\n",
       "   venue_category_Museum  venue_category_Music Venue  venue_category_Park  \\\n",
       "0                      0                           0                    1   \n",
       "1                      0                           0                    0   \n",
       "2                      0                           0                    0   \n",
       "3                      0                           0                    1   \n",
       "4                      0                           0                    0   \n",
       "\n",
       "   venue_category_Pizza Place  venue_category_Plaza  \\\n",
       "0                           0                     0   \n",
       "1                           0                     0   \n",
       "2                           0                     0   \n",
       "3                           0                     0   \n",
       "4                           0                     0   \n",
       "\n",
       "   venue_category_Scenic Lookout  venue_category_Spa  \\\n",
       "0                              0                   0   \n",
       "1                              0                   0   \n",
       "2                              0                   0   \n",
       "3                              0                   0   \n",
       "4                              0                   0   \n",
       "\n",
       "   venue_category_Spanish Restaurant  \\\n",
       "0                                  0   \n",
       "1                                  0   \n",
       "2                                  0   \n",
       "3                                  0   \n",
       "4                                  0   \n",
       "\n",
       "   venue_category_Vegetarian / Vegan Restaurant  venue_category_Whisky Bar  \\\n",
       "0                                             0                          0   \n",
       "1                                             0                          0   \n",
       "2                                             0                          0   \n",
       "3                                             0                          0   \n",
       "4                                             0                          0   \n",
       "\n",
       "   venue_category_Wine Bar  \n",
       "0                        0  \n",
       "1                        0  \n",
       "2                        0  \n",
       "3                        0  \n",
       "4                        0  "
      ]
     },
     "execution_count": 27,
     "metadata": {},
     "output_type": "execute_result"
    }
   ],
   "source": [
    "berlin_dummies = pd.get_dummies(df_berlin[['venue_category']])\n",
    "berlin_dummies['city'] = df_berlin['city']\n",
    "cols = list(berlin_dummies.columns)\n",
    "cols = [cols[-1]] + cols[:-1]\n",
    "berlin_dummies = berlin_dummies[cols]\n",
    "berlin_dummies.head()"
   ]
  },
  {
   "cell_type": "code",
   "execution_count": 28,
   "metadata": {},
   "outputs": [
    {
     "data": {
      "text/plain": [
       "(100, 50)"
      ]
     },
     "execution_count": 28,
     "metadata": {},
     "output_type": "execute_result"
    }
   ],
   "source": [
    "berlin_dummies.shape"
   ]
  },
  {
   "cell_type": "code",
   "execution_count": 29,
   "metadata": {},
   "outputs": [
    {
     "data": {
      "text/plain": [
       "13"
      ]
     },
     "execution_count": 29,
     "metadata": {},
     "output_type": "execute_result"
    }
   ],
   "source": [
    "berlin_dummies['venue_category_Park'].sum()"
   ]
  },
  {
   "cell_type": "markdown",
   "metadata": {},
   "source": [
    "## Define a function that collects all the venues of the capital cities of Europe"
   ]
  },
  {
   "cell_type": "code",
   "execution_count": 30,
   "metadata": {},
   "outputs": [],
   "source": [
    "def venue_collector(lst, lim=100):\n",
    "    \n",
    "    '''This function collects the venues of a list of cities from the Foursquare API\n",
    "    and returns the results as a Pandas DataFrame'''\n",
    "    \n",
    "    # Foursquare API\n",
    "    client_id = os.getenv('FOURSQUARE_CLIENT_ID')\n",
    "    client_secret = os.getenv('FOURSQUARE_CLIENT_SECRET')\n",
    "    version = '20180323'\n",
    "    \n",
    "    list_of_dfs = []\n",
    "    \n",
    "    for city in lst:\n",
    "        \n",
    "        url = 'https://api.foursquare.com/v2/venues/explore'\n",
    "\n",
    "        params = (dict(\n",
    "            client_id=client_id,\n",
    "            client_secret=client_secret,\n",
    "            v=version,\n",
    "            near=city,\n",
    "            limit=lim\n",
    "        ))\n",
    "    \n",
    "        resp = requests.get(url=url, params=params)\n",
    "    \n",
    "        venues = resp.json()\n",
    "        \n",
    "        # number of results of the API response\n",
    "        n_results = venues['response']['totalResults']\n",
    "    \n",
    "        # get the venue names\n",
    "        v_name_list = []\n",
    "        for j in range(lim if lim < n_results else n_results): # use the num of results if its less than the limit\n",
    "            v_name = venues['response']['groups'][0]['items'][j]['venue']['name']\n",
    "            v_name_list.append(v_name)\n",
    "    \n",
    "        # get the venue categories\n",
    "        v_cat_name_list = []\n",
    "        for k in range(lim if lim < n_results else n_results):\n",
    "            v_cat_name = venues['response']['groups'][0]['items'][k]['venue']['categories'][0]['name']\n",
    "            v_cat_name_list.append(v_cat_name)\n",
    "    \n",
    "        # create a dictionary\n",
    "        dict_city = {'city': city, \n",
    "                       'venue_name': v_name_list, \n",
    "                       'venue_category': v_cat_name_list}\n",
    "    \n",
    "        # create a DateFrame\n",
    "        df_city = pd.DataFrame(dict_city)\n",
    "        \n",
    "        # append it the the list of DataFrames\n",
    "        list_of_dfs.append(df_city)\n",
    "    \n",
    "    # concatenate all DataFrames\n",
    "    df = pd.concat(list_of_dfs).reset_index(drop=True)\n",
    "    \n",
    "    return df"
   ]
  },
  {
   "cell_type": "markdown",
   "metadata": {},
   "source": [
    "## Test the function"
   ]
  },
  {
   "cell_type": "code",
   "execution_count": 39,
   "metadata": {},
   "outputs": [],
   "source": [
    "test_cap_cities_europe = ['Amsterdam',\n",
    "                          'Athens',\n",
    "                          'Andorra la Vella',\n",
    "                          'Belgrade',\n",
    "                          'Berlin',\n",
    "                          'Bern']"
   ]
  },
  {
   "cell_type": "code",
   "execution_count": 40,
   "metadata": {},
   "outputs": [
    {
     "data": {
      "text/html": [
       "<div>\n",
       "<style scoped>\n",
       "    .dataframe tbody tr th:only-of-type {\n",
       "        vertical-align: middle;\n",
       "    }\n",
       "\n",
       "    .dataframe tbody tr th {\n",
       "        vertical-align: top;\n",
       "    }\n",
       "\n",
       "    .dataframe thead th {\n",
       "        text-align: right;\n",
       "    }\n",
       "</style>\n",
       "<table border=\"1\" class=\"dataframe\">\n",
       "  <thead>\n",
       "    <tr style=\"text-align: right;\">\n",
       "      <th></th>\n",
       "      <th>city</th>\n",
       "      <th>venue_name</th>\n",
       "      <th>venue_category</th>\n",
       "    </tr>\n",
       "  </thead>\n",
       "  <tbody>\n",
       "    <tr>\n",
       "      <th>0</th>\n",
       "      <td>Amsterdam</td>\n",
       "      <td>Vondelpark</td>\n",
       "      <td>Park</td>\n",
       "    </tr>\n",
       "    <tr>\n",
       "      <th>1</th>\n",
       "      <td>Amsterdam</td>\n",
       "      <td>Amsterdamse Grachten</td>\n",
       "      <td>Canal</td>\n",
       "    </tr>\n",
       "    <tr>\n",
       "      <th>2</th>\n",
       "      <td>Amsterdam</td>\n",
       "      <td>Concerto Records</td>\n",
       "      <td>Record Shop</td>\n",
       "    </tr>\n",
       "    <tr>\n",
       "      <th>3</th>\n",
       "      <td>Amsterdam</td>\n",
       "      <td>Zoku</td>\n",
       "      <td>Hotel</td>\n",
       "    </tr>\n",
       "    <tr>\n",
       "      <th>4</th>\n",
       "      <td>Amsterdam</td>\n",
       "      <td>Margherita Tutta La Vita!</td>\n",
       "      <td>Pizza Place</td>\n",
       "    </tr>\n",
       "  </tbody>\n",
       "</table>\n",
       "</div>"
      ],
      "text/plain": [
       "        city                 venue_name venue_category\n",
       "0  Amsterdam                 Vondelpark           Park\n",
       "1  Amsterdam       Amsterdamse Grachten          Canal\n",
       "2  Amsterdam           Concerto Records    Record Shop\n",
       "3  Amsterdam                       Zoku          Hotel\n",
       "4  Amsterdam  Margherita Tutta La Vita!    Pizza Place"
      ]
     },
     "execution_count": 40,
     "metadata": {},
     "output_type": "execute_result"
    }
   ],
   "source": [
    "test_cap_venues = venue_collector(test_cap_cities_europe)\n",
    "\n",
    "test_cap_venues.head()"
   ]
  },
  {
   "cell_type": "markdown",
   "metadata": {},
   "source": [
    "## Run the function on all the capital cities of Europe"
   ]
  },
  {
   "cell_type": "code",
   "execution_count": 41,
   "metadata": {},
   "outputs": [],
   "source": [
    "cap_cities_europe = ['Amsterdam',\n",
    "                     'Andorra la Vella',\n",
    "                     'Athens',\n",
    "                     'Belgrade',\n",
    "                     'Berlin',\n",
    "                     'Bern',\n",
    "                     'Bratislava',\n",
    "                     'Brussels',\n",
    "                     'Bucharest',\n",
    "                     'Budapest',\n",
    "                     'Chisinau',\n",
    "                     'Copenhagen',\n",
    "                     'Dublin',\n",
    "                     'Helsinki',\n",
    "                     'Kiev',\n",
    "                     'Lisbon',\n",
    "                     'Ljubljana',\n",
    "                     'London',\n",
    "                     'Luxembourg',\n",
    "                     'Madrid',\n",
    "                     'Minsk',\n",
    "                     'Monaco',\n",
    "                     'Moscow',\n",
    "                     'Nicosia',\n",
    "                     'Nuuk',\n",
    "                     'Oslo',\n",
    "                     'Paris',\n",
    "                     'Podgorica',\n",
    "                     'Prague',\n",
    "                     'Reykjavik',\n",
    "                     'Riga',\n",
    "                     'Rome',\n",
    "                     'San Marino',\n",
    "                     'Sarajevo',\n",
    "                     'Skopje',\n",
    "                     'Sofia',\n",
    "                     'Stockholm',\n",
    "                     'Tallinn',\n",
    "                     'Tirana',\n",
    "                     'Vaduz',\n",
    "                     'Valletta',\n",
    "                     'Vatican City',\n",
    "                     'Vienna',\n",
    "                     'Vilnius',\n",
    "                     'Warsaw',\n",
    "                     'Zagreb'] # 'Zurich'"
   ]
  },
  {
   "cell_type": "code",
   "execution_count": 42,
   "metadata": {},
   "outputs": [
    {
     "data": {
      "text/plain": [
       "46"
      ]
     },
     "execution_count": 42,
     "metadata": {},
     "output_type": "execute_result"
    }
   ],
   "source": [
    "len(cap_cities_europe)"
   ]
  },
  {
   "cell_type": "code",
   "execution_count": 43,
   "metadata": {},
   "outputs": [],
   "source": [
    "cap_cities_europe_venues = venue_collector(cap_cities_europe)"
   ]
  },
  {
   "cell_type": "code",
   "execution_count": 44,
   "metadata": {},
   "outputs": [
    {
     "name": "stdout",
     "output_type": "stream",
     "text": [
      "<class 'pandas.core.frame.DataFrame'>\n",
      "RangeIndex: 4314 entries, 0 to 4313\n",
      "Data columns (total 3 columns):\n",
      " #   Column          Non-Null Count  Dtype \n",
      "---  ------          --------------  ----- \n",
      " 0   city            4314 non-null   object\n",
      " 1   venue_name      4314 non-null   object\n",
      " 2   venue_category  4314 non-null   object\n",
      "dtypes: object(3)\n",
      "memory usage: 101.2+ KB\n"
     ]
    }
   ],
   "source": [
    "cap_cities_europe_venues.info()"
   ]
  },
  {
   "cell_type": "code",
   "execution_count": 45,
   "metadata": {},
   "outputs": [
    {
     "data": {
      "text/html": [
       "<div>\n",
       "<style scoped>\n",
       "    .dataframe tbody tr th:only-of-type {\n",
       "        vertical-align: middle;\n",
       "    }\n",
       "\n",
       "    .dataframe tbody tr th {\n",
       "        vertical-align: top;\n",
       "    }\n",
       "\n",
       "    .dataframe thead th {\n",
       "        text-align: right;\n",
       "    }\n",
       "</style>\n",
       "<table border=\"1\" class=\"dataframe\">\n",
       "  <thead>\n",
       "    <tr style=\"text-align: right;\">\n",
       "      <th></th>\n",
       "      <th>city</th>\n",
       "      <th>venue_name</th>\n",
       "      <th>venue_category</th>\n",
       "    </tr>\n",
       "  </thead>\n",
       "  <tbody>\n",
       "    <tr>\n",
       "      <th>0</th>\n",
       "      <td>Amsterdam</td>\n",
       "      <td>Vondelpark</td>\n",
       "      <td>Park</td>\n",
       "    </tr>\n",
       "    <tr>\n",
       "      <th>1</th>\n",
       "      <td>Amsterdam</td>\n",
       "      <td>Amsterdamse Grachten</td>\n",
       "      <td>Canal</td>\n",
       "    </tr>\n",
       "    <tr>\n",
       "      <th>2</th>\n",
       "      <td>Amsterdam</td>\n",
       "      <td>Concerto Records</td>\n",
       "      <td>Record Shop</td>\n",
       "    </tr>\n",
       "    <tr>\n",
       "      <th>3</th>\n",
       "      <td>Amsterdam</td>\n",
       "      <td>Zoku</td>\n",
       "      <td>Hotel</td>\n",
       "    </tr>\n",
       "    <tr>\n",
       "      <th>4</th>\n",
       "      <td>Amsterdam</td>\n",
       "      <td>Margherita Tutta La Vita!</td>\n",
       "      <td>Pizza Place</td>\n",
       "    </tr>\n",
       "  </tbody>\n",
       "</table>\n",
       "</div>"
      ],
      "text/plain": [
       "        city                 venue_name venue_category\n",
       "0  Amsterdam                 Vondelpark           Park\n",
       "1  Amsterdam       Amsterdamse Grachten          Canal\n",
       "2  Amsterdam           Concerto Records    Record Shop\n",
       "3  Amsterdam                       Zoku          Hotel\n",
       "4  Amsterdam  Margherita Tutta La Vita!    Pizza Place"
      ]
     },
     "execution_count": 45,
     "metadata": {},
     "output_type": "execute_result"
    }
   ],
   "source": [
    "cap_cities_europe_venues.head()"
   ]
  },
  {
   "cell_type": "markdown",
   "metadata": {},
   "source": [
    "## Check and clear the venue categories"
   ]
  },
  {
   "cell_type": "code",
   "execution_count": 46,
   "metadata": {},
   "outputs": [],
   "source": [
    "df1 = cap_cities_europe_venues.copy()"
   ]
  },
  {
   "cell_type": "code",
   "execution_count": 47,
   "metadata": {},
   "outputs": [
    {
     "data": {
      "text/plain": [
       "Park                   277\n",
       "Café                   203\n",
       "Hotel                  194\n",
       "Coffee Shop            185\n",
       "Restaurant             130\n",
       "                      ... \n",
       "Paella Restaurant        1\n",
       "Basketball Court         1\n",
       "Garden Center            1\n",
       "Filipino Restaurant      1\n",
       "Comic Shop               1\n",
       "Name: venue_category, Length: 355, dtype: int64"
      ]
     },
     "execution_count": 47,
     "metadata": {},
     "output_type": "execute_result"
    }
   ],
   "source": [
    "df1['venue_category'].value_counts()"
   ]
  },
  {
   "cell_type": "code",
   "execution_count": 48,
   "metadata": {},
   "outputs": [
    {
     "data": {
      "text/plain": [
       "355"
      ]
     },
     "execution_count": 48,
     "metadata": {},
     "output_type": "execute_result"
    }
   ],
   "source": [
    "df1['venue_category'].nunique()"
   ]
  },
  {
   "cell_type": "code",
   "execution_count": 49,
   "metadata": {},
   "outputs": [
    {
     "data": {
      "text/plain": [
       "array(['Park', 'Canal', 'Record Shop', 'Hotel', 'Pizza Place', 'Hostel',\n",
       "       'French Restaurant', 'Yoga Studio', 'Wine Bar', 'Cocktail Bar',\n",
       "       'Concert Hall', 'Coffee Shop', 'Brewery', 'Breakfast Spot', 'Pub',\n",
       "       'Garden', 'Bakery', 'Theater', 'Deli / Bodega', 'Dance Studio',\n",
       "       'Distillery', 'Event Space', 'Plaza', 'Bookstore', 'Dessert Shop',\n",
       "       'Sandwich Place', 'Turkish Restaurant', 'Museum', 'Gastropub',\n",
       "       'Farmers Market', 'Bistro', 'Art Museum', 'Tour Provider',\n",
       "       'Liquor Store', 'Music Venue', 'Café', 'Cycle Studio',\n",
       "       'Monument / Landmark', 'Beer Bar', 'Caribbean Restaurant',\n",
       "       'Multiplex', 'Grocery Store', 'Ice Cream Shop',\n",
       "       'Falafel Restaurant', 'Restaurant', 'Japanese Restaurant', 'Bar',\n",
       "       'Supermarket', 'Movie Theater', 'Marijuana Dispensary',\n",
       "       'Italian Restaurant', 'Indie Movie Theater', 'Cheese Shop',\n",
       "       'BBQ Joint', 'Chocolate Shop', 'Design Studio',\n",
       "       'Comfort Food Restaurant', 'Arcade', 'Lounge',\n",
       "       'Spanish Restaurant', 'Public Art', 'Paella Restaurant',\n",
       "       'Sporting Goods Shop', 'Mediterranean Restaurant',\n",
       "       'Vegetarian / Vegan Restaurant', 'Tapas Restaurant', 'Spa',\n",
       "       'Resort', 'Basketball Court', 'Stadium', 'Mexican Restaurant',\n",
       "       'Shopping Mall', 'Miscellaneous Shop', 'Historic Site',\n",
       "       'Swiss Restaurant', 'Food & Drink Shop', 'Lingerie Store',\n",
       "       'Buffet', 'Gym', 'Udon Restaurant', 'Gym / Fitness Center',\n",
       "       'Electronics Store', 'Clothing Store', 'Nightclub', 'Food',\n",
       "       'Burger Joint', 'Sushi Restaurant', 'Boutique', 'Gourmet Shop',\n",
       "       'Art Gallery', 'Jewelry Store', 'Pedestrian Plaza', 'Kafenio',\n",
       "       'Opera House', 'History Museum', 'Middle Eastern Restaurant',\n",
       "       'Mountain', 'Meze Restaurant', 'Other Great Outdoors', 'Pharmacy',\n",
       "       'Souvlaki Shop', 'Cretan Restaurant', 'Hill',\n",
       "       'Fast Food Restaurant', 'Performing Arts Venue', 'Track Stadium',\n",
       "       'Pie Shop', 'Greek Restaurant', 'Creperie', 'Whisky Bar',\n",
       "       'Grilled Meat Restaurant', 'Castle', 'Trail', 'Forest',\n",
       "       'Candy Store', 'Pool', 'Diner', 'Sports Bar', 'Jazz Club', 'Track',\n",
       "       'Sausage Shop', 'Cultural Center', 'Seafood Restaurant',\n",
       "       'Furniture / Home Store', 'Snack Place',\n",
       "       'Eastern European Restaurant', 'Dog Run', 'Climbing Gym',\n",
       "       'Arts & Crafts Store', 'Korean Restaurant', 'Austrian Restaurant',\n",
       "       'Juice Bar', 'Indie Theater', 'Beer Garden', 'Karaoke Bar',\n",
       "       'Food Court', 'Beer Store', 'Scenic Lookout',\n",
       "       'Caucasian Restaurant', 'Bike Rental / Bike Share', 'Bathing Area',\n",
       "       'Zoo', 'Cupcake Shop', 'Convention Center', 'Water Park',\n",
       "       'Steakhouse', 'Science Museum', 'Hotel Bar', 'Bagel Shop',\n",
       "       'Church', 'Department Store', 'Food Truck',\n",
       "       'Vietnamese Restaurant', 'Thai Restaurant', 'Soup Place',\n",
       "       'Indian Restaurant', 'Speakeasy', 'Go Kart Track',\n",
       "       'Asian Restaurant', 'Lake', 'Pastry Shop', 'Neighborhood',\n",
       "       'Taco Place', 'Tea Room', 'Salad Place', 'Gaming Cafe',\n",
       "       'Persian Restaurant', 'Laser Tag', 'Fish & Chips Shop',\n",
       "       'Flower Shop', 'Shoe Store', 'Ethiopian Restaurant',\n",
       "       'Food Service', 'Thrift / Vintage Store', 'Comedy Club',\n",
       "       'Belgian Restaurant', 'Camera Store', 'Soccer Stadium',\n",
       "       'American Restaurant', 'Cosmetics Shop', 'Squash Court',\n",
       "       'Monastery', 'Used Bookstore', 'Roof Deck', 'Accessories Store',\n",
       "       'Salon / Barbershop', 'Government Building', 'Kebab Restaurant',\n",
       "       'Island', 'Beach', 'Capitol Building', 'Beach Bar', 'Fountain',\n",
       "       'Airport', 'Szechuan Restaurant', 'Bike Shop', 'Field',\n",
       "       'College Arts Building', 'Wine Shop', 'Outdoor Sculpture',\n",
       "       'Toy / Game Store', 'Modern European Restaurant',\n",
       "       'Sculpture Garden', 'Gift Shop', 'Souvenir Shop',\n",
       "       'Romanian Restaurant', 'Ballroom', 'Health & Beauty Service',\n",
       "       'Optical Shop', 'Hookah Bar', 'Czech Restaurant', 'Donut Shop',\n",
       "       'Harbor / Marina', 'Playground', 'Botanical Garden',\n",
       "       'Scandinavian Restaurant', 'Theme Park', 'Street Food Gathering',\n",
       "       'Library', 'Pier', 'Cemetery', 'Comic Shop', 'Golf Course',\n",
       "       'Garden Center', 'Recreation Center', 'Ramen Restaurant',\n",
       "       'Automotive Shop', 'Discount Store', 'Swim School',\n",
       "       'Southern / Soul Food Restaurant', 'Chinese Restaurant',\n",
       "       'Irish Pub', 'Dive Bar', 'Hawaiian Restaurant', 'Football Stadium',\n",
       "       'Gas Station', 'Hardware Store', 'Sauna / Steam Room', 'Bridge',\n",
       "       'South American Restaurant', 'Non-Profit',\n",
       "       'Theme Park Ride / Attraction', 'Portuguese Restaurant',\n",
       "       'Waterfront', 'Road', 'Filipino Restaurant', 'Tennis Court',\n",
       "       'Board Shop', 'Soccer Field', 'Fish Market', 'Paintball Field',\n",
       "       'Athletics & Sports', 'Perfume Shop', 'Photography Studio',\n",
       "       'Tatar Restaurant', 'Sports Club', 'Drive-in Theater',\n",
       "       'General Entertainment', 'Market', 'Aquarium',\n",
       "       'Argentinian Restaurant', 'Food Stand', 'Palace',\n",
       "       'Nature Preserve', 'Cricket Ground', 'Fruit & Vegetable Store',\n",
       "       'Shopping Plaza', 'Latin American Restaurant', 'Skate Park',\n",
       "       'Frozen Yogurt Shop', 'Lebanese Restaurant', 'Cable Car',\n",
       "       'Gymnastics Gym', 'Venezuelan Restaurant', 'Mobile Phone Shop',\n",
       "       'Pet Store', 'Exhibit', 'IT Services', 'Big Box Store',\n",
       "       'Reservoir', 'City Hall', 'Peruvian Restaurant', 'Casino',\n",
       "       'Heliport', 'Shop & Service', 'Racetrack', 'Watch Shop',\n",
       "       'Train Station', 'Surf Spot', 'Adult Boutique', 'Tennis Stadium',\n",
       "       'Canal Lock', 'Skating Rink', 'Pelmeni House', 'Wings Joint',\n",
       "       'Organic Grocery', 'Syrian Restaurant', 'Meyhane',\n",
       "       'Gluten-free Restaurant', 'Other Nightlife', 'Ski Lodge',\n",
       "       'Stables', 'Ski Area', 'Tailor Shop', 'Bubble Tea Shop',\n",
       "       'Israeli Restaurant', 'Vineyard', 'Office', 'German Restaurant',\n",
       "       'Bowling Alley', 'Boarding House', 'Auto Dealership',\n",
       "       'Zoo Exhibit', 'Butcher', 'Paper / Office Supplies Store',\n",
       "       'Noodle House', 'Hot Dog Joint', \"Men's Store\", 'Lighthouse',\n",
       "       'Martial Arts Dojo', 'Gay Bar', 'Outdoor Event Space',\n",
       "       'Hobby Shop', 'Supplement Shop', 'Temple', 'Auditorium',\n",
       "       'Shipping Store', 'Bank', 'Dumpling Restaurant', 'Motel',\n",
       "       'Antique Shop', 'Bed & Breakfast', 'Coworking Space',\n",
       "       'Massage Studio', 'Winery', 'Bulgarian Restaurant',\n",
       "       'National Park', 'Waterfall', 'Salsa Club', 'Tanning Salon',\n",
       "       'Poke Place', 'Boxing Gym', 'Strip Club',\n",
       "       'Tourist Information Center', 'Bus Station', 'Mini Golf',\n",
       "       'Trattoria/Osteria', 'Platform', 'Hungarian Restaurant',\n",
       "       'College Library', 'Polish Restaurant', 'Russian Restaurant',\n",
       "       'Burrito Place', 'Tiki Bar', 'Dim Sum Restaurant'], dtype=object)"
      ]
     },
     "execution_count": 49,
     "metadata": {},
     "output_type": "execute_result"
    }
   ],
   "source": [
    "df1['venue_category'].unique()"
   ]
  },
  {
   "cell_type": "markdown",
   "metadata": {},
   "source": [
    "**create a new column and standardize the categories**"
   ]
  },
  {
   "cell_type": "code",
   "execution_count": 50,
   "metadata": {},
   "outputs": [
    {
     "data": {
      "text/html": [
       "<div>\n",
       "<style scoped>\n",
       "    .dataframe tbody tr th:only-of-type {\n",
       "        vertical-align: middle;\n",
       "    }\n",
       "\n",
       "    .dataframe tbody tr th {\n",
       "        vertical-align: top;\n",
       "    }\n",
       "\n",
       "    .dataframe thead th {\n",
       "        text-align: right;\n",
       "    }\n",
       "</style>\n",
       "<table border=\"1\" class=\"dataframe\">\n",
       "  <thead>\n",
       "    <tr style=\"text-align: right;\">\n",
       "      <th></th>\n",
       "      <th>city</th>\n",
       "      <th>venue_name</th>\n",
       "      <th>venue_category</th>\n",
       "      <th>venue_cat_standard</th>\n",
       "    </tr>\n",
       "  </thead>\n",
       "  <tbody>\n",
       "    <tr>\n",
       "      <th>0</th>\n",
       "      <td>Amsterdam</td>\n",
       "      <td>Vondelpark</td>\n",
       "      <td>Park</td>\n",
       "      <td>Park</td>\n",
       "    </tr>\n",
       "    <tr>\n",
       "      <th>1</th>\n",
       "      <td>Amsterdam</td>\n",
       "      <td>Amsterdamse Grachten</td>\n",
       "      <td>Canal</td>\n",
       "      <td>Canal</td>\n",
       "    </tr>\n",
       "    <tr>\n",
       "      <th>2</th>\n",
       "      <td>Amsterdam</td>\n",
       "      <td>Concerto Records</td>\n",
       "      <td>Record Shop</td>\n",
       "      <td>Record Shop</td>\n",
       "    </tr>\n",
       "    <tr>\n",
       "      <th>3</th>\n",
       "      <td>Amsterdam</td>\n",
       "      <td>Zoku</td>\n",
       "      <td>Hotel</td>\n",
       "      <td>Hotel</td>\n",
       "    </tr>\n",
       "    <tr>\n",
       "      <th>4</th>\n",
       "      <td>Amsterdam</td>\n",
       "      <td>Margherita Tutta La Vita!</td>\n",
       "      <td>Pizza Place</td>\n",
       "      <td>Pizza Place</td>\n",
       "    </tr>\n",
       "  </tbody>\n",
       "</table>\n",
       "</div>"
      ],
      "text/plain": [
       "        city                 venue_name venue_category venue_cat_standard\n",
       "0  Amsterdam                 Vondelpark           Park               Park\n",
       "1  Amsterdam       Amsterdamse Grachten          Canal              Canal\n",
       "2  Amsterdam           Concerto Records    Record Shop        Record Shop\n",
       "3  Amsterdam                       Zoku          Hotel              Hotel\n",
       "4  Amsterdam  Margherita Tutta La Vita!    Pizza Place        Pizza Place"
      ]
     },
     "execution_count": 50,
     "metadata": {},
     "output_type": "execute_result"
    }
   ],
   "source": [
    "df2 = df1.copy()\n",
    "df2['venue_cat_standard'] = df2['venue_category']\n",
    "df2.head()"
   ]
  },
  {
   "cell_type": "code",
   "execution_count": 51,
   "metadata": {},
   "outputs": [],
   "source": [
    "# 1. Restaurant\n",
    "df2.loc[df2['venue_cat_standard'].str.contains('Restaurant'), 'venue_cat_standard'] = 'Restaurant'\n",
    "\n",
    "# 2. Museum\n",
    "df2.loc[df2['venue_cat_standard'].str.contains('Museum'), 'venue_cat_standard'] = 'Museum'\n",
    "\n",
    "# 3. Club\n",
    "df2.loc[df2['venue_cat_standard'].str.contains('Club'), 'venue_cat_standard'] = 'Club'\n",
    "\n",
    "# 3. Bar\n",
    "df2.loc[df2['venue_cat_standard'].str.contains('Bar'), 'venue_cat_standard'] = 'Bar'\n",
    "\n",
    "# 4. Cafe\n",
    "df2.loc[df2['venue_cat_standard'].str.contains('Cafe'), 'venue_cat_standard'] = 'Café'"
   ]
  },
  {
   "cell_type": "code",
   "execution_count": 52,
   "metadata": {},
   "outputs": [
    {
     "data": {
      "text/plain": [
       "Restaurant            760\n",
       "Bar                   343\n",
       "Park                  277\n",
       "Café                  207\n",
       "Hotel                 194\n",
       "                     ... \n",
       "Frozen Yogurt Shop      1\n",
       "Aquarium                1\n",
       "Roof Deck               1\n",
       "Food Service            1\n",
       "Drive-in Theater        1\n",
       "Name: venue_cat_standard, Length: 269, dtype: int64"
      ]
     },
     "execution_count": 52,
     "metadata": {},
     "output_type": "execute_result"
    }
   ],
   "source": [
    "df2['venue_cat_standard'].value_counts()"
   ]
  },
  {
   "cell_type": "code",
   "execution_count": 53,
   "metadata": {},
   "outputs": [
    {
     "data": {
      "text/plain": [
       "269"
      ]
     },
     "execution_count": 53,
     "metadata": {},
     "output_type": "execute_result"
    }
   ],
   "source": [
    "df2['venue_cat_standard'].nunique()"
   ]
  },
  {
   "cell_type": "code",
   "execution_count": 54,
   "metadata": {},
   "outputs": [
    {
     "data": {
      "text/plain": [
       "array(['Park', 'Canal', 'Record Shop', 'Hotel', 'Pizza Place', 'Hostel',\n",
       "       'Restaurant', 'Yoga Studio', 'Bar', 'Concert Hall', 'Coffee Shop',\n",
       "       'Brewery', 'Breakfast Spot', 'Pub', 'Garden', 'Bakery', 'Theater',\n",
       "       'Deli / Bodega', 'Dance Studio', 'Distillery', 'Event Space',\n",
       "       'Plaza', 'Bookstore', 'Dessert Shop', 'Sandwich Place', 'Museum',\n",
       "       'Gastropub', 'Farmers Market', 'Bistro', 'Tour Provider',\n",
       "       'Liquor Store', 'Music Venue', 'Café', 'Cycle Studio',\n",
       "       'Monument / Landmark', 'Multiplex', 'Grocery Store',\n",
       "       'Ice Cream Shop', 'Supermarket', 'Movie Theater',\n",
       "       'Marijuana Dispensary', 'Indie Movie Theater', 'Cheese Shop',\n",
       "       'BBQ Joint', 'Chocolate Shop', 'Design Studio', 'Arcade', 'Lounge',\n",
       "       'Public Art', 'Sporting Goods Shop', 'Spa', 'Resort',\n",
       "       'Basketball Court', 'Stadium', 'Shopping Mall',\n",
       "       'Miscellaneous Shop', 'Historic Site', 'Food & Drink Shop',\n",
       "       'Lingerie Store', 'Buffet', 'Gym', 'Gym / Fitness Center',\n",
       "       'Electronics Store', 'Clothing Store', 'Nightclub', 'Food',\n",
       "       'Burger Joint', 'Boutique', 'Gourmet Shop', 'Art Gallery',\n",
       "       'Jewelry Store', 'Pedestrian Plaza', 'Kafenio', 'Opera House',\n",
       "       'Mountain', 'Other Great Outdoors', 'Pharmacy', 'Souvlaki Shop',\n",
       "       'Hill', 'Performing Arts Venue', 'Track Stadium', 'Pie Shop',\n",
       "       'Creperie', 'Castle', 'Trail', 'Forest', 'Candy Store', 'Pool',\n",
       "       'Diner', 'Club', 'Track', 'Sausage Shop', 'Cultural Center',\n",
       "       'Furniture / Home Store', 'Snack Place', 'Dog Run', 'Climbing Gym',\n",
       "       'Arts & Crafts Store', 'Indie Theater', 'Beer Garden',\n",
       "       'Food Court', 'Beer Store', 'Scenic Lookout',\n",
       "       'Bike Rental / Bike Share', 'Bathing Area', 'Zoo', 'Cupcake Shop',\n",
       "       'Convention Center', 'Water Park', 'Steakhouse', 'Bagel Shop',\n",
       "       'Church', 'Department Store', 'Food Truck', 'Soup Place',\n",
       "       'Speakeasy', 'Go Kart Track', 'Lake', 'Pastry Shop',\n",
       "       'Neighborhood', 'Taco Place', 'Tea Room', 'Salad Place',\n",
       "       'Laser Tag', 'Fish & Chips Shop', 'Flower Shop', 'Shoe Store',\n",
       "       'Food Service', 'Thrift / Vintage Store', 'Camera Store',\n",
       "       'Soccer Stadium', 'Cosmetics Shop', 'Squash Court', 'Monastery',\n",
       "       'Used Bookstore', 'Roof Deck', 'Accessories Store',\n",
       "       'Government Building', 'Island', 'Beach', 'Capitol Building',\n",
       "       'Fountain', 'Airport', 'Bike Shop', 'Field',\n",
       "       'College Arts Building', 'Wine Shop', 'Outdoor Sculpture',\n",
       "       'Toy / Game Store', 'Sculpture Garden', 'Gift Shop',\n",
       "       'Souvenir Shop', 'Ballroom', 'Health & Beauty Service',\n",
       "       'Optical Shop', 'Donut Shop', 'Harbor / Marina', 'Playground',\n",
       "       'Botanical Garden', 'Theme Park', 'Street Food Gathering',\n",
       "       'Library', 'Pier', 'Cemetery', 'Comic Shop', 'Golf Course',\n",
       "       'Garden Center', 'Recreation Center', 'Automotive Shop',\n",
       "       'Discount Store', 'Swim School', 'Irish Pub', 'Football Stadium',\n",
       "       'Gas Station', 'Hardware Store', 'Sauna / Steam Room', 'Bridge',\n",
       "       'Non-Profit', 'Theme Park Ride / Attraction', 'Waterfront', 'Road',\n",
       "       'Tennis Court', 'Board Shop', 'Soccer Field', 'Fish Market',\n",
       "       'Paintball Field', 'Athletics & Sports', 'Perfume Shop',\n",
       "       'Photography Studio', 'Drive-in Theater', 'General Entertainment',\n",
       "       'Market', 'Aquarium', 'Food Stand', 'Palace', 'Nature Preserve',\n",
       "       'Cricket Ground', 'Fruit & Vegetable Store', 'Shopping Plaza',\n",
       "       'Skate Park', 'Frozen Yogurt Shop', 'Cable Car', 'Gymnastics Gym',\n",
       "       'Mobile Phone Shop', 'Pet Store', 'Exhibit', 'IT Services',\n",
       "       'Big Box Store', 'Reservoir', 'City Hall', 'Casino', 'Heliport',\n",
       "       'Shop & Service', 'Racetrack', 'Watch Shop', 'Train Station',\n",
       "       'Surf Spot', 'Adult Boutique', 'Tennis Stadium', 'Canal Lock',\n",
       "       'Skating Rink', 'Pelmeni House', 'Wings Joint', 'Organic Grocery',\n",
       "       'Meyhane', 'Other Nightlife', 'Ski Lodge', 'Stables', 'Ski Area',\n",
       "       'Tailor Shop', 'Bubble Tea Shop', 'Vineyard', 'Office',\n",
       "       'Bowling Alley', 'Boarding House', 'Auto Dealership',\n",
       "       'Zoo Exhibit', 'Butcher', 'Paper / Office Supplies Store',\n",
       "       'Noodle House', 'Hot Dog Joint', \"Men's Store\", 'Lighthouse',\n",
       "       'Martial Arts Dojo', 'Outdoor Event Space', 'Hobby Shop',\n",
       "       'Supplement Shop', 'Temple', 'Auditorium', 'Shipping Store',\n",
       "       'Bank', 'Motel', 'Antique Shop', 'Bed & Breakfast',\n",
       "       'Coworking Space', 'Massage Studio', 'Winery', 'National Park',\n",
       "       'Waterfall', 'Tanning Salon', 'Poke Place', 'Boxing Gym',\n",
       "       'Tourist Information Center', 'Bus Station', 'Mini Golf',\n",
       "       'Trattoria/Osteria', 'Platform', 'College Library',\n",
       "       'Burrito Place'], dtype=object)"
      ]
     },
     "execution_count": 54,
     "metadata": {},
     "output_type": "execute_result"
    }
   ],
   "source": [
    "df2['venue_cat_standard'].unique()"
   ]
  },
  {
   "cell_type": "code",
   "execution_count": 55,
   "metadata": {},
   "outputs": [
    {
     "data": {
      "text/html": [
       "<div>\n",
       "<style scoped>\n",
       "    .dataframe tbody tr th:only-of-type {\n",
       "        vertical-align: middle;\n",
       "    }\n",
       "\n",
       "    .dataframe tbody tr th {\n",
       "        vertical-align: top;\n",
       "    }\n",
       "\n",
       "    .dataframe thead th {\n",
       "        text-align: right;\n",
       "    }\n",
       "</style>\n",
       "<table border=\"1\" class=\"dataframe\">\n",
       "  <thead>\n",
       "    <tr style=\"text-align: right;\">\n",
       "      <th></th>\n",
       "      <th>city</th>\n",
       "      <th>venue_name</th>\n",
       "      <th>venue_category</th>\n",
       "      <th>venue_cat_standard</th>\n",
       "    </tr>\n",
       "  </thead>\n",
       "  <tbody>\n",
       "    <tr>\n",
       "      <th>0</th>\n",
       "      <td>Amsterdam</td>\n",
       "      <td>Vondelpark</td>\n",
       "      <td>Park</td>\n",
       "      <td>Park</td>\n",
       "    </tr>\n",
       "    <tr>\n",
       "      <th>1</th>\n",
       "      <td>Amsterdam</td>\n",
       "      <td>Amsterdamse Grachten</td>\n",
       "      <td>Canal</td>\n",
       "      <td>Canal</td>\n",
       "    </tr>\n",
       "    <tr>\n",
       "      <th>2</th>\n",
       "      <td>Amsterdam</td>\n",
       "      <td>Concerto Records</td>\n",
       "      <td>Record Shop</td>\n",
       "      <td>Record Shop</td>\n",
       "    </tr>\n",
       "    <tr>\n",
       "      <th>3</th>\n",
       "      <td>Amsterdam</td>\n",
       "      <td>Zoku</td>\n",
       "      <td>Hotel</td>\n",
       "      <td>Hotel</td>\n",
       "    </tr>\n",
       "    <tr>\n",
       "      <th>4</th>\n",
       "      <td>Amsterdam</td>\n",
       "      <td>Margherita Tutta La Vita!</td>\n",
       "      <td>Pizza Place</td>\n",
       "      <td>Pizza Place</td>\n",
       "    </tr>\n",
       "  </tbody>\n",
       "</table>\n",
       "</div>"
      ],
      "text/plain": [
       "        city                 venue_name venue_category venue_cat_standard\n",
       "0  Amsterdam                 Vondelpark           Park               Park\n",
       "1  Amsterdam       Amsterdamse Grachten          Canal              Canal\n",
       "2  Amsterdam           Concerto Records    Record Shop        Record Shop\n",
       "3  Amsterdam                       Zoku          Hotel              Hotel\n",
       "4  Amsterdam  Margherita Tutta La Vita!    Pizza Place        Pizza Place"
      ]
     },
     "execution_count": 55,
     "metadata": {},
     "output_type": "execute_result"
    }
   ],
   "source": [
    "df2.head()"
   ]
  },
  {
   "cell_type": "markdown",
   "metadata": {},
   "source": [
    "## Group by cities and venue categories"
   ]
  },
  {
   "cell_type": "code",
   "execution_count": 56,
   "metadata": {},
   "outputs": [],
   "source": [
    "df3 = df2.copy()"
   ]
  },
  {
   "cell_type": "code",
   "execution_count": 57,
   "metadata": {},
   "outputs": [],
   "source": [
    "df3['venue_cat_count'] = 1"
   ]
  },
  {
   "cell_type": "code",
   "execution_count": 58,
   "metadata": {},
   "outputs": [
    {
     "data": {
      "text/html": [
       "<div>\n",
       "<style scoped>\n",
       "    .dataframe tbody tr th:only-of-type {\n",
       "        vertical-align: middle;\n",
       "    }\n",
       "\n",
       "    .dataframe tbody tr th {\n",
       "        vertical-align: top;\n",
       "    }\n",
       "\n",
       "    .dataframe thead th {\n",
       "        text-align: right;\n",
       "    }\n",
       "</style>\n",
       "<table border=\"1\" class=\"dataframe\">\n",
       "  <thead>\n",
       "    <tr style=\"text-align: right;\">\n",
       "      <th></th>\n",
       "      <th>city</th>\n",
       "      <th>venue_name</th>\n",
       "      <th>venue_category</th>\n",
       "      <th>venue_cat_standard</th>\n",
       "      <th>venue_cat_count</th>\n",
       "    </tr>\n",
       "  </thead>\n",
       "  <tbody>\n",
       "    <tr>\n",
       "      <th>0</th>\n",
       "      <td>Amsterdam</td>\n",
       "      <td>Vondelpark</td>\n",
       "      <td>Park</td>\n",
       "      <td>Park</td>\n",
       "      <td>1</td>\n",
       "    </tr>\n",
       "    <tr>\n",
       "      <th>1</th>\n",
       "      <td>Amsterdam</td>\n",
       "      <td>Amsterdamse Grachten</td>\n",
       "      <td>Canal</td>\n",
       "      <td>Canal</td>\n",
       "      <td>1</td>\n",
       "    </tr>\n",
       "    <tr>\n",
       "      <th>2</th>\n",
       "      <td>Amsterdam</td>\n",
       "      <td>Concerto Records</td>\n",
       "      <td>Record Shop</td>\n",
       "      <td>Record Shop</td>\n",
       "      <td>1</td>\n",
       "    </tr>\n",
       "    <tr>\n",
       "      <th>3</th>\n",
       "      <td>Amsterdam</td>\n",
       "      <td>Zoku</td>\n",
       "      <td>Hotel</td>\n",
       "      <td>Hotel</td>\n",
       "      <td>1</td>\n",
       "    </tr>\n",
       "    <tr>\n",
       "      <th>4</th>\n",
       "      <td>Amsterdam</td>\n",
       "      <td>Margherita Tutta La Vita!</td>\n",
       "      <td>Pizza Place</td>\n",
       "      <td>Pizza Place</td>\n",
       "      <td>1</td>\n",
       "    </tr>\n",
       "  </tbody>\n",
       "</table>\n",
       "</div>"
      ],
      "text/plain": [
       "        city                 venue_name venue_category venue_cat_standard  \\\n",
       "0  Amsterdam                 Vondelpark           Park               Park   \n",
       "1  Amsterdam       Amsterdamse Grachten          Canal              Canal   \n",
       "2  Amsterdam           Concerto Records    Record Shop        Record Shop   \n",
       "3  Amsterdam                       Zoku          Hotel              Hotel   \n",
       "4  Amsterdam  Margherita Tutta La Vita!    Pizza Place        Pizza Place   \n",
       "\n",
       "   venue_cat_count  \n",
       "0                1  \n",
       "1                1  \n",
       "2                1  \n",
       "3                1  \n",
       "4                1  "
      ]
     },
     "execution_count": 58,
     "metadata": {},
     "output_type": "execute_result"
    }
   ],
   "source": [
    "df3.head()"
   ]
  },
  {
   "cell_type": "code",
   "execution_count": 59,
   "metadata": {},
   "outputs": [
    {
     "data": {
      "text/plain": [
       "city                  0\n",
       "venue_name            0\n",
       "venue_category        0\n",
       "venue_cat_standard    0\n",
       "venue_cat_count       0\n",
       "dtype: int64"
      ]
     },
     "execution_count": 59,
     "metadata": {},
     "output_type": "execute_result"
    }
   ],
   "source": [
    "df3.isna().sum()"
   ]
  },
  {
   "cell_type": "code",
   "execution_count": 60,
   "metadata": {},
   "outputs": [
    {
     "data": {
      "text/plain": [
       "355"
      ]
     },
     "execution_count": 60,
     "metadata": {},
     "output_type": "execute_result"
    }
   ],
   "source": [
    "df3['venue_category'].nunique()"
   ]
  },
  {
   "cell_type": "code",
   "execution_count": 61,
   "metadata": {},
   "outputs": [
    {
     "data": {
      "text/plain": [
       "269"
      ]
     },
     "execution_count": 61,
     "metadata": {},
     "output_type": "execute_result"
    }
   ],
   "source": [
    "df3['venue_cat_standard'].nunique()"
   ]
  },
  {
   "cell_type": "code",
   "execution_count": 62,
   "metadata": {},
   "outputs": [],
   "source": [
    "df3 = df3.groupby(['city', 'venue_cat_standard']).agg({'venue_cat_count': 'sum'})"
   ]
  },
  {
   "cell_type": "code",
   "execution_count": 63,
   "metadata": {},
   "outputs": [],
   "source": [
    "df3 = df3.reset_index()"
   ]
  },
  {
   "cell_type": "code",
   "execution_count": 64,
   "metadata": {},
   "outputs": [
    {
     "data": {
      "text/html": [
       "<div>\n",
       "<style scoped>\n",
       "    .dataframe tbody tr th:only-of-type {\n",
       "        vertical-align: middle;\n",
       "    }\n",
       "\n",
       "    .dataframe tbody tr th {\n",
       "        vertical-align: top;\n",
       "    }\n",
       "\n",
       "    .dataframe thead th {\n",
       "        text-align: right;\n",
       "    }\n",
       "</style>\n",
       "<table border=\"1\" class=\"dataframe\">\n",
       "  <thead>\n",
       "    <tr style=\"text-align: right;\">\n",
       "      <th></th>\n",
       "      <th>city</th>\n",
       "      <th>venue_cat_standard</th>\n",
       "      <th>venue_cat_count</th>\n",
       "    </tr>\n",
       "  </thead>\n",
       "  <tbody>\n",
       "    <tr>\n",
       "      <th>0</th>\n",
       "      <td>Amsterdam</td>\n",
       "      <td>Arcade</td>\n",
       "      <td>1</td>\n",
       "    </tr>\n",
       "    <tr>\n",
       "      <th>1</th>\n",
       "      <td>Amsterdam</td>\n",
       "      <td>BBQ Joint</td>\n",
       "      <td>1</td>\n",
       "    </tr>\n",
       "    <tr>\n",
       "      <th>2</th>\n",
       "      <td>Amsterdam</td>\n",
       "      <td>Bakery</td>\n",
       "      <td>2</td>\n",
       "    </tr>\n",
       "    <tr>\n",
       "      <th>3</th>\n",
       "      <td>Amsterdam</td>\n",
       "      <td>Bar</td>\n",
       "      <td>7</td>\n",
       "    </tr>\n",
       "    <tr>\n",
       "      <th>4</th>\n",
       "      <td>Amsterdam</td>\n",
       "      <td>Bistro</td>\n",
       "      <td>1</td>\n",
       "    </tr>\n",
       "  </tbody>\n",
       "</table>\n",
       "</div>"
      ],
      "text/plain": [
       "        city venue_cat_standard  venue_cat_count\n",
       "0  Amsterdam             Arcade                1\n",
       "1  Amsterdam          BBQ Joint                1\n",
       "2  Amsterdam             Bakery                2\n",
       "3  Amsterdam                Bar                7\n",
       "4  Amsterdam             Bistro                1"
      ]
     },
     "execution_count": 64,
     "metadata": {},
     "output_type": "execute_result"
    }
   ],
   "source": [
    "df3.head()"
   ]
  },
  {
   "cell_type": "code",
   "execution_count": 66,
   "metadata": {},
   "outputs": [
    {
     "data": {
      "text/html": [
       "<div>\n",
       "<style scoped>\n",
       "    .dataframe tbody tr th:only-of-type {\n",
       "        vertical-align: middle;\n",
       "    }\n",
       "\n",
       "    .dataframe tbody tr th {\n",
       "        vertical-align: top;\n",
       "    }\n",
       "\n",
       "    .dataframe thead th {\n",
       "        text-align: right;\n",
       "    }\n",
       "</style>\n",
       "<table border=\"1\" class=\"dataframe\">\n",
       "  <thead>\n",
       "    <tr style=\"text-align: right;\">\n",
       "      <th></th>\n",
       "      <th>venue_cat_count</th>\n",
       "    </tr>\n",
       "  </thead>\n",
       "  <tbody>\n",
       "    <tr>\n",
       "      <th>count</th>\n",
       "      <td>1762.000000</td>\n",
       "    </tr>\n",
       "    <tr>\n",
       "      <th>mean</th>\n",
       "      <td>2.448354</td>\n",
       "    </tr>\n",
       "    <tr>\n",
       "      <th>std</th>\n",
       "      <td>3.520992</td>\n",
       "    </tr>\n",
       "    <tr>\n",
       "      <th>min</th>\n",
       "      <td>1.000000</td>\n",
       "    </tr>\n",
       "    <tr>\n",
       "      <th>25%</th>\n",
       "      <td>1.000000</td>\n",
       "    </tr>\n",
       "    <tr>\n",
       "      <th>50%</th>\n",
       "      <td>1.000000</td>\n",
       "    </tr>\n",
       "    <tr>\n",
       "      <th>75%</th>\n",
       "      <td>2.000000</td>\n",
       "    </tr>\n",
       "    <tr>\n",
       "      <th>max</th>\n",
       "      <td>34.000000</td>\n",
       "    </tr>\n",
       "  </tbody>\n",
       "</table>\n",
       "</div>"
      ],
      "text/plain": [
       "       venue_cat_count\n",
       "count      1762.000000\n",
       "mean          2.448354\n",
       "std           3.520992\n",
       "min           1.000000\n",
       "25%           1.000000\n",
       "50%           1.000000\n",
       "75%           2.000000\n",
       "max          34.000000"
      ]
     },
     "execution_count": 66,
     "metadata": {},
     "output_type": "execute_result"
    }
   ],
   "source": [
    "df3.describe()"
   ]
  },
  {
   "cell_type": "markdown",
   "metadata": {},
   "source": [
    "**Check if the number of parks in Berlin is still 13**"
   ]
  },
  {
   "cell_type": "code",
   "execution_count": null,
   "metadata": {},
   "outputs": [],
   "source": [
    "df3[(df3['city'] == 'Berlin') & (df3['venue_cat_standard'] == 'Park')]"
   ]
  },
  {
   "cell_type": "markdown",
   "metadata": {},
   "source": [
    "## Tranform the venue categories to columns"
   ]
  },
  {
   "cell_type": "code",
   "execution_count": null,
   "metadata": {},
   "outputs": [],
   "source": [
    "df4 = df3.copy()"
   ]
  },
  {
   "cell_type": "code",
   "execution_count": null,
   "metadata": {},
   "outputs": [],
   "source": [
    "df4 = df4.pivot(index='city', columns='venue_cat_standard', values='venue_cat_count')"
   ]
  },
  {
   "cell_type": "code",
   "execution_count": null,
   "metadata": {},
   "outputs": [],
   "source": [
    "df4.shape"
   ]
  },
  {
   "cell_type": "code",
   "execution_count": null,
   "metadata": {},
   "outputs": [],
   "source": [
    "df4.head()"
   ]
  },
  {
   "cell_type": "code",
   "execution_count": null,
   "metadata": {},
   "outputs": [],
   "source": [
    "df4 = df4.reset_index()"
   ]
  },
  {
   "cell_type": "code",
   "execution_count": null,
   "metadata": {},
   "outputs": [],
   "source": [
    "df4.head()"
   ]
  },
  {
   "cell_type": "code",
   "execution_count": null,
   "metadata": {},
   "outputs": [],
   "source": [
    "df4.tail()"
   ]
  },
  {
   "cell_type": "code",
   "execution_count": null,
   "metadata": {},
   "outputs": [],
   "source": [
    "df4.info()"
   ]
  },
  {
   "cell_type": "markdown",
   "metadata": {},
   "source": [
    "## Export to JSON format"
   ]
  },
  {
   "cell_type": "code",
   "execution_count": null,
   "metadata": {},
   "outputs": [],
   "source": [
    "df4.to_json('../data/Foursquare_venues_data.json')"
   ]
  },
  {
   "cell_type": "code",
   "execution_count": null,
   "metadata": {},
   "outputs": [],
   "source": [
    "check = pd.read_json('../data/Foursquare_venues_data.json')\n",
    "check.head()"
   ]
  },
  {
   "cell_type": "code",
   "execution_count": null,
   "metadata": {},
   "outputs": [],
   "source": []
  }
 ],
 "metadata": {
  "kernelspec": {
   "display_name": "Python 3",
   "language": "python",
   "name": "python3"
  },
  "language_info": {
   "codemirror_mode": {
    "name": "ipython",
    "version": 3
   },
   "file_extension": ".py",
   "mimetype": "text/x-python",
   "name": "python",
   "nbconvert_exporter": "python",
   "pygments_lexer": "ipython3",
   "version": "3.8.3"
  }
 },
 "nbformat": 4,
 "nbformat_minor": 4
}
